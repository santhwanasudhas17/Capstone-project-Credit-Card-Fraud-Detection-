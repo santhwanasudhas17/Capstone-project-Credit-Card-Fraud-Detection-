{
 "cells": [
  {
   "cell_type": "markdown",
   "metadata": {},
   "source": [
    "# Credit Card Fraud Detection\n",
    "\n",
    "<b>Business Objective:</b> Fraud detection has been one of the major challenge in banking industry. The challenge is that if the fraudulent activities are un-noticed then the bank ends up with huge financial losses, trust and credibility and this is a concerning issue to both banks and customers alike. \n",
    "\n",
    "Objective is to recognize fraudulent credit card transactions so that customers are not charged for items that they did not purchase. This model is then used to identify whether a new transaction is fraudulent or not. Our aim here is to detect as much of the fraudulent transactions as possible, while minimizing the incorrect fraud classifications.\n",
    "\n",
    "<u><b>Project Pipeline:</b></u>\n",
    "\n",
    "- Data Understanding\n",
    "    - Importing necessary libraries\n",
    "    - Loading the data\n",
    "- Exploratory Data Analysis\n",
    "    - Checking for Null Values\n",
    "    - Distribution of Non-Fradulent and Fradulent classes\n",
    "    - Checking if the the data is imbalanced or not\n",
    "    - Univariant Analysis on the class variable with other variables\n",
    "    - Dropping the unnecassary variables\n",
    "- Train/Test data Split\n",
    "- Feature Scaling (Continous variable)\n",
    "- Checking for skewness of the data by plotting the distribution of variables\n",
    "- Model Building / Hyperparameter Tuning. Will be building different models with;\n",
    "    - imbalanced Dataset\n",
    "    - Balanced Dataset\n",
    "- Model Evaluation"
   ]
  },
  {
   "cell_type": "markdown",
   "metadata": {},
   "source": [
    "## Data Understanding\n",
    "Importing the necessary libraries and apply univariate and multivariate analysis."
   ]
  },
  {
   "cell_type": "code",
   "execution_count": 1,
   "metadata": {},
   "outputs": [],
   "source": [
    "import warnings\n",
    "warnings.filterwarnings('ignore')\n",
    "\n",
    "import numpy as np\n",
    "import pandas as pd\n",
    "import matplotlib.pyplot as plt\n",
    "%matplotlib inline\n",
    "import seaborn as sns\n",
    "\n",
    "from sklearn import metrics\n",
    "from sklearn import preprocessing\n",
    "\n",
    "# Load the library for splitting the data\n",
    "from sklearn.model_selection import train_test_split\n",
    "\n",
    "# To view all columns and rows\n",
    "pd.set_option('display.max_columns', None)\n",
    "pd.set_option('display.max_rows', None)"
   ]
  },
  {
   "cell_type": "code",
   "execution_count": 2,
   "metadata": {},
   "outputs": [
    {
     "data": {
      "text/html": [
       "<div>\n",
       "<style scoped>\n",
       "    .dataframe tbody tr th:only-of-type {\n",
       "        vertical-align: middle;\n",
       "    }\n",
       "\n",
       "    .dataframe tbody tr th {\n",
       "        vertical-align: top;\n",
       "    }\n",
       "\n",
       "    .dataframe thead th {\n",
       "        text-align: right;\n",
       "    }\n",
       "</style>\n",
       "<table border=\"1\" class=\"dataframe\">\n",
       "  <thead>\n",
       "    <tr style=\"text-align: right;\">\n",
       "      <th></th>\n",
       "      <th>Time</th>\n",
       "      <th>V1</th>\n",
       "      <th>V2</th>\n",
       "      <th>V3</th>\n",
       "      <th>V4</th>\n",
       "      <th>V5</th>\n",
       "      <th>V6</th>\n",
       "      <th>V7</th>\n",
       "      <th>V8</th>\n",
       "      <th>V9</th>\n",
       "      <th>V10</th>\n",
       "      <th>V11</th>\n",
       "      <th>V12</th>\n",
       "      <th>V13</th>\n",
       "      <th>V14</th>\n",
       "      <th>V15</th>\n",
       "      <th>V16</th>\n",
       "      <th>V17</th>\n",
       "      <th>V18</th>\n",
       "      <th>V19</th>\n",
       "      <th>V20</th>\n",
       "      <th>V21</th>\n",
       "      <th>V22</th>\n",
       "      <th>V23</th>\n",
       "      <th>V24</th>\n",
       "      <th>V25</th>\n",
       "      <th>V26</th>\n",
       "      <th>V27</th>\n",
       "      <th>V28</th>\n",
       "      <th>Amount</th>\n",
       "      <th>Class</th>\n",
       "    </tr>\n",
       "  </thead>\n",
       "  <tbody>\n",
       "    <tr>\n",
       "      <th>0</th>\n",
       "      <td>0.0</td>\n",
       "      <td>-1.359807</td>\n",
       "      <td>-0.072781</td>\n",
       "      <td>2.536347</td>\n",
       "      <td>1.378155</td>\n",
       "      <td>-0.338321</td>\n",
       "      <td>0.462388</td>\n",
       "      <td>0.239599</td>\n",
       "      <td>0.098698</td>\n",
       "      <td>0.363787</td>\n",
       "      <td>0.090794</td>\n",
       "      <td>-0.551600</td>\n",
       "      <td>-0.617801</td>\n",
       "      <td>-0.991390</td>\n",
       "      <td>-0.311169</td>\n",
       "      <td>1.468177</td>\n",
       "      <td>-0.470401</td>\n",
       "      <td>0.207971</td>\n",
       "      <td>0.025791</td>\n",
       "      <td>0.403993</td>\n",
       "      <td>0.251412</td>\n",
       "      <td>-0.018307</td>\n",
       "      <td>0.277838</td>\n",
       "      <td>-0.110474</td>\n",
       "      <td>0.066928</td>\n",
       "      <td>0.128539</td>\n",
       "      <td>-0.189115</td>\n",
       "      <td>0.133558</td>\n",
       "      <td>-0.021053</td>\n",
       "      <td>149.62</td>\n",
       "      <td>0</td>\n",
       "    </tr>\n",
       "    <tr>\n",
       "      <th>1</th>\n",
       "      <td>0.0</td>\n",
       "      <td>1.191857</td>\n",
       "      <td>0.266151</td>\n",
       "      <td>0.166480</td>\n",
       "      <td>0.448154</td>\n",
       "      <td>0.060018</td>\n",
       "      <td>-0.082361</td>\n",
       "      <td>-0.078803</td>\n",
       "      <td>0.085102</td>\n",
       "      <td>-0.255425</td>\n",
       "      <td>-0.166974</td>\n",
       "      <td>1.612727</td>\n",
       "      <td>1.065235</td>\n",
       "      <td>0.489095</td>\n",
       "      <td>-0.143772</td>\n",
       "      <td>0.635558</td>\n",
       "      <td>0.463917</td>\n",
       "      <td>-0.114805</td>\n",
       "      <td>-0.183361</td>\n",
       "      <td>-0.145783</td>\n",
       "      <td>-0.069083</td>\n",
       "      <td>-0.225775</td>\n",
       "      <td>-0.638672</td>\n",
       "      <td>0.101288</td>\n",
       "      <td>-0.339846</td>\n",
       "      <td>0.167170</td>\n",
       "      <td>0.125895</td>\n",
       "      <td>-0.008983</td>\n",
       "      <td>0.014724</td>\n",
       "      <td>2.69</td>\n",
       "      <td>0</td>\n",
       "    </tr>\n",
       "    <tr>\n",
       "      <th>2</th>\n",
       "      <td>1.0</td>\n",
       "      <td>-1.358354</td>\n",
       "      <td>-1.340163</td>\n",
       "      <td>1.773209</td>\n",
       "      <td>0.379780</td>\n",
       "      <td>-0.503198</td>\n",
       "      <td>1.800499</td>\n",
       "      <td>0.791461</td>\n",
       "      <td>0.247676</td>\n",
       "      <td>-1.514654</td>\n",
       "      <td>0.207643</td>\n",
       "      <td>0.624501</td>\n",
       "      <td>0.066084</td>\n",
       "      <td>0.717293</td>\n",
       "      <td>-0.165946</td>\n",
       "      <td>2.345865</td>\n",
       "      <td>-2.890083</td>\n",
       "      <td>1.109969</td>\n",
       "      <td>-0.121359</td>\n",
       "      <td>-2.261857</td>\n",
       "      <td>0.524980</td>\n",
       "      <td>0.247998</td>\n",
       "      <td>0.771679</td>\n",
       "      <td>0.909412</td>\n",
       "      <td>-0.689281</td>\n",
       "      <td>-0.327642</td>\n",
       "      <td>-0.139097</td>\n",
       "      <td>-0.055353</td>\n",
       "      <td>-0.059752</td>\n",
       "      <td>378.66</td>\n",
       "      <td>0</td>\n",
       "    </tr>\n",
       "    <tr>\n",
       "      <th>3</th>\n",
       "      <td>1.0</td>\n",
       "      <td>-0.966272</td>\n",
       "      <td>-0.185226</td>\n",
       "      <td>1.792993</td>\n",
       "      <td>-0.863291</td>\n",
       "      <td>-0.010309</td>\n",
       "      <td>1.247203</td>\n",
       "      <td>0.237609</td>\n",
       "      <td>0.377436</td>\n",
       "      <td>-1.387024</td>\n",
       "      <td>-0.054952</td>\n",
       "      <td>-0.226487</td>\n",
       "      <td>0.178228</td>\n",
       "      <td>0.507757</td>\n",
       "      <td>-0.287924</td>\n",
       "      <td>-0.631418</td>\n",
       "      <td>-1.059647</td>\n",
       "      <td>-0.684093</td>\n",
       "      <td>1.965775</td>\n",
       "      <td>-1.232622</td>\n",
       "      <td>-0.208038</td>\n",
       "      <td>-0.108300</td>\n",
       "      <td>0.005274</td>\n",
       "      <td>-0.190321</td>\n",
       "      <td>-1.175575</td>\n",
       "      <td>0.647376</td>\n",
       "      <td>-0.221929</td>\n",
       "      <td>0.062723</td>\n",
       "      <td>0.061458</td>\n",
       "      <td>123.50</td>\n",
       "      <td>0</td>\n",
       "    </tr>\n",
       "    <tr>\n",
       "      <th>4</th>\n",
       "      <td>2.0</td>\n",
       "      <td>-1.158233</td>\n",
       "      <td>0.877737</td>\n",
       "      <td>1.548718</td>\n",
       "      <td>0.403034</td>\n",
       "      <td>-0.407193</td>\n",
       "      <td>0.095921</td>\n",
       "      <td>0.592941</td>\n",
       "      <td>-0.270533</td>\n",
       "      <td>0.817739</td>\n",
       "      <td>0.753074</td>\n",
       "      <td>-0.822843</td>\n",
       "      <td>0.538196</td>\n",
       "      <td>1.345852</td>\n",
       "      <td>-1.119670</td>\n",
       "      <td>0.175121</td>\n",
       "      <td>-0.451449</td>\n",
       "      <td>-0.237033</td>\n",
       "      <td>-0.038195</td>\n",
       "      <td>0.803487</td>\n",
       "      <td>0.408542</td>\n",
       "      <td>-0.009431</td>\n",
       "      <td>0.798278</td>\n",
       "      <td>-0.137458</td>\n",
       "      <td>0.141267</td>\n",
       "      <td>-0.206010</td>\n",
       "      <td>0.502292</td>\n",
       "      <td>0.219422</td>\n",
       "      <td>0.215153</td>\n",
       "      <td>69.99</td>\n",
       "      <td>0</td>\n",
       "    </tr>\n",
       "  </tbody>\n",
       "</table>\n",
       "</div>"
      ],
      "text/plain": [
       "   Time        V1        V2        V3        V4        V5        V6        V7  \\\n",
       "0   0.0 -1.359807 -0.072781  2.536347  1.378155 -0.338321  0.462388  0.239599   \n",
       "1   0.0  1.191857  0.266151  0.166480  0.448154  0.060018 -0.082361 -0.078803   \n",
       "2   1.0 -1.358354 -1.340163  1.773209  0.379780 -0.503198  1.800499  0.791461   \n",
       "3   1.0 -0.966272 -0.185226  1.792993 -0.863291 -0.010309  1.247203  0.237609   \n",
       "4   2.0 -1.158233  0.877737  1.548718  0.403034 -0.407193  0.095921  0.592941   \n",
       "\n",
       "         V8        V9       V10       V11       V12       V13       V14  \\\n",
       "0  0.098698  0.363787  0.090794 -0.551600 -0.617801 -0.991390 -0.311169   \n",
       "1  0.085102 -0.255425 -0.166974  1.612727  1.065235  0.489095 -0.143772   \n",
       "2  0.247676 -1.514654  0.207643  0.624501  0.066084  0.717293 -0.165946   \n",
       "3  0.377436 -1.387024 -0.054952 -0.226487  0.178228  0.507757 -0.287924   \n",
       "4 -0.270533  0.817739  0.753074 -0.822843  0.538196  1.345852 -1.119670   \n",
       "\n",
       "        V15       V16       V17       V18       V19       V20       V21  \\\n",
       "0  1.468177 -0.470401  0.207971  0.025791  0.403993  0.251412 -0.018307   \n",
       "1  0.635558  0.463917 -0.114805 -0.183361 -0.145783 -0.069083 -0.225775   \n",
       "2  2.345865 -2.890083  1.109969 -0.121359 -2.261857  0.524980  0.247998   \n",
       "3 -0.631418 -1.059647 -0.684093  1.965775 -1.232622 -0.208038 -0.108300   \n",
       "4  0.175121 -0.451449 -0.237033 -0.038195  0.803487  0.408542 -0.009431   \n",
       "\n",
       "        V22       V23       V24       V25       V26       V27       V28  \\\n",
       "0  0.277838 -0.110474  0.066928  0.128539 -0.189115  0.133558 -0.021053   \n",
       "1 -0.638672  0.101288 -0.339846  0.167170  0.125895 -0.008983  0.014724   \n",
       "2  0.771679  0.909412 -0.689281 -0.327642 -0.139097 -0.055353 -0.059752   \n",
       "3  0.005274 -0.190321 -1.175575  0.647376 -0.221929  0.062723  0.061458   \n",
       "4  0.798278 -0.137458  0.141267 -0.206010  0.502292  0.219422  0.215153   \n",
       "\n",
       "   Amount  Class  \n",
       "0  149.62      0  \n",
       "1    2.69      0  \n",
       "2  378.66      0  \n",
       "3  123.50      0  \n",
       "4   69.99      0  "
      ]
     },
     "execution_count": 2,
     "metadata": {},
     "output_type": "execute_result"
    }
   ],
   "source": [
    "# Reading the Creditcard dataset\n",
    "CC_data = pd.read_csv('creditcard.csv')\n",
    "CC_data.head()"
   ]
  },
  {
   "cell_type": "markdown",
   "metadata": {},
   "source": [
    "## Exploratory Data Analysis"
   ]
  },
  {
   "cell_type": "code",
   "execution_count": 3,
   "metadata": {},
   "outputs": [
    {
     "data": {
      "text/html": [
       "<div>\n",
       "<style scoped>\n",
       "    .dataframe tbody tr th:only-of-type {\n",
       "        vertical-align: middle;\n",
       "    }\n",
       "\n",
       "    .dataframe tbody tr th {\n",
       "        vertical-align: top;\n",
       "    }\n",
       "\n",
       "    .dataframe thead th {\n",
       "        text-align: right;\n",
       "    }\n",
       "</style>\n",
       "<table border=\"1\" class=\"dataframe\">\n",
       "  <thead>\n",
       "    <tr style=\"text-align: right;\">\n",
       "      <th></th>\n",
       "      <th>Time</th>\n",
       "      <th>V1</th>\n",
       "      <th>V2</th>\n",
       "      <th>V3</th>\n",
       "      <th>V4</th>\n",
       "      <th>V5</th>\n",
       "      <th>V6</th>\n",
       "      <th>V7</th>\n",
       "      <th>V8</th>\n",
       "      <th>V9</th>\n",
       "      <th>V10</th>\n",
       "      <th>V11</th>\n",
       "      <th>V12</th>\n",
       "      <th>V13</th>\n",
       "      <th>V14</th>\n",
       "      <th>V15</th>\n",
       "      <th>V16</th>\n",
       "      <th>V17</th>\n",
       "      <th>V18</th>\n",
       "      <th>V19</th>\n",
       "      <th>V20</th>\n",
       "      <th>V21</th>\n",
       "      <th>V22</th>\n",
       "      <th>V23</th>\n",
       "      <th>V24</th>\n",
       "      <th>V25</th>\n",
       "      <th>V26</th>\n",
       "      <th>V27</th>\n",
       "      <th>V28</th>\n",
       "      <th>Amount</th>\n",
       "      <th>Class</th>\n",
       "    </tr>\n",
       "  </thead>\n",
       "  <tbody>\n",
       "    <tr>\n",
       "      <th>count</th>\n",
       "      <td>284807.000000</td>\n",
       "      <td>2.848070e+05</td>\n",
       "      <td>2.848070e+05</td>\n",
       "      <td>2.848070e+05</td>\n",
       "      <td>2.848070e+05</td>\n",
       "      <td>2.848070e+05</td>\n",
       "      <td>2.848070e+05</td>\n",
       "      <td>2.848070e+05</td>\n",
       "      <td>2.848070e+05</td>\n",
       "      <td>2.848070e+05</td>\n",
       "      <td>2.848070e+05</td>\n",
       "      <td>2.848070e+05</td>\n",
       "      <td>2.848070e+05</td>\n",
       "      <td>2.848070e+05</td>\n",
       "      <td>2.848070e+05</td>\n",
       "      <td>2.848070e+05</td>\n",
       "      <td>2.848070e+05</td>\n",
       "      <td>2.848070e+05</td>\n",
       "      <td>2.848070e+05</td>\n",
       "      <td>2.848070e+05</td>\n",
       "      <td>2.848070e+05</td>\n",
       "      <td>2.848070e+05</td>\n",
       "      <td>2.848070e+05</td>\n",
       "      <td>2.848070e+05</td>\n",
       "      <td>2.848070e+05</td>\n",
       "      <td>2.848070e+05</td>\n",
       "      <td>2.848070e+05</td>\n",
       "      <td>2.848070e+05</td>\n",
       "      <td>2.848070e+05</td>\n",
       "      <td>284807.000000</td>\n",
       "      <td>284807.000000</td>\n",
       "    </tr>\n",
       "    <tr>\n",
       "      <th>mean</th>\n",
       "      <td>94813.859575</td>\n",
       "      <td>3.919560e-15</td>\n",
       "      <td>5.688174e-16</td>\n",
       "      <td>-8.769071e-15</td>\n",
       "      <td>2.782312e-15</td>\n",
       "      <td>-1.552563e-15</td>\n",
       "      <td>2.010663e-15</td>\n",
       "      <td>-1.694249e-15</td>\n",
       "      <td>-1.927028e-16</td>\n",
       "      <td>-3.137024e-15</td>\n",
       "      <td>1.768627e-15</td>\n",
       "      <td>9.170318e-16</td>\n",
       "      <td>-1.810658e-15</td>\n",
       "      <td>1.693438e-15</td>\n",
       "      <td>1.479045e-15</td>\n",
       "      <td>3.482336e-15</td>\n",
       "      <td>1.392007e-15</td>\n",
       "      <td>-7.528491e-16</td>\n",
       "      <td>4.328772e-16</td>\n",
       "      <td>9.049732e-16</td>\n",
       "      <td>5.085503e-16</td>\n",
       "      <td>1.537294e-16</td>\n",
       "      <td>7.959909e-16</td>\n",
       "      <td>5.367590e-16</td>\n",
       "      <td>4.458112e-15</td>\n",
       "      <td>1.453003e-15</td>\n",
       "      <td>1.699104e-15</td>\n",
       "      <td>-3.660161e-16</td>\n",
       "      <td>-1.206049e-16</td>\n",
       "      <td>88.349619</td>\n",
       "      <td>0.001727</td>\n",
       "    </tr>\n",
       "    <tr>\n",
       "      <th>std</th>\n",
       "      <td>47488.145955</td>\n",
       "      <td>1.958696e+00</td>\n",
       "      <td>1.651309e+00</td>\n",
       "      <td>1.516255e+00</td>\n",
       "      <td>1.415869e+00</td>\n",
       "      <td>1.380247e+00</td>\n",
       "      <td>1.332271e+00</td>\n",
       "      <td>1.237094e+00</td>\n",
       "      <td>1.194353e+00</td>\n",
       "      <td>1.098632e+00</td>\n",
       "      <td>1.088850e+00</td>\n",
       "      <td>1.020713e+00</td>\n",
       "      <td>9.992014e-01</td>\n",
       "      <td>9.952742e-01</td>\n",
       "      <td>9.585956e-01</td>\n",
       "      <td>9.153160e-01</td>\n",
       "      <td>8.762529e-01</td>\n",
       "      <td>8.493371e-01</td>\n",
       "      <td>8.381762e-01</td>\n",
       "      <td>8.140405e-01</td>\n",
       "      <td>7.709250e-01</td>\n",
       "      <td>7.345240e-01</td>\n",
       "      <td>7.257016e-01</td>\n",
       "      <td>6.244603e-01</td>\n",
       "      <td>6.056471e-01</td>\n",
       "      <td>5.212781e-01</td>\n",
       "      <td>4.822270e-01</td>\n",
       "      <td>4.036325e-01</td>\n",
       "      <td>3.300833e-01</td>\n",
       "      <td>250.120109</td>\n",
       "      <td>0.041527</td>\n",
       "    </tr>\n",
       "    <tr>\n",
       "      <th>min</th>\n",
       "      <td>0.000000</td>\n",
       "      <td>-5.640751e+01</td>\n",
       "      <td>-7.271573e+01</td>\n",
       "      <td>-4.832559e+01</td>\n",
       "      <td>-5.683171e+00</td>\n",
       "      <td>-1.137433e+02</td>\n",
       "      <td>-2.616051e+01</td>\n",
       "      <td>-4.355724e+01</td>\n",
       "      <td>-7.321672e+01</td>\n",
       "      <td>-1.343407e+01</td>\n",
       "      <td>-2.458826e+01</td>\n",
       "      <td>-4.797473e+00</td>\n",
       "      <td>-1.868371e+01</td>\n",
       "      <td>-5.791881e+00</td>\n",
       "      <td>-1.921433e+01</td>\n",
       "      <td>-4.498945e+00</td>\n",
       "      <td>-1.412985e+01</td>\n",
       "      <td>-2.516280e+01</td>\n",
       "      <td>-9.498746e+00</td>\n",
       "      <td>-7.213527e+00</td>\n",
       "      <td>-5.449772e+01</td>\n",
       "      <td>-3.483038e+01</td>\n",
       "      <td>-1.093314e+01</td>\n",
       "      <td>-4.480774e+01</td>\n",
       "      <td>-2.836627e+00</td>\n",
       "      <td>-1.029540e+01</td>\n",
       "      <td>-2.604551e+00</td>\n",
       "      <td>-2.256568e+01</td>\n",
       "      <td>-1.543008e+01</td>\n",
       "      <td>0.000000</td>\n",
       "      <td>0.000000</td>\n",
       "    </tr>\n",
       "    <tr>\n",
       "      <th>25%</th>\n",
       "      <td>54201.500000</td>\n",
       "      <td>-9.203734e-01</td>\n",
       "      <td>-5.985499e-01</td>\n",
       "      <td>-8.903648e-01</td>\n",
       "      <td>-8.486401e-01</td>\n",
       "      <td>-6.915971e-01</td>\n",
       "      <td>-7.682956e-01</td>\n",
       "      <td>-5.540759e-01</td>\n",
       "      <td>-2.086297e-01</td>\n",
       "      <td>-6.430976e-01</td>\n",
       "      <td>-5.354257e-01</td>\n",
       "      <td>-7.624942e-01</td>\n",
       "      <td>-4.055715e-01</td>\n",
       "      <td>-6.485393e-01</td>\n",
       "      <td>-4.255740e-01</td>\n",
       "      <td>-5.828843e-01</td>\n",
       "      <td>-4.680368e-01</td>\n",
       "      <td>-4.837483e-01</td>\n",
       "      <td>-4.988498e-01</td>\n",
       "      <td>-4.562989e-01</td>\n",
       "      <td>-2.117214e-01</td>\n",
       "      <td>-2.283949e-01</td>\n",
       "      <td>-5.423504e-01</td>\n",
       "      <td>-1.618463e-01</td>\n",
       "      <td>-3.545861e-01</td>\n",
       "      <td>-3.171451e-01</td>\n",
       "      <td>-3.269839e-01</td>\n",
       "      <td>-7.083953e-02</td>\n",
       "      <td>-5.295979e-02</td>\n",
       "      <td>5.600000</td>\n",
       "      <td>0.000000</td>\n",
       "    </tr>\n",
       "    <tr>\n",
       "      <th>50%</th>\n",
       "      <td>84692.000000</td>\n",
       "      <td>1.810880e-02</td>\n",
       "      <td>6.548556e-02</td>\n",
       "      <td>1.798463e-01</td>\n",
       "      <td>-1.984653e-02</td>\n",
       "      <td>-5.433583e-02</td>\n",
       "      <td>-2.741871e-01</td>\n",
       "      <td>4.010308e-02</td>\n",
       "      <td>2.235804e-02</td>\n",
       "      <td>-5.142873e-02</td>\n",
       "      <td>-9.291738e-02</td>\n",
       "      <td>-3.275735e-02</td>\n",
       "      <td>1.400326e-01</td>\n",
       "      <td>-1.356806e-02</td>\n",
       "      <td>5.060132e-02</td>\n",
       "      <td>4.807155e-02</td>\n",
       "      <td>6.641332e-02</td>\n",
       "      <td>-6.567575e-02</td>\n",
       "      <td>-3.636312e-03</td>\n",
       "      <td>3.734823e-03</td>\n",
       "      <td>-6.248109e-02</td>\n",
       "      <td>-2.945017e-02</td>\n",
       "      <td>6.781943e-03</td>\n",
       "      <td>-1.119293e-02</td>\n",
       "      <td>4.097606e-02</td>\n",
       "      <td>1.659350e-02</td>\n",
       "      <td>-5.213911e-02</td>\n",
       "      <td>1.342146e-03</td>\n",
       "      <td>1.124383e-02</td>\n",
       "      <td>22.000000</td>\n",
       "      <td>0.000000</td>\n",
       "    </tr>\n",
       "    <tr>\n",
       "      <th>75%</th>\n",
       "      <td>139320.500000</td>\n",
       "      <td>1.315642e+00</td>\n",
       "      <td>8.037239e-01</td>\n",
       "      <td>1.027196e+00</td>\n",
       "      <td>7.433413e-01</td>\n",
       "      <td>6.119264e-01</td>\n",
       "      <td>3.985649e-01</td>\n",
       "      <td>5.704361e-01</td>\n",
       "      <td>3.273459e-01</td>\n",
       "      <td>5.971390e-01</td>\n",
       "      <td>4.539234e-01</td>\n",
       "      <td>7.395934e-01</td>\n",
       "      <td>6.182380e-01</td>\n",
       "      <td>6.625050e-01</td>\n",
       "      <td>4.931498e-01</td>\n",
       "      <td>6.488208e-01</td>\n",
       "      <td>5.232963e-01</td>\n",
       "      <td>3.996750e-01</td>\n",
       "      <td>5.008067e-01</td>\n",
       "      <td>4.589494e-01</td>\n",
       "      <td>1.330408e-01</td>\n",
       "      <td>1.863772e-01</td>\n",
       "      <td>5.285536e-01</td>\n",
       "      <td>1.476421e-01</td>\n",
       "      <td>4.395266e-01</td>\n",
       "      <td>3.507156e-01</td>\n",
       "      <td>2.409522e-01</td>\n",
       "      <td>9.104512e-02</td>\n",
       "      <td>7.827995e-02</td>\n",
       "      <td>77.165000</td>\n",
       "      <td>0.000000</td>\n",
       "    </tr>\n",
       "    <tr>\n",
       "      <th>max</th>\n",
       "      <td>172792.000000</td>\n",
       "      <td>2.454930e+00</td>\n",
       "      <td>2.205773e+01</td>\n",
       "      <td>9.382558e+00</td>\n",
       "      <td>1.687534e+01</td>\n",
       "      <td>3.480167e+01</td>\n",
       "      <td>7.330163e+01</td>\n",
       "      <td>1.205895e+02</td>\n",
       "      <td>2.000721e+01</td>\n",
       "      <td>1.559499e+01</td>\n",
       "      <td>2.374514e+01</td>\n",
       "      <td>1.201891e+01</td>\n",
       "      <td>7.848392e+00</td>\n",
       "      <td>7.126883e+00</td>\n",
       "      <td>1.052677e+01</td>\n",
       "      <td>8.877742e+00</td>\n",
       "      <td>1.731511e+01</td>\n",
       "      <td>9.253526e+00</td>\n",
       "      <td>5.041069e+00</td>\n",
       "      <td>5.591971e+00</td>\n",
       "      <td>3.942090e+01</td>\n",
       "      <td>2.720284e+01</td>\n",
       "      <td>1.050309e+01</td>\n",
       "      <td>2.252841e+01</td>\n",
       "      <td>4.584549e+00</td>\n",
       "      <td>7.519589e+00</td>\n",
       "      <td>3.517346e+00</td>\n",
       "      <td>3.161220e+01</td>\n",
       "      <td>3.384781e+01</td>\n",
       "      <td>25691.160000</td>\n",
       "      <td>1.000000</td>\n",
       "    </tr>\n",
       "  </tbody>\n",
       "</table>\n",
       "</div>"
      ],
      "text/plain": [
       "                Time            V1            V2            V3            V4  \\\n",
       "count  284807.000000  2.848070e+05  2.848070e+05  2.848070e+05  2.848070e+05   \n",
       "mean    94813.859575  3.919560e-15  5.688174e-16 -8.769071e-15  2.782312e-15   \n",
       "std     47488.145955  1.958696e+00  1.651309e+00  1.516255e+00  1.415869e+00   \n",
       "min         0.000000 -5.640751e+01 -7.271573e+01 -4.832559e+01 -5.683171e+00   \n",
       "25%     54201.500000 -9.203734e-01 -5.985499e-01 -8.903648e-01 -8.486401e-01   \n",
       "50%     84692.000000  1.810880e-02  6.548556e-02  1.798463e-01 -1.984653e-02   \n",
       "75%    139320.500000  1.315642e+00  8.037239e-01  1.027196e+00  7.433413e-01   \n",
       "max    172792.000000  2.454930e+00  2.205773e+01  9.382558e+00  1.687534e+01   \n",
       "\n",
       "                 V5            V6            V7            V8            V9  \\\n",
       "count  2.848070e+05  2.848070e+05  2.848070e+05  2.848070e+05  2.848070e+05   \n",
       "mean  -1.552563e-15  2.010663e-15 -1.694249e-15 -1.927028e-16 -3.137024e-15   \n",
       "std    1.380247e+00  1.332271e+00  1.237094e+00  1.194353e+00  1.098632e+00   \n",
       "min   -1.137433e+02 -2.616051e+01 -4.355724e+01 -7.321672e+01 -1.343407e+01   \n",
       "25%   -6.915971e-01 -7.682956e-01 -5.540759e-01 -2.086297e-01 -6.430976e-01   \n",
       "50%   -5.433583e-02 -2.741871e-01  4.010308e-02  2.235804e-02 -5.142873e-02   \n",
       "75%    6.119264e-01  3.985649e-01  5.704361e-01  3.273459e-01  5.971390e-01   \n",
       "max    3.480167e+01  7.330163e+01  1.205895e+02  2.000721e+01  1.559499e+01   \n",
       "\n",
       "                V10           V11           V12           V13           V14  \\\n",
       "count  2.848070e+05  2.848070e+05  2.848070e+05  2.848070e+05  2.848070e+05   \n",
       "mean   1.768627e-15  9.170318e-16 -1.810658e-15  1.693438e-15  1.479045e-15   \n",
       "std    1.088850e+00  1.020713e+00  9.992014e-01  9.952742e-01  9.585956e-01   \n",
       "min   -2.458826e+01 -4.797473e+00 -1.868371e+01 -5.791881e+00 -1.921433e+01   \n",
       "25%   -5.354257e-01 -7.624942e-01 -4.055715e-01 -6.485393e-01 -4.255740e-01   \n",
       "50%   -9.291738e-02 -3.275735e-02  1.400326e-01 -1.356806e-02  5.060132e-02   \n",
       "75%    4.539234e-01  7.395934e-01  6.182380e-01  6.625050e-01  4.931498e-01   \n",
       "max    2.374514e+01  1.201891e+01  7.848392e+00  7.126883e+00  1.052677e+01   \n",
       "\n",
       "                V15           V16           V17           V18           V19  \\\n",
       "count  2.848070e+05  2.848070e+05  2.848070e+05  2.848070e+05  2.848070e+05   \n",
       "mean   3.482336e-15  1.392007e-15 -7.528491e-16  4.328772e-16  9.049732e-16   \n",
       "std    9.153160e-01  8.762529e-01  8.493371e-01  8.381762e-01  8.140405e-01   \n",
       "min   -4.498945e+00 -1.412985e+01 -2.516280e+01 -9.498746e+00 -7.213527e+00   \n",
       "25%   -5.828843e-01 -4.680368e-01 -4.837483e-01 -4.988498e-01 -4.562989e-01   \n",
       "50%    4.807155e-02  6.641332e-02 -6.567575e-02 -3.636312e-03  3.734823e-03   \n",
       "75%    6.488208e-01  5.232963e-01  3.996750e-01  5.008067e-01  4.589494e-01   \n",
       "max    8.877742e+00  1.731511e+01  9.253526e+00  5.041069e+00  5.591971e+00   \n",
       "\n",
       "                V20           V21           V22           V23           V24  \\\n",
       "count  2.848070e+05  2.848070e+05  2.848070e+05  2.848070e+05  2.848070e+05   \n",
       "mean   5.085503e-16  1.537294e-16  7.959909e-16  5.367590e-16  4.458112e-15   \n",
       "std    7.709250e-01  7.345240e-01  7.257016e-01  6.244603e-01  6.056471e-01   \n",
       "min   -5.449772e+01 -3.483038e+01 -1.093314e+01 -4.480774e+01 -2.836627e+00   \n",
       "25%   -2.117214e-01 -2.283949e-01 -5.423504e-01 -1.618463e-01 -3.545861e-01   \n",
       "50%   -6.248109e-02 -2.945017e-02  6.781943e-03 -1.119293e-02  4.097606e-02   \n",
       "75%    1.330408e-01  1.863772e-01  5.285536e-01  1.476421e-01  4.395266e-01   \n",
       "max    3.942090e+01  2.720284e+01  1.050309e+01  2.252841e+01  4.584549e+00   \n",
       "\n",
       "                V25           V26           V27           V28         Amount  \\\n",
       "count  2.848070e+05  2.848070e+05  2.848070e+05  2.848070e+05  284807.000000   \n",
       "mean   1.453003e-15  1.699104e-15 -3.660161e-16 -1.206049e-16      88.349619   \n",
       "std    5.212781e-01  4.822270e-01  4.036325e-01  3.300833e-01     250.120109   \n",
       "min   -1.029540e+01 -2.604551e+00 -2.256568e+01 -1.543008e+01       0.000000   \n",
       "25%   -3.171451e-01 -3.269839e-01 -7.083953e-02 -5.295979e-02       5.600000   \n",
       "50%    1.659350e-02 -5.213911e-02  1.342146e-03  1.124383e-02      22.000000   \n",
       "75%    3.507156e-01  2.409522e-01  9.104512e-02  7.827995e-02      77.165000   \n",
       "max    7.519589e+00  3.517346e+00  3.161220e+01  3.384781e+01   25691.160000   \n",
       "\n",
       "               Class  \n",
       "count  284807.000000  \n",
       "mean        0.001727  \n",
       "std         0.041527  \n",
       "min         0.000000  \n",
       "25%         0.000000  \n",
       "50%         0.000000  \n",
       "75%         0.000000  \n",
       "max         1.000000  "
      ]
     },
     "execution_count": 3,
     "metadata": {},
     "output_type": "execute_result"
    }
   ],
   "source": [
    "CC_data.describe()"
   ]
  },
  {
   "cell_type": "code",
   "execution_count": 4,
   "metadata": {},
   "outputs": [
    {
     "name": "stdout",
     "output_type": "stream",
     "text": [
      "<class 'pandas.core.frame.DataFrame'>\n",
      "RangeIndex: 284807 entries, 0 to 284806\n",
      "Data columns (total 31 columns):\n",
      " #   Column  Non-Null Count   Dtype  \n",
      "---  ------  --------------   -----  \n",
      " 0   Time    284807 non-null  float64\n",
      " 1   V1      284807 non-null  float64\n",
      " 2   V2      284807 non-null  float64\n",
      " 3   V3      284807 non-null  float64\n",
      " 4   V4      284807 non-null  float64\n",
      " 5   V5      284807 non-null  float64\n",
      " 6   V6      284807 non-null  float64\n",
      " 7   V7      284807 non-null  float64\n",
      " 8   V8      284807 non-null  float64\n",
      " 9   V9      284807 non-null  float64\n",
      " 10  V10     284807 non-null  float64\n",
      " 11  V11     284807 non-null  float64\n",
      " 12  V12     284807 non-null  float64\n",
      " 13  V13     284807 non-null  float64\n",
      " 14  V14     284807 non-null  float64\n",
      " 15  V15     284807 non-null  float64\n",
      " 16  V16     284807 non-null  float64\n",
      " 17  V17     284807 non-null  float64\n",
      " 18  V18     284807 non-null  float64\n",
      " 19  V19     284807 non-null  float64\n",
      " 20  V20     284807 non-null  float64\n",
      " 21  V21     284807 non-null  float64\n",
      " 22  V22     284807 non-null  float64\n",
      " 23  V23     284807 non-null  float64\n",
      " 24  V24     284807 non-null  float64\n",
      " 25  V25     284807 non-null  float64\n",
      " 26  V26     284807 non-null  float64\n",
      " 27  V27     284807 non-null  float64\n",
      " 28  V28     284807 non-null  float64\n",
      " 29  Amount  284807 non-null  float64\n",
      " 30  Class   284807 non-null  int64  \n",
      "dtypes: float64(30), int64(1)\n",
      "memory usage: 67.4 MB\n"
     ]
    }
   ],
   "source": [
    "CC_data.info()"
   ]
  },
  {
   "cell_type": "markdown",
   "metadata": {},
   "source": [
    "We can note that the dataset has 284807 data entries across 31 columns, one of them being the Target variable - Class. Another thing to note is that there are no null values. That is, the dataset is completely clean."
   ]
  },
  {
   "cell_type": "code",
   "execution_count": 5,
   "metadata": {},
   "outputs": [
    {
     "data": {
      "text/plain": [
       "Time      0\n",
       "V1        0\n",
       "V2        0\n",
       "V3        0\n",
       "V4        0\n",
       "V5        0\n",
       "V6        0\n",
       "V7        0\n",
       "V8        0\n",
       "V9        0\n",
       "V10       0\n",
       "V11       0\n",
       "V12       0\n",
       "V13       0\n",
       "V14       0\n",
       "V15       0\n",
       "V16       0\n",
       "V17       0\n",
       "V18       0\n",
       "V19       0\n",
       "V20       0\n",
       "V21       0\n",
       "V22       0\n",
       "V23       0\n",
       "V24       0\n",
       "V25       0\n",
       "V26       0\n",
       "V27       0\n",
       "V28       0\n",
       "Amount    0\n",
       "Class     0\n",
       "dtype: int64"
      ]
     },
     "execution_count": 5,
     "metadata": {},
     "output_type": "execute_result"
    }
   ],
   "source": [
    "#checking for null values in the dataset\n",
    "CC_data.isnull().sum()"
   ]
  },
  {
   "cell_type": "markdown",
   "metadata": {},
   "source": [
    "- There are no missing values in the data"
   ]
  },
  {
   "cell_type": "markdown",
   "metadata": {},
   "source": [
    "### Data Imbalance\n",
    "Checking for data imbalance with respect to the target variable - Class"
   ]
  },
  {
   "cell_type": "code",
   "execution_count": 6,
   "metadata": {},
   "outputs": [
    {
     "name": "stdout",
     "output_type": "stream",
     "text": [
      "0    284315\n",
      "1       492\n",
      "Name: Class, dtype: int64\n"
     ]
    }
   ],
   "source": [
    "classes=CC_data['Class'].value_counts()\n",
    "print(classes)"
   ]
  },
  {
   "cell_type": "code",
   "execution_count": 7,
   "metadata": {},
   "outputs": [
    {
     "name": "stdout",
     "output_type": "stream",
     "text": [
      "Ratio of fraudulent cases: 0.001727485630620034\n",
      "Ratio of non-fraudulent cases: 0.9982725143693799\n"
     ]
    }
   ],
   "source": [
    "# percentage of fraudulent transcations\n",
    "ratio_cases = classes/len(CC_data.index)\n",
    "print(f'Ratio of fraudulent cases: {ratio_cases[1]}\\nRatio of non-fraudulent cases: {ratio_cases[0]}')"
   ]
  },
  {
   "cell_type": "markdown",
   "metadata": {},
   "source": [
    "The ratio of fraudulent transactions is very low. The data is imbalanced. let us now visually represent it and then balance the data"
   ]
  },
  {
   "cell_type": "code",
   "execution_count": 8,
   "metadata": {
    "scrolled": true
   },
   "outputs": [
    {
     "data": {
      "text/html": [
       "<div>\n",
       "<style scoped>\n",
       "    .dataframe tbody tr th:only-of-type {\n",
       "        vertical-align: middle;\n",
       "    }\n",
       "\n",
       "    .dataframe tbody tr th {\n",
       "        vertical-align: top;\n",
       "    }\n",
       "\n",
       "    .dataframe thead th {\n",
       "        text-align: right;\n",
       "    }\n",
       "</style>\n",
       "<table border=\"1\" class=\"dataframe\">\n",
       "  <thead>\n",
       "    <tr style=\"text-align: right;\">\n",
       "      <th></th>\n",
       "      <th>Class</th>\n",
       "      <th>Count</th>\n",
       "    </tr>\n",
       "  </thead>\n",
       "  <tbody>\n",
       "    <tr>\n",
       "      <th>0</th>\n",
       "      <td>0</td>\n",
       "      <td>284315</td>\n",
       "    </tr>\n",
       "    <tr>\n",
       "      <th>1</th>\n",
       "      <td>1</td>\n",
       "      <td>492</td>\n",
       "    </tr>\n",
       "  </tbody>\n",
       "</table>\n",
       "</div>"
      ],
      "text/plain": [
       "   Class   Count\n",
       "0      0  284315\n",
       "1      1     492"
      ]
     },
     "execution_count": 8,
     "metadata": {},
     "output_type": "execute_result"
    }
   ],
   "source": [
    "# Creating temp dataframe\n",
    "df = pd.DataFrame({'Class': classes.index,'Count': classes.values})\n",
    "df.head()"
   ]
  },
  {
   "cell_type": "code",
   "execution_count": 9,
   "metadata": {},
   "outputs": [
    {
     "name": "stdout",
     "output_type": "stream",
     "text": [
      "   Class   Count\n",
      "0      0  284315\n",
      "1      1     492\n"
     ]
    },
    {
     "data": {
      "image/png": "[encoded data removed]",
      "text/plain": [
       "<Figure size 576x288 with 1 Axes>"
      ]
     },
     "metadata": {
      "needs_background": "light"
     },
     "output_type": "display_data"
    },
    {
     "data": {
      "text/plain": [
       "Text(0.5, 0, 'Percentage of count')"
      ]
     },
     "execution_count": 9,
     "metadata": {},
     "output_type": "execute_result"
    },
    {
     "data": {
      "image/png": "[encoded data removed]",
      "text/plain": [
       "<Figure size 576x288 with 1 Axes>"
      ]
     },
     "metadata": {},
     "output_type": "display_data"
    }
   ],
   "source": [
    "print(df)\n",
    "\n",
    "ax = df.plot(kind='bar', title =\"Credit Card Fraud Class - data imbalance (Not-fraud = 0, Fraud = 1)\", figsize=(8,4), legend=True, fontsize=12)\n",
    "ax.set_xlabel(\"Class\", fontsize=12)\n",
    "ax.set_ylabel(\"Number of transactions\", fontsize=12)\n",
    "plt.show()\n",
    "\n",
    "sns.set_style(\"white\")\n",
    "x2 = df['Class']\n",
    "y2 = df['Count']*100/(sum(df['Count']))\n",
    "palette = ['blue','mediumvioletred']\n",
    "fig, ax = plt.subplots(figsize = (8,4))\n",
    "\n",
    "fig = sns.barplot(y2, x2, ci = None, orient='h', palette=palette)\n",
    "y_lab = ['0', '1']\n",
    "ax.set_yticklabels(labels=y_lab, ha='right')\n",
    "\n",
    "for i, v in enumerate(y2):\n",
    "    ax.text(v - 15, i + .05, str(int(v)+.5)+'%', color='white', fontweight='bold')\n",
    "\n",
    "plt.title('Credit Card Fraud as Percent of Total frauds',size = 16, weight = 'bold')\n",
    "plt.ylabel('Class')\n",
    "plt.xlabel('Percentage of count')"
   ]
  },
  {
   "cell_type": "markdown",
   "metadata": {},
   "source": [
    "- By seeing the distributions we can see how skewed and how imbalanced is our original dataset. Most of the transactions are non-fraud. If we do not balance the dataset for out analysis then we might get a lot of errors and our algorithms will probably overfit since it will assume that most transactions are not fraud. We need to build a model that will detect the frauds."
   ]
  },
  {
   "cell_type": "markdown",
   "metadata": {},
   "source": [
    "Let's check for amount details for both Fraudulent and Non-Fradulent Transaction"
   ]
  },
  {
   "cell_type": "code",
   "execution_count": 10,
   "metadata": {},
   "outputs": [],
   "source": [
    "fraud_data = CC_data[CC_data['Class'] == 1] \n",
    "valid_data = CC_data[CC_data['Class'] == 0]"
   ]
  },
  {
   "cell_type": "code",
   "execution_count": 11,
   "metadata": {},
   "outputs": [
    {
     "name": "stdout",
     "output_type": "stream",
     "text": [
      "Amount details of the fraudulent transaction\n"
     ]
    },
    {
     "data": {
      "text/plain": [
       "count     492.000000\n",
       "mean      122.211321\n",
       "std       256.683288\n",
       "min         0.000000\n",
       "25%         1.000000\n",
       "50%         9.250000\n",
       "75%       105.890000\n",
       "max      2125.870000\n",
       "Name: Amount, dtype: float64"
      ]
     },
     "execution_count": 11,
     "metadata": {},
     "output_type": "execute_result"
    }
   ],
   "source": [
    "#Checking for Fraudulent Transaction\n",
    "print(\"Amount details of the fraudulent transaction\") \n",
    "fraud_data.Amount.describe() "
   ]
  },
  {
   "cell_type": "code",
   "execution_count": 12,
   "metadata": {},
   "outputs": [
    {
     "name": "stdout",
     "output_type": "stream",
     "text": [
      "Amount details of valid transaction\n"
     ]
    },
    {
     "data": {
      "text/plain": [
       "count    284315.000000\n",
       "mean         88.291022\n",
       "std         250.105092\n",
       "min           0.000000\n",
       "25%           5.650000\n",
       "50%          22.000000\n",
       "75%          77.050000\n",
       "max       25691.160000\n",
       "Name: Amount, dtype: float64"
      ]
     },
     "execution_count": 12,
     "metadata": {},
     "output_type": "execute_result"
    }
   ],
   "source": [
    "#Checking for Normal transaction\n",
    "print(\"Amount details of valid transaction\") \n",
    "valid_data.Amount.describe() "
   ]
  },
  {
   "cell_type": "markdown",
   "metadata": {},
   "source": [
    "<b>As per this it is very clear that the average Money transaction for the fraudulent ones is more. This is definitely a serious issue that needs to be addressed.</b>"
   ]
  },
  {
   "cell_type": "markdown",
   "metadata": {},
   "source": [
    "#### Checking for distributions of Time and Amount"
   ]
  },
  {
   "cell_type": "code",
   "execution_count": 13,
   "metadata": {},
   "outputs": [
    {
     "data": {
      "image/png": "[encoded data removed]",
      "text/plain": [
       "<Figure size 1296x288 with 2 Axes>"
      ]
     },
     "metadata": {},
     "output_type": "display_data"
    }
   ],
   "source": [
    "# Creating a distribution plot to observe the distribution of Time and Amount\n",
    "fig, ax = plt.subplots(1, 2, figsize=(18,4))\n",
    "\n",
    "amount_val = CC_data['Amount'].values\n",
    "time_val = CC_data['Time'].values\n",
    "\n",
    "sns.distplot(amount_val, ax=ax[0], color='r')\n",
    "ax[0].set_title('Distribution of Transaction Amount', fontsize=14)\n",
    "ax[0].set_xlim([min(amount_val), max(amount_val)])\n",
    "\n",
    "sns.distplot(time_val, ax=ax[1], color='b')\n",
    "ax[1].set_title('Distribution of Transaction Time', fontsize=14)\n",
    "ax[1].set_xlim([min(time_val), max(time_val)])\n",
    "\n",
    "\n",
    "\n",
    "plt.show()"
   ]
  },
  {
   "cell_type": "markdown",
   "metadata": {},
   "source": [
    "#### Checking for distributions of Time and Amount with Class"
   ]
  },
  {
   "cell_type": "code",
   "execution_count": 14,
   "metadata": {},
   "outputs": [
    {
     "data": {
      "image/png": "[encoded data removed]",
      "text/plain": [
       "<Figure size 1152x288 with 2 Axes>"
      ]
     },
     "metadata": {},
     "output_type": "display_data"
    }
   ],
   "source": [
    "# Creating a distribution plot to observe the distribution of Classes with Amount\n",
    "fig, axs = plt.subplots(ncols=2,figsize=(16,4))\n",
    "sns.distplot(fraud_data.Amount, bins=100, ax=axs[0])\n",
    "axs[0].set_title(\"Distribution of Fraud Transactions\")\n",
    "\n",
    "sns.distplot(valid_data.Amount, bins=100, ax=axs[0])\n",
    "axs[1].set_title(\"Distribution of Valid Transactions\")\n",
    "\n",
    "plt.show()"
   ]
  },
  {
   "cell_type": "markdown",
   "metadata": {},
   "source": [
    "This shows that the fraud transaction is very high for an amount near to 0. We can look into the amount "
   ]
  },
  {
   "cell_type": "code",
   "execution_count": 15,
   "metadata": {},
   "outputs": [
    {
     "name": "stdout",
     "output_type": "stream",
     "text": [
      "Fraud Transaction distribution : \n",
      " 1.00     113\n",
      "0.00      27\n",
      "99.99     27\n",
      "0.76      17\n",
      "0.77      10\n",
      "Name: Amount, dtype: int64\n",
      "Maximum amount of fraud transaction:  2125.87\n",
      "Minimum amount of fraud transaction:  0.0\n"
     ]
    }
   ],
   "source": [
    "print(\"Fraud Transaction distribution : \\n\",fraud_data.Amount.value_counts().head())\n",
    "\n",
    "print(\"Maximum amount of fraud transaction: \",fraud_data.Amount.max())\n",
    "print(\"Minimum amount of fraud transaction: \",fraud_data.Amount.min())"
   ]
  },
  {
   "cell_type": "markdown",
   "metadata": {},
   "source": [
    "- There are 113 fraud transactions for just one dollor and 27 fraud transaction for 99.99 (Dollars). And highest fraud transaction amount was 2125.87 and lowest was just 0.00.\n",
    "- There are 27 fraud transaction for zero amount. Zero Authorization is an account verification method for credit cards that is used to verify a cardholders information without charging the consumer."
   ]
  },
  {
   "cell_type": "code",
   "execution_count": 16,
   "metadata": {},
   "outputs": [
    {
     "data": {
      "image/png": "[encoded data removed]",
      "text/plain": [
       "<Figure size 1152x288 with 2 Axes>"
      ]
     },
     "metadata": {},
     "output_type": "display_data"
    }
   ],
   "source": [
    "# Creating a distribution plot to observe the distribution of Classes with time\n",
    "fig, axs = plt.subplots(ncols=2, figsize=(16,4))\n",
    "\n",
    "sns.distplot(fraud_data.Time, bins=100, color='red', ax=axs[0])\n",
    "axs[0].set_title(\"Distribution of Fraud Transactions\")\n",
    "\n",
    "sns.distplot(valid_data.Time, bins=100, color='green', ax=axs[1])\n",
    "axs[1].set_title(\"Distribution of Valid Transactions\")\n",
    "\n",
    "plt.show()"
   ]
  },
  {
   "cell_type": "markdown",
   "metadata": {},
   "source": [
    "### Distribution of Variables - Checking for Skewness"
   ]
  },
  {
   "cell_type": "code",
   "execution_count": 17,
   "metadata": {},
   "outputs": [
    {
     "data": {
      "image/png": "[encoded data removed]",
      "text/plain": [
       "<Figure size 1800x1800 with 36 Axes>"
      ]
     },
     "metadata": {},
     "output_type": "display_data"
    }
   ],
   "source": [
    "CC_data.hist(figsize = (25,25))\n",
    "plt.show()"
   ]
  },
  {
   "cell_type": "markdown",
   "metadata": {},
   "source": [
    "- It is seen that Amount and Time highly skewed data and they are not normalised as per the other features. Let's scale the data."
   ]
  },
  {
   "cell_type": "markdown",
   "metadata": {},
   "source": [
    "### Feature Scaling\n",
    "Scaling `Amount` column using StandardScaler. The amount column is not in line with other features"
   ]
  },
  {
   "cell_type": "markdown",
   "metadata": {},
   "source": [
    "It is seen that Amount is not normalised as per the other features. Here Time is also not depicting anything that could help us for our current analysis. Hence, we will delete Time feature and scale the Amount Feature"
   ]
  },
  {
   "cell_type": "code",
   "execution_count": 18,
   "metadata": {},
   "outputs": [],
   "source": [
    "from sklearn.preprocessing import StandardScaler\n",
    "scaler = StandardScaler()\n",
    "\n",
    "CC_data['Amount'] = scaler.fit_transform(CC_data['Amount'].values.reshape(-1,1))"
   ]
  },
  {
   "cell_type": "code",
   "execution_count": 19,
   "metadata": {},
   "outputs": [
    {
     "data": {
      "text/html": [
       "<div>\n",
       "<style scoped>\n",
       "    .dataframe tbody tr th:only-of-type {\n",
       "        vertical-align: middle;\n",
       "    }\n",
       "\n",
       "    .dataframe tbody tr th {\n",
       "        vertical-align: top;\n",
       "    }\n",
       "\n",
       "    .dataframe thead th {\n",
       "        text-align: right;\n",
       "    }\n",
       "</style>\n",
       "<table border=\"1\" class=\"dataframe\">\n",
       "  <thead>\n",
       "    <tr style=\"text-align: right;\">\n",
       "      <th></th>\n",
       "      <th>V1</th>\n",
       "      <th>V2</th>\n",
       "      <th>V3</th>\n",
       "      <th>V4</th>\n",
       "      <th>V5</th>\n",
       "      <th>V6</th>\n",
       "      <th>V7</th>\n",
       "      <th>V8</th>\n",
       "      <th>V9</th>\n",
       "      <th>V10</th>\n",
       "      <th>V11</th>\n",
       "      <th>V12</th>\n",
       "      <th>V13</th>\n",
       "      <th>V14</th>\n",
       "      <th>V15</th>\n",
       "      <th>V16</th>\n",
       "      <th>V17</th>\n",
       "      <th>V18</th>\n",
       "      <th>V19</th>\n",
       "      <th>V20</th>\n",
       "      <th>V21</th>\n",
       "      <th>V22</th>\n",
       "      <th>V23</th>\n",
       "      <th>V24</th>\n",
       "      <th>V25</th>\n",
       "      <th>V26</th>\n",
       "      <th>V27</th>\n",
       "      <th>V28</th>\n",
       "      <th>Amount</th>\n",
       "      <th>Class</th>\n",
       "    </tr>\n",
       "  </thead>\n",
       "  <tbody>\n",
       "    <tr>\n",
       "      <th>0</th>\n",
       "      <td>-1.359807</td>\n",
       "      <td>-0.072781</td>\n",
       "      <td>2.536347</td>\n",
       "      <td>1.378155</td>\n",
       "      <td>-0.338321</td>\n",
       "      <td>0.462388</td>\n",
       "      <td>0.239599</td>\n",
       "      <td>0.098698</td>\n",
       "      <td>0.363787</td>\n",
       "      <td>0.090794</td>\n",
       "      <td>-0.551600</td>\n",
       "      <td>-0.617801</td>\n",
       "      <td>-0.991390</td>\n",
       "      <td>-0.311169</td>\n",
       "      <td>1.468177</td>\n",
       "      <td>-0.470401</td>\n",
       "      <td>0.207971</td>\n",
       "      <td>0.025791</td>\n",
       "      <td>0.403993</td>\n",
       "      <td>0.251412</td>\n",
       "      <td>-0.018307</td>\n",
       "      <td>0.277838</td>\n",
       "      <td>-0.110474</td>\n",
       "      <td>0.066928</td>\n",
       "      <td>0.128539</td>\n",
       "      <td>-0.189115</td>\n",
       "      <td>0.133558</td>\n",
       "      <td>-0.021053</td>\n",
       "      <td>0.244964</td>\n",
       "      <td>0</td>\n",
       "    </tr>\n",
       "    <tr>\n",
       "      <th>1</th>\n",
       "      <td>1.191857</td>\n",
       "      <td>0.266151</td>\n",
       "      <td>0.166480</td>\n",
       "      <td>0.448154</td>\n",
       "      <td>0.060018</td>\n",
       "      <td>-0.082361</td>\n",
       "      <td>-0.078803</td>\n",
       "      <td>0.085102</td>\n",
       "      <td>-0.255425</td>\n",
       "      <td>-0.166974</td>\n",
       "      <td>1.612727</td>\n",
       "      <td>1.065235</td>\n",
       "      <td>0.489095</td>\n",
       "      <td>-0.143772</td>\n",
       "      <td>0.635558</td>\n",
       "      <td>0.463917</td>\n",
       "      <td>-0.114805</td>\n",
       "      <td>-0.183361</td>\n",
       "      <td>-0.145783</td>\n",
       "      <td>-0.069083</td>\n",
       "      <td>-0.225775</td>\n",
       "      <td>-0.638672</td>\n",
       "      <td>0.101288</td>\n",
       "      <td>-0.339846</td>\n",
       "      <td>0.167170</td>\n",
       "      <td>0.125895</td>\n",
       "      <td>-0.008983</td>\n",
       "      <td>0.014724</td>\n",
       "      <td>-0.342475</td>\n",
       "      <td>0</td>\n",
       "    </tr>\n",
       "    <tr>\n",
       "      <th>2</th>\n",
       "      <td>-1.358354</td>\n",
       "      <td>-1.340163</td>\n",
       "      <td>1.773209</td>\n",
       "      <td>0.379780</td>\n",
       "      <td>-0.503198</td>\n",
       "      <td>1.800499</td>\n",
       "      <td>0.791461</td>\n",
       "      <td>0.247676</td>\n",
       "      <td>-1.514654</td>\n",
       "      <td>0.207643</td>\n",
       "      <td>0.624501</td>\n",
       "      <td>0.066084</td>\n",
       "      <td>0.717293</td>\n",
       "      <td>-0.165946</td>\n",
       "      <td>2.345865</td>\n",
       "      <td>-2.890083</td>\n",
       "      <td>1.109969</td>\n",
       "      <td>-0.121359</td>\n",
       "      <td>-2.261857</td>\n",
       "      <td>0.524980</td>\n",
       "      <td>0.247998</td>\n",
       "      <td>0.771679</td>\n",
       "      <td>0.909412</td>\n",
       "      <td>-0.689281</td>\n",
       "      <td>-0.327642</td>\n",
       "      <td>-0.139097</td>\n",
       "      <td>-0.055353</td>\n",
       "      <td>-0.059752</td>\n",
       "      <td>1.160686</td>\n",
       "      <td>0</td>\n",
       "    </tr>\n",
       "    <tr>\n",
       "      <th>3</th>\n",
       "      <td>-0.966272</td>\n",
       "      <td>-0.185226</td>\n",
       "      <td>1.792993</td>\n",
       "      <td>-0.863291</td>\n",
       "      <td>-0.010309</td>\n",
       "      <td>1.247203</td>\n",
       "      <td>0.237609</td>\n",
       "      <td>0.377436</td>\n",
       "      <td>-1.387024</td>\n",
       "      <td>-0.054952</td>\n",
       "      <td>-0.226487</td>\n",
       "      <td>0.178228</td>\n",
       "      <td>0.507757</td>\n",
       "      <td>-0.287924</td>\n",
       "      <td>-0.631418</td>\n",
       "      <td>-1.059647</td>\n",
       "      <td>-0.684093</td>\n",
       "      <td>1.965775</td>\n",
       "      <td>-1.232622</td>\n",
       "      <td>-0.208038</td>\n",
       "      <td>-0.108300</td>\n",
       "      <td>0.005274</td>\n",
       "      <td>-0.190321</td>\n",
       "      <td>-1.175575</td>\n",
       "      <td>0.647376</td>\n",
       "      <td>-0.221929</td>\n",
       "      <td>0.062723</td>\n",
       "      <td>0.061458</td>\n",
       "      <td>0.140534</td>\n",
       "      <td>0</td>\n",
       "    </tr>\n",
       "    <tr>\n",
       "      <th>4</th>\n",
       "      <td>-1.158233</td>\n",
       "      <td>0.877737</td>\n",
       "      <td>1.548718</td>\n",
       "      <td>0.403034</td>\n",
       "      <td>-0.407193</td>\n",
       "      <td>0.095921</td>\n",
       "      <td>0.592941</td>\n",
       "      <td>-0.270533</td>\n",
       "      <td>0.817739</td>\n",
       "      <td>0.753074</td>\n",
       "      <td>-0.822843</td>\n",
       "      <td>0.538196</td>\n",
       "      <td>1.345852</td>\n",
       "      <td>-1.119670</td>\n",
       "      <td>0.175121</td>\n",
       "      <td>-0.451449</td>\n",
       "      <td>-0.237033</td>\n",
       "      <td>-0.038195</td>\n",
       "      <td>0.803487</td>\n",
       "      <td>0.408542</td>\n",
       "      <td>-0.009431</td>\n",
       "      <td>0.798278</td>\n",
       "      <td>-0.137458</td>\n",
       "      <td>0.141267</td>\n",
       "      <td>-0.206010</td>\n",
       "      <td>0.502292</td>\n",
       "      <td>0.219422</td>\n",
       "      <td>0.215153</td>\n",
       "      <td>-0.073403</td>\n",
       "      <td>0</td>\n",
       "    </tr>\n",
       "  </tbody>\n",
       "</table>\n",
       "</div>"
      ],
      "text/plain": [
       "         V1        V2        V3        V4        V5        V6        V7  \\\n",
       "0 -1.359807 -0.072781  2.536347  1.378155 -0.338321  0.462388  0.239599   \n",
       "1  1.191857  0.266151  0.166480  0.448154  0.060018 -0.082361 -0.078803   \n",
       "2 -1.358354 -1.340163  1.773209  0.379780 -0.503198  1.800499  0.791461   \n",
       "3 -0.966272 -0.185226  1.792993 -0.863291 -0.010309  1.247203  0.237609   \n",
       "4 -1.158233  0.877737  1.548718  0.403034 -0.407193  0.095921  0.592941   \n",
       "\n",
       "         V8        V9       V10       V11       V12       V13       V14  \\\n",
       "0  0.098698  0.363787  0.090794 -0.551600 -0.617801 -0.991390 -0.311169   \n",
       "1  0.085102 -0.255425 -0.166974  1.612727  1.065235  0.489095 -0.143772   \n",
       "2  0.247676 -1.514654  0.207643  0.624501  0.066084  0.717293 -0.165946   \n",
       "3  0.377436 -1.387024 -0.054952 -0.226487  0.178228  0.507757 -0.287924   \n",
       "4 -0.270533  0.817739  0.753074 -0.822843  0.538196  1.345852 -1.119670   \n",
       "\n",
       "        V15       V16       V17       V18       V19       V20       V21  \\\n",
       "0  1.468177 -0.470401  0.207971  0.025791  0.403993  0.251412 -0.018307   \n",
       "1  0.635558  0.463917 -0.114805 -0.183361 -0.145783 -0.069083 -0.225775   \n",
       "2  2.345865 -2.890083  1.109969 -0.121359 -2.261857  0.524980  0.247998   \n",
       "3 -0.631418 -1.059647 -0.684093  1.965775 -1.232622 -0.208038 -0.108300   \n",
       "4  0.175121 -0.451449 -0.237033 -0.038195  0.803487  0.408542 -0.009431   \n",
       "\n",
       "        V22       V23       V24       V25       V26       V27       V28  \\\n",
       "0  0.277838 -0.110474  0.066928  0.128539 -0.189115  0.133558 -0.021053   \n",
       "1 -0.638672  0.101288 -0.339846  0.167170  0.125895 -0.008983  0.014724   \n",
       "2  0.771679  0.909412 -0.689281 -0.327642 -0.139097 -0.055353 -0.059752   \n",
       "3  0.005274 -0.190321 -1.175575  0.647376 -0.221929  0.062723  0.061458   \n",
       "4  0.798278 -0.137458  0.141267 -0.206010  0.502292  0.219422  0.215153   \n",
       "\n",
       "     Amount  Class  \n",
       "0  0.244964      0  \n",
       "1 -0.342475      0  \n",
       "2  1.160686      0  \n",
       "3  0.140534      0  \n",
       "4 -0.073403      0  "
      ]
     },
     "execution_count": 19,
     "metadata": {},
     "output_type": "execute_result"
    }
   ],
   "source": [
    "#Dropping Time column as it is not helping in our current analysis.\n",
    "CC_data = CC_data.drop(['Time'],axis=1)\n",
    "CC_data.head()"
   ]
  },
  {
   "cell_type": "code",
   "execution_count": 20,
   "metadata": {},
   "outputs": [],
   "source": [
    "# Copy the dataset into a back up dataframe for future use\n",
    "CC_data_copy = CC_data"
   ]
  },
  {
   "cell_type": "markdown",
   "metadata": {},
   "source": [
    "### Feature Correlation"
   ]
  },
  {
   "cell_type": "code",
   "execution_count": 21,
   "metadata": {},
   "outputs": [
    {
     "data": {
      "text/plain": [
       "<matplotlib.axes._subplots.AxesSubplot at 0x24c85c1dc48>"
      ]
     },
     "execution_count": 21,
     "metadata": {},
     "output_type": "execute_result"
    },
    {
     "data": {
      "image/png": "[encoded data removed]",
      "text/plain": [
       "<Figure size 1080x720 with 1 Axes>"
      ]
     },
     "metadata": {},
     "output_type": "display_data"
    }
   ],
   "source": [
    "#Checking the correlation of variables with Class variable\n",
    "CC_data.corrwith(CC_data.Class).plot.bar(figsize = (15, 10), title = \"Credit Card Transactions correlation with class\", fontsize = 12,\n",
    "        rot = 45, grid = True)"
   ]
  },
  {
   "cell_type": "markdown",
   "metadata": {},
   "source": [
    "In the above plot we see that most of the variables are not correlated with each other but there are few features like V10, V12, V14 and V17 which are negatively correlated with Class."
   ]
  },
  {
   "cell_type": "code",
   "execution_count": 22,
   "metadata": {},
   "outputs": [
    {
     "data": {
      "image/png": "[encoded data removed]",
      "text/plain": [
       "<Figure size 1008x1008 with 2 Axes>"
      ]
     },
     "metadata": {},
     "output_type": "display_data"
    }
   ],
   "source": [
    "#Checking for the correlation of all variables with each other\n",
    "plt.figure(figsize = (14,14))\n",
    "plt.title('Credit Card Transactions features correlation plot')\n",
    "corr = CC_data.corr()\n",
    "sns.heatmap(corr,xticklabels=corr.columns,yticklabels=corr.columns,linewidths=.1,cmap=\"YlGnBu\")\n",
    "plt.show()"
   ]
  },
  {
   "cell_type": "markdown",
   "metadata": {},
   "source": [
    "In the HeatMap, most of the variables are not correlated with each other but there are few features like V7 and V20 which are positively correlated with Amount and V2 is highly negatively correlated with Amount."
   ]
  },
  {
   "cell_type": "code",
   "execution_count": 23,
   "metadata": {},
   "outputs": [
    {
     "data": {
      "image/png": "[encoded data removed]",
      "text/plain": [
       "<Figure size 1800x1800 with 30 Axes>"
      ]
     },
     "metadata": {},
     "output_type": "display_data"
    }
   ],
   "source": [
    "# Rechecking the distribution after scaling the Amount variable\n",
    "CC_data.hist(figsize = (25,25))\n",
    "plt.show()"
   ]
  },
  {
   "cell_type": "code",
   "execution_count": 24,
   "metadata": {},
   "outputs": [
    {
     "data": {
      "text/plain": [
       "Index(['V1', 'V2', 'V3', 'V4', 'V5', 'V6', 'V7', 'V8', 'V9', 'V10', 'V11',\n",
       "       'V12', 'V13', 'V14', 'V15', 'V16', 'V17', 'V18', 'V19', 'V20', 'V21',\n",
       "       'V22', 'V23', 'V24', 'V25', 'V26', 'V27', 'V28', 'Amount', 'Class'],\n",
       "      dtype='object')"
      ]
     },
     "execution_count": 24,
     "metadata": {},
     "output_type": "execute_result"
    }
   ],
   "source": [
    "CC_data.columns"
   ]
  },
  {
   "cell_type": "code",
   "execution_count": 25,
   "metadata": {},
   "outputs": [],
   "source": [
    "# Separate Target Variable and Predictor Variables\n",
    "\n",
    "X = CC_data.drop(['Class'],axis=1)\n",
    "y = CC_data['Class']"
   ]
  },
  {
   "cell_type": "code",
   "execution_count": 26,
   "metadata": {},
   "outputs": [
    {
     "data": {
      "text/html": [
       "<div>\n",
       "<style scoped>\n",
       "    .dataframe tbody tr th:only-of-type {\n",
       "        vertical-align: middle;\n",
       "    }\n",
       "\n",
       "    .dataframe tbody tr th {\n",
       "        vertical-align: top;\n",
       "    }\n",
       "\n",
       "    .dataframe thead th {\n",
       "        text-align: right;\n",
       "    }\n",
       "</style>\n",
       "<table border=\"1\" class=\"dataframe\">\n",
       "  <thead>\n",
       "    <tr style=\"text-align: right;\">\n",
       "      <th></th>\n",
       "      <th>V1</th>\n",
       "      <th>V2</th>\n",
       "      <th>V3</th>\n",
       "      <th>V4</th>\n",
       "      <th>V5</th>\n",
       "      <th>V6</th>\n",
       "      <th>V7</th>\n",
       "      <th>V8</th>\n",
       "      <th>V9</th>\n",
       "      <th>V10</th>\n",
       "      <th>V11</th>\n",
       "      <th>V12</th>\n",
       "      <th>V13</th>\n",
       "      <th>V14</th>\n",
       "      <th>V15</th>\n",
       "      <th>V16</th>\n",
       "      <th>V17</th>\n",
       "      <th>V18</th>\n",
       "      <th>V19</th>\n",
       "      <th>V20</th>\n",
       "      <th>V21</th>\n",
       "      <th>V22</th>\n",
       "      <th>V23</th>\n",
       "      <th>V24</th>\n",
       "      <th>V25</th>\n",
       "      <th>V26</th>\n",
       "      <th>V27</th>\n",
       "      <th>V28</th>\n",
       "      <th>Amount</th>\n",
       "    </tr>\n",
       "  </thead>\n",
       "  <tbody>\n",
       "    <tr>\n",
       "      <th>0</th>\n",
       "      <td>-1.359807</td>\n",
       "      <td>-0.072781</td>\n",
       "      <td>2.536347</td>\n",
       "      <td>1.378155</td>\n",
       "      <td>-0.338321</td>\n",
       "      <td>0.462388</td>\n",
       "      <td>0.239599</td>\n",
       "      <td>0.098698</td>\n",
       "      <td>0.363787</td>\n",
       "      <td>0.090794</td>\n",
       "      <td>-0.551600</td>\n",
       "      <td>-0.617801</td>\n",
       "      <td>-0.991390</td>\n",
       "      <td>-0.311169</td>\n",
       "      <td>1.468177</td>\n",
       "      <td>-0.470401</td>\n",
       "      <td>0.207971</td>\n",
       "      <td>0.025791</td>\n",
       "      <td>0.403993</td>\n",
       "      <td>0.251412</td>\n",
       "      <td>-0.018307</td>\n",
       "      <td>0.277838</td>\n",
       "      <td>-0.110474</td>\n",
       "      <td>0.066928</td>\n",
       "      <td>0.128539</td>\n",
       "      <td>-0.189115</td>\n",
       "      <td>0.133558</td>\n",
       "      <td>-0.021053</td>\n",
       "      <td>0.244964</td>\n",
       "    </tr>\n",
       "    <tr>\n",
       "      <th>1</th>\n",
       "      <td>1.191857</td>\n",
       "      <td>0.266151</td>\n",
       "      <td>0.166480</td>\n",
       "      <td>0.448154</td>\n",
       "      <td>0.060018</td>\n",
       "      <td>-0.082361</td>\n",
       "      <td>-0.078803</td>\n",
       "      <td>0.085102</td>\n",
       "      <td>-0.255425</td>\n",
       "      <td>-0.166974</td>\n",
       "      <td>1.612727</td>\n",
       "      <td>1.065235</td>\n",
       "      <td>0.489095</td>\n",
       "      <td>-0.143772</td>\n",
       "      <td>0.635558</td>\n",
       "      <td>0.463917</td>\n",
       "      <td>-0.114805</td>\n",
       "      <td>-0.183361</td>\n",
       "      <td>-0.145783</td>\n",
       "      <td>-0.069083</td>\n",
       "      <td>-0.225775</td>\n",
       "      <td>-0.638672</td>\n",
       "      <td>0.101288</td>\n",
       "      <td>-0.339846</td>\n",
       "      <td>0.167170</td>\n",
       "      <td>0.125895</td>\n",
       "      <td>-0.008983</td>\n",
       "      <td>0.014724</td>\n",
       "      <td>-0.342475</td>\n",
       "    </tr>\n",
       "    <tr>\n",
       "      <th>2</th>\n",
       "      <td>-1.358354</td>\n",
       "      <td>-1.340163</td>\n",
       "      <td>1.773209</td>\n",
       "      <td>0.379780</td>\n",
       "      <td>-0.503198</td>\n",
       "      <td>1.800499</td>\n",
       "      <td>0.791461</td>\n",
       "      <td>0.247676</td>\n",
       "      <td>-1.514654</td>\n",
       "      <td>0.207643</td>\n",
       "      <td>0.624501</td>\n",
       "      <td>0.066084</td>\n",
       "      <td>0.717293</td>\n",
       "      <td>-0.165946</td>\n",
       "      <td>2.345865</td>\n",
       "      <td>-2.890083</td>\n",
       "      <td>1.109969</td>\n",
       "      <td>-0.121359</td>\n",
       "      <td>-2.261857</td>\n",
       "      <td>0.524980</td>\n",
       "      <td>0.247998</td>\n",
       "      <td>0.771679</td>\n",
       "      <td>0.909412</td>\n",
       "      <td>-0.689281</td>\n",
       "      <td>-0.327642</td>\n",
       "      <td>-0.139097</td>\n",
       "      <td>-0.055353</td>\n",
       "      <td>-0.059752</td>\n",
       "      <td>1.160686</td>\n",
       "    </tr>\n",
       "    <tr>\n",
       "      <th>3</th>\n",
       "      <td>-0.966272</td>\n",
       "      <td>-0.185226</td>\n",
       "      <td>1.792993</td>\n",
       "      <td>-0.863291</td>\n",
       "      <td>-0.010309</td>\n",
       "      <td>1.247203</td>\n",
       "      <td>0.237609</td>\n",
       "      <td>0.377436</td>\n",
       "      <td>-1.387024</td>\n",
       "      <td>-0.054952</td>\n",
       "      <td>-0.226487</td>\n",
       "      <td>0.178228</td>\n",
       "      <td>0.507757</td>\n",
       "      <td>-0.287924</td>\n",
       "      <td>-0.631418</td>\n",
       "      <td>-1.059647</td>\n",
       "      <td>-0.684093</td>\n",
       "      <td>1.965775</td>\n",
       "      <td>-1.232622</td>\n",
       "      <td>-0.208038</td>\n",
       "      <td>-0.108300</td>\n",
       "      <td>0.005274</td>\n",
       "      <td>-0.190321</td>\n",
       "      <td>-1.175575</td>\n",
       "      <td>0.647376</td>\n",
       "      <td>-0.221929</td>\n",
       "      <td>0.062723</td>\n",
       "      <td>0.061458</td>\n",
       "      <td>0.140534</td>\n",
       "    </tr>\n",
       "    <tr>\n",
       "      <th>4</th>\n",
       "      <td>-1.158233</td>\n",
       "      <td>0.877737</td>\n",
       "      <td>1.548718</td>\n",
       "      <td>0.403034</td>\n",
       "      <td>-0.407193</td>\n",
       "      <td>0.095921</td>\n",
       "      <td>0.592941</td>\n",
       "      <td>-0.270533</td>\n",
       "      <td>0.817739</td>\n",
       "      <td>0.753074</td>\n",
       "      <td>-0.822843</td>\n",
       "      <td>0.538196</td>\n",
       "      <td>1.345852</td>\n",
       "      <td>-1.119670</td>\n",
       "      <td>0.175121</td>\n",
       "      <td>-0.451449</td>\n",
       "      <td>-0.237033</td>\n",
       "      <td>-0.038195</td>\n",
       "      <td>0.803487</td>\n",
       "      <td>0.408542</td>\n",
       "      <td>-0.009431</td>\n",
       "      <td>0.798278</td>\n",
       "      <td>-0.137458</td>\n",
       "      <td>0.141267</td>\n",
       "      <td>-0.206010</td>\n",
       "      <td>0.502292</td>\n",
       "      <td>0.219422</td>\n",
       "      <td>0.215153</td>\n",
       "      <td>-0.073403</td>\n",
       "    </tr>\n",
       "  </tbody>\n",
       "</table>\n",
       "</div>"
      ],
      "text/plain": [
       "         V1        V2        V3        V4        V5        V6        V7  \\\n",
       "0 -1.359807 -0.072781  2.536347  1.378155 -0.338321  0.462388  0.239599   \n",
       "1  1.191857  0.266151  0.166480  0.448154  0.060018 -0.082361 -0.078803   \n",
       "2 -1.358354 -1.340163  1.773209  0.379780 -0.503198  1.800499  0.791461   \n",
       "3 -0.966272 -0.185226  1.792993 -0.863291 -0.010309  1.247203  0.237609   \n",
       "4 -1.158233  0.877737  1.548718  0.403034 -0.407193  0.095921  0.592941   \n",
       "\n",
       "         V8        V9       V10       V11       V12       V13       V14  \\\n",
       "0  0.098698  0.363787  0.090794 -0.551600 -0.617801 -0.991390 -0.311169   \n",
       "1  0.085102 -0.255425 -0.166974  1.612727  1.065235  0.489095 -0.143772   \n",
       "2  0.247676 -1.514654  0.207643  0.624501  0.066084  0.717293 -0.165946   \n",
       "3  0.377436 -1.387024 -0.054952 -0.226487  0.178228  0.507757 -0.287924   \n",
       "4 -0.270533  0.817739  0.753074 -0.822843  0.538196  1.345852 -1.119670   \n",
       "\n",
       "        V15       V16       V17       V18       V19       V20       V21  \\\n",
       "0  1.468177 -0.470401  0.207971  0.025791  0.403993  0.251412 -0.018307   \n",
       "1  0.635558  0.463917 -0.114805 -0.183361 -0.145783 -0.069083 -0.225775   \n",
       "2  2.345865 -2.890083  1.109969 -0.121359 -2.261857  0.524980  0.247998   \n",
       "3 -0.631418 -1.059647 -0.684093  1.965775 -1.232622 -0.208038 -0.108300   \n",
       "4  0.175121 -0.451449 -0.237033 -0.038195  0.803487  0.408542 -0.009431   \n",
       "\n",
       "        V22       V23       V24       V25       V26       V27       V28  \\\n",
       "0  0.277838 -0.110474  0.066928  0.128539 -0.189115  0.133558 -0.021053   \n",
       "1 -0.638672  0.101288 -0.339846  0.167170  0.125895 -0.008983  0.014724   \n",
       "2  0.771679  0.909412 -0.689281 -0.327642 -0.139097 -0.055353 -0.059752   \n",
       "3  0.005274 -0.190321 -1.175575  0.647376 -0.221929  0.062723  0.061458   \n",
       "4  0.798278 -0.137458  0.141267 -0.206010  0.502292  0.219422  0.215153   \n",
       "\n",
       "     Amount  \n",
       "0  0.244964  \n",
       "1 -0.342475  \n",
       "2  1.160686  \n",
       "3  0.140534  \n",
       "4 -0.073403  "
      ]
     },
     "execution_count": 26,
     "metadata": {},
     "output_type": "execute_result"
    }
   ],
   "source": [
    "X.head()"
   ]
  },
  {
   "cell_type": "markdown",
   "metadata": {},
   "source": [
    "# Model Building\n",
    "\n",
    "We will be building 6 types of classifier models and decide which classifier will be more effective in detecting fraud transactions.\n",
    "\n",
    "1. Models - We will be building on both Imbalanced and Balanced dataset and then compare the performance metrics\n",
    "\n",
    "    - Logistic Regression\n",
    "    - Decision Trees\n",
    "    - Random Forest\n",
    "    - XGBoost\n",
    "    \n",
    "\n",
    "2. Imbalance techniques/Solution\n",
    "\n",
    "    - Random UnderSampling\n",
    "    - Random OverSampling\n",
    "    - SMOTE (Synthetic Minority Oversampling Technique)\n",
    "    \n",
    "\n",
    "3. Metrics\n",
    "\n",
    "    - Confusion Matrix\n",
    "    - Precision Score\n",
    "    - Recall Score\n",
    "    - ROC_AUC\n",
    "    - F1 Score\n",
    "    \n",
    "\n",
    "4. Summarise the Best Features based on the optimum metrics\n",
    "\n",
    "5. Cost Benifit analysis check on the best model/s\n",
    "\n",
    "6. Give Suggestions to the business"
   ]
  },
  {
   "cell_type": "markdown",
   "metadata": {},
   "source": [
    "### Libraries to check the performance of the model"
   ]
  },
  {
   "cell_type": "code",
   "execution_count": 34,
   "metadata": {},
   "outputs": [],
   "source": [
    "# Importing Libraries for classification metrics\n",
    "from sklearn.metrics import confusion_matrix, roc_auc_score, precision_recall_curve, auc, log_loss, precision_score\n",
    "from sklearn.metrics import accuracy_score, classification_report, recall_score, roc_curve \n",
    "from imblearn.metrics import sensitivity_specificity_support\n",
    "from sklearn.model_selection import StratifiedKFold, GridSearchCV, cross_val_score"
   ]
  },
  {
   "cell_type": "markdown",
   "metadata": {},
   "source": [
    "# Building the models with `Imbalanced Data`"
   ]
  },
  {
   "cell_type": "markdown",
   "metadata": {},
   "source": [
    "## Splitting the data into Train and Test Dataset"
   ]
  },
  {
   "cell_type": "code",
   "execution_count": 28,
   "metadata": {},
   "outputs": [],
   "source": [
    "# Load the library for splitting the data\n",
    "from sklearn.model_selection import train_test_split"
   ]
  },
  {
   "cell_type": "code",
   "execution_count": 29,
   "metadata": {},
   "outputs": [],
   "source": [
    "# Split the data into training and testing set\n",
    "X_train, X_test, y_train, y_test = train_test_split(X, y, test_size=0.30, random_state=101)"
   ]
  },
  {
   "cell_type": "code",
   "execution_count": 30,
   "metadata": {},
   "outputs": [
    {
     "name": "stdout",
     "output_type": "stream",
     "text": [
      "X_train -  (199364, 29)\n",
      "y_train -  (199364,)\n",
      "X_test -  (85443, 29)\n",
      "y_test -  (85443,)\n"
     ]
    }
   ],
   "source": [
    "#Checking on the dimensions of the train and test data\n",
    "print(\"X_train - \",X_train.shape)\n",
    "print(\"y_train - \",y_train.shape)\n",
    "print(\"X_test - \",X_test.shape)\n",
    "print(\"y_test - \",y_test.shape)"
   ]
  },
  {
   "cell_type": "markdown",
   "metadata": {},
   "source": [
    "### Model1: Logistic Regression"
   ]
  },
  {
   "cell_type": "code",
   "execution_count": 35,
   "metadata": {},
   "outputs": [],
   "source": [
    "# Importing Logistic Regression library\n",
    "from sklearn.linear_model import LogisticRegression"
   ]
  },
  {
   "cell_type": "code",
   "execution_count": 36,
   "metadata": {},
   "outputs": [
    {
     "data": {
      "text/plain": [
       "LogisticRegression()"
      ]
     },
     "execution_count": 36,
     "metadata": {},
     "output_type": "execute_result"
    }
   ],
   "source": [
    "logreg = LogisticRegression()\n",
    "logreg.fit(X_train, y_train)"
   ]
  },
  {
   "cell_type": "code",
   "execution_count": 37,
   "metadata": {
    "scrolled": true
   },
   "outputs": [],
   "source": [
    "# Predict from Test data\n",
    "y_pred = logreg.predict(X_test)\n",
    "y_pred_proba = logreg.predict_proba(X_test)[:, 1] #loss\n",
    "[fpr, tpr, thr] = roc_curve(y_test, y_pred_proba)"
   ]
  },
  {
   "cell_type": "code",
   "execution_count": 38,
   "metadata": {},
   "outputs": [
    {
     "name": "stdout",
     "output_type": "stream",
     "text": [
      "Metrics:\n",
      "Accuracy:  0.9992158515033414\n",
      "log_loss:  0.003678835108248407\n",
      "Precision:  0.8811881188118812\n",
      "Recall:  0.6180555555555556\n",
      "F1:  0.7265306122448979\n",
      "AUC:  0.9804941050500787\n",
      "\n",
      "\n",
      "Classification report: \n",
      "               precision    recall  f1-score   support\n",
      "\n",
      "           0       1.00      1.00      1.00     85299\n",
      "           1       0.88      0.62      0.73       144\n",
      "\n",
      "    accuracy                           1.00     85443\n",
      "   macro avg       0.94      0.81      0.86     85443\n",
      "weighted avg       1.00      1.00      1.00     85443\n",
      "\n"
     ]
    }
   ],
   "source": [
    "# Checking classification scores\n",
    "print('Metrics:')\n",
    "print('Accuracy: ', metrics.accuracy_score(y_pred , y_test))\n",
    "print('log_loss: ', log_loss(y_test, y_pred_proba))\n",
    "print('Precision: ', metrics.precision_score(y_test , y_pred))\n",
    "print('Recall: ', metrics.recall_score(y_test , y_pred))\n",
    "print('F1: ', metrics.f1_score(y_test , y_pred))\n",
    "print('AUC: ', auc(fpr, tpr))\n",
    "\n",
    "print('\\n')\n",
    "\n",
    "print('Classification report: \\n', metrics.classification_report(y_test, y_pred))"
   ]
  },
  {
   "cell_type": "markdown",
   "metadata": {},
   "source": [
    "#### Plotting the ROC Curve"
   ]
  },
  {
   "cell_type": "code",
   "execution_count": 39,
   "metadata": {},
   "outputs": [
    {
     "data": {
      "image/png": "[encoded data removed]",
      "text/plain": [
       "<Figure size 432x288 with 1 Axes>"
      ]
     },
     "metadata": {},
     "output_type": "display_data"
    },
    {
     "name": "stdout",
     "output_type": "stream",
     "text": [
      "Using a threshold of 0.001 guarantees a sensitivity of 0.951 and a specificity of 0.872, i.e. a false positive rate of 12.79%.\n"
     ]
    }
   ],
   "source": [
    "#AUC Plot\n",
    "idx = np.min(np.where(tpr > 0.95)) # index of the first threshold for which the sensibility > 0.95\n",
    "\n",
    "plt.figure()\n",
    "plt.plot(fpr, tpr, color='coral', label='ROC curve (area = %0.3f)' % auc(fpr, tpr))\n",
    "plt.plot([0, 1], [0, 1], 'k--')\n",
    "plt.plot([0,fpr[idx]], [tpr[idx],tpr[idx]], 'k--', color='blue')\n",
    "plt.plot([fpr[idx],fpr[idx]], [0,tpr[idx]], 'k--', color='blue')\n",
    "plt.xlim([0.0, 1.0])\n",
    "plt.ylim([0.0, 1.05])\n",
    "plt.xlabel('False Positive Rate (1 - specificity)', fontsize=14)\n",
    "plt.ylabel('True Positive Rate (recall)', fontsize=14)\n",
    "plt.title('Receiver operating characteristic (ROC) curve')\n",
    "plt.legend(loc=\"lower right\")\n",
    "plt.show()\n",
    "\n",
    "print(\"Using a threshold of %.3f \" % thr[idx] + \"guarantees a sensitivity of %.3f \" % tpr[idx] +  \n",
    "      \"and a specificity of %.3f\" % (1-fpr[idx]) + \n",
    "      \", i.e. a false positive rate of %.2f%%.\" % (np.array(fpr[idx])*100))"
   ]
  },
  {
   "cell_type": "markdown",
   "metadata": {},
   "source": [
    "### Hyperparameter Tuning - Grid Search"
   ]
  },
  {
   "cell_type": "code",
   "execution_count": 40,
   "metadata": {},
   "outputs": [],
   "source": [
    "# GridSearch and RandomisedSearchCV for hyperparameter Tuning\n",
    "from sklearn.model_selection import GridSearchCV\n",
    "from sklearn.model_selection import RandomizedSearchCV\n",
    "\n",
    "# StratifiedKFold to get the K fold\n",
    "from sklearn.model_selection import StratifiedKFold"
   ]
  },
  {
   "cell_type": "code",
   "execution_count": 41,
   "metadata": {},
   "outputs": [],
   "source": [
    "logreg_cv = LogisticRegression()\n",
    "\n",
    "# Set of parameters we want to try for out Model\n",
    "parameters = { 'C' : [0.001,0.05,1.1,1.5,2,2.5], 'penalty': ['l1', 'l2']}\n",
    "\n",
    "# create 5 folds\n",
    "folds = StratifiedKFold(n_splits = 5, shuffle = True)\n",
    "\n",
    "#Running the Model with above chosen parameter\n",
    "LR_model_imb = GridSearchCV(estimator = logreg_cv, param_grid = parameters , scoring = 'accuracy', cv = folds, n_jobs = -1 , verbose = 2)"
   ]
  },
  {
   "cell_type": "code",
   "execution_count": 42,
   "metadata": {},
   "outputs": [
    {
     "name": "stdout",
     "output_type": "stream",
     "text": [
      "Fitting 5 folds for each of 12 candidates, totalling 60 fits\n"
     ]
    },
    {
     "name": "stderr",
     "output_type": "stream",
     "text": [
      "[Parallel(n_jobs=-1)]: Using backend LokyBackend with 8 concurrent workers.\n",
      "[Parallel(n_jobs=-1)]: Done  25 tasks      | elapsed:    6.8s\n",
      "[Parallel(n_jobs=-1)]: Done  60 out of  60 | elapsed:   17.5s finished\n"
     ]
    },
    {
     "data": {
      "text/plain": [
       "GridSearchCV(cv=StratifiedKFold(n_splits=5, random_state=None, shuffle=True),\n",
       "             estimator=LogisticRegression(), n_jobs=-1,\n",
       "             param_grid={'C': [0.001, 0.05, 1.1, 1.5, 2, 2.5],\n",
       "                         'penalty': ['l1', 'l2']},\n",
       "             scoring='accuracy', verbose=2)"
      ]
     },
     "execution_count": 42,
     "metadata": {},
     "output_type": "execute_result"
    }
   ],
   "source": [
    "# fitting the model using GridSearch\n",
    "LR_model_imb.fit(X_train, y_train)"
   ]
  },
  {
   "cell_type": "code",
   "execution_count": 44,
   "metadata": {},
   "outputs": [
    {
     "name": "stdout",
     "output_type": "stream",
     "text": [
      "Best AUC:  0.9991071602176398\n",
      "Best hyperparameters:  {'C': 0.05, 'penalty': 'l2'}\n"
     ]
    }
   ],
   "source": [
    "# print best hyperparameters\n",
    "print(\"Best AUC: \", LR_model_imb.best_score_)\n",
    "best_lr_params = LR_model_imb.best_params_\n",
    "print(\"Best hyperparameters: \", best_lr_params)"
   ]
  },
  {
   "cell_type": "markdown",
   "metadata": {},
   "source": [
    "As the best Hyper parameter turns out to be C = 0.05 and penalty = 'l2'. Building the model with the these optimum Hyper-parameters"
   ]
  },
  {
   "cell_type": "markdown",
   "metadata": {},
   "source": [
    "### Running the model with best parameters obtained from grid search"
   ]
  },
  {
   "cell_type": "code",
   "execution_count": 45,
   "metadata": {},
   "outputs": [
    {
     "data": {
      "text/plain": [
       "LogisticRegression(C=0.05)"
      ]
     },
     "execution_count": 45,
     "metadata": {},
     "output_type": "execute_result"
    }
   ],
   "source": [
    "# Making the Final Classification model.\n",
    "lr_imb = LogisticRegression(C = 0.05, penalty = 'l2')\n",
    "lr_imb.fit(X_train, y_train)"
   ]
  },
  {
   "cell_type": "markdown",
   "metadata": {},
   "source": [
    "### Predicting the Train Dataset results and calculating the accuracy"
   ]
  },
  {
   "cell_type": "code",
   "execution_count": 46,
   "metadata": {},
   "outputs": [],
   "source": [
    "y_pred_train = lr_imb.predict(X_train)"
   ]
  },
  {
   "cell_type": "markdown",
   "metadata": {},
   "source": [
    "#### Checking for Performance - Accuracy, Confusion Matrix & AUC"
   ]
  },
  {
   "cell_type": "code",
   "execution_count": 47,
   "metadata": {},
   "outputs": [
    {
     "name": "stdout",
     "output_type": "stream",
     "text": [
      "Accuracy Score: 0.9991523043277623\n",
      "Confusion Matrix: \n",
      "[[198985     31]\n",
      " [   138    210]]\n",
      "Area Under Curve: 0.801646254745763\n",
      "\n",
      "\n",
      "F1 score: 0.7130730050933786\n",
      "Recall: 0.603448275862069\n",
      "Precision: 0.8713692946058091\n"
     ]
    }
   ],
   "source": [
    "# performance\n",
    "print(f'Accuracy Score: {metrics.accuracy_score(y_train,y_pred_train)}')\n",
    "print(f'Confusion Matrix: \\n{confusion_matrix(y_train, y_pred_train)}')\n",
    "print(f'Area Under Curve: {roc_auc_score(y_train, y_pred_train)}')\n",
    "print('\\n')\n",
    "print(\"F1 score:\",metrics.f1_score(y_train, y_pred_train))\n",
    "print(\"Recall:\",metrics.recall_score(y_train, y_pred_train))\n",
    "print(\"Precision:\",metrics.precision_score(y_train, y_pred_train))"
   ]
  },
  {
   "cell_type": "markdown",
   "metadata": {},
   "source": [
    "### Predicting the Test Dataset results and calculating the accuracy"
   ]
  },
  {
   "cell_type": "code",
   "execution_count": 48,
   "metadata": {},
   "outputs": [],
   "source": [
    "y_pred = lr_imb.predict(X_test)"
   ]
  },
  {
   "cell_type": "markdown",
   "metadata": {},
   "source": [
    "#### Checking for Performance - Accuracy, Confusion Matrix & AUC"
   ]
  },
  {
   "cell_type": "code",
   "execution_count": 49,
   "metadata": {},
   "outputs": [
    {
     "name": "stdout",
     "output_type": "stream",
     "text": [
      "Accuracy Score: 0.9992158515033414\n",
      "Confusion Matrix: \n",
      "[[85288    11]\n",
      " [   56    88]]\n",
      "Area Under Curve: 0.8054910764878057\n",
      "\n",
      "\n",
      "F1 score: 0.7242798353909464\n",
      "Recall: 0.6111111111111112\n",
      "Precision: 0.8888888888888888\n"
     ]
    }
   ],
   "source": [
    "# Performance\n",
    "print(f'Accuracy Score: {metrics.accuracy_score(y_test,y_pred)}')\n",
    "print(f'Confusion Matrix: \\n{confusion_matrix(y_test, y_pred)}')\n",
    "print(f'Area Under Curve: {roc_auc_score(y_test, y_pred)}')\n",
    "print('\\n')\n",
    "print(\"F1 score:\",metrics.f1_score(y_test, y_pred))\n",
    "print(\"Recall:\",metrics.recall_score(y_test, y_pred))\n",
    "print(\"Precision:\",metrics.precision_score(y_test, y_pred))"
   ]
  },
  {
   "cell_type": "markdown",
   "metadata": {},
   "source": [
    "\n",
    "<b>The AUC for both Train and Test dataset that is on an imbalanced dataset is almost the same.\n",
    "\n",
    "1. The Area Under Curve for Train Dataset - 0.805\n",
    "2. The Area Under Curve for Test Dataset - 0.808\n",
    "\n",
    "This means that the model is good. We can now look into balancing the data and checking the AUC for both Train and Test Dataset</b>\n"
   ]
  },
  {
   "cell_type": "markdown",
   "metadata": {},
   "source": [
    "### Model2: Decision Tree"
   ]
  },
  {
   "cell_type": "code",
   "execution_count": 50,
   "metadata": {},
   "outputs": [
    {
     "data": {
      "text/plain": [
       "DecisionTreeClassifier()"
      ]
     },
     "execution_count": 50,
     "metadata": {},
     "output_type": "execute_result"
    }
   ],
   "source": [
    "# Importing decision tree classifier from sklearn library\n",
    "from sklearn.tree import DecisionTreeClassifier \n",
    "\n",
    "dt_classifier = DecisionTreeClassifier()\n",
    "dt_classifier.fit(X_train, y_train)"
   ]
  },
  {
   "cell_type": "code",
   "execution_count": 51,
   "metadata": {},
   "outputs": [
    {
     "name": "stdout",
     "output_type": "stream",
     "text": [
      "              precision    recall  f1-score   support\n",
      "\n",
      "           0       1.00      1.00      1.00     85299\n",
      "           1       0.74      0.79      0.77       144\n",
      "\n",
      "    accuracy                           1.00     85443\n",
      "   macro avg       0.87      0.90      0.88     85443\n",
      "weighted avg       1.00      1.00      1.00     85443\n",
      "\n"
     ]
    }
   ],
   "source": [
    "# Making predictions\n",
    "y_pred_dt = dt_classifier.predict(X_test)\n",
    "\n",
    "# Printing classification report\n",
    "print(classification_report(y_test, y_pred_dt))"
   ]
  },
  {
   "cell_type": "code",
   "execution_count": 52,
   "metadata": {},
   "outputs": [
    {
     "name": "stdout",
     "output_type": "stream",
     "text": [
      "[[85259    40]\n",
      " [   30   114]]\n",
      "Accuracy Score:  0.9991807403766253\n"
     ]
    }
   ],
   "source": [
    "# Printing confusion matrix and accuracy\n",
    "print(confusion_matrix(y_test,y_pred_dt))\n",
    "print(\"Accuracy Score: \", accuracy_score(y_test,y_pred_dt))"
   ]
  },
  {
   "cell_type": "markdown",
   "metadata": {},
   "source": [
    "### Hyperparameter Tuning - Grid Search"
   ]
  },
  {
   "cell_type": "code",
   "execution_count": 54,
   "metadata": {},
   "outputs": [
    {
     "name": "stdout",
     "output_type": "stream",
     "text": [
      "Fitting 5 folds for each of 16 candidates, totalling 80 fits\n"
     ]
    },
    {
     "name": "stderr",
     "output_type": "stream",
     "text": [
      "[Parallel(n_jobs=1)]: Using backend SequentialBackend with 1 concurrent workers.\n",
      "[Parallel(n_jobs=1)]: Done  80 out of  80 | elapsed:  3.0min finished\n"
     ]
    },
    {
     "data": {
      "text/plain": [
       "GridSearchCV(cv=StratifiedKFold(n_splits=5, random_state=None, shuffle=True),\n",
       "             estimator=DecisionTreeClassifier(),\n",
       "             param_grid={'criterion': ['entropy', 'gini'], 'max_depth': [2, 3],\n",
       "                         'min_samples_leaf': [5, 6],\n",
       "                         'min_samples_split': [5, 6]},\n",
       "             verbose=1)"
      ]
     },
     "execution_count": 54,
     "metadata": {},
     "output_type": "execute_result"
    }
   ],
   "source": [
    "# Create the parameter grid \n",
    "param_grid = {\n",
    "    'max_depth': list(range(2,4,1)),\n",
    "    'min_samples_leaf': list(range(5,7,1)),\n",
    "    'min_samples_split': list(range(5,7,1)),\n",
    "    'criterion': [\"entropy\", \"gini\"]\n",
    "}\n",
    "\n",
    "#n_folds = 5\n",
    "# create 5 folds\n",
    "n_folds = StratifiedKFold(n_splits = 5, shuffle = True)\n",
    "\n",
    "# Instantiate the grid search model\n",
    "dtree = DecisionTreeClassifier()\n",
    "dtree_gridsearch = GridSearchCV(estimator = dtree, param_grid = param_grid, cv = n_folds, verbose = 1)\n",
    "\n",
    "# Fit the grid search to the data\n",
    "dtree_gridsearch.fit(X_train,y_train)"
   ]
  },
  {
   "cell_type": "code",
   "execution_count": 55,
   "metadata": {},
   "outputs": [
    {
     "name": "stdout",
     "output_type": "stream",
     "text": [
      "The best parameters for using this model is DecisionTreeClassifier(criterion='entropy', max_depth=3, min_samples_leaf=5,\n",
      "                       min_samples_split=5)\n",
      "best accuracy 0.9993027829500315\n"
     ]
    }
   ],
   "source": [
    "# Checking for the best parameters\n",
    "best_parameters = dtree_gridsearch.best_estimator_\n",
    "print('The best parameters for using this model is', best_parameters)\n",
    "print(\"best accuracy\", dtree_gridsearch.best_score_)"
   ]
  },
  {
   "cell_type": "markdown",
   "metadata": {},
   "source": [
    "### Running the model with best parameters obtained from grid search"
   ]
  },
  {
   "cell_type": "code",
   "execution_count": 56,
   "metadata": {},
   "outputs": [
    {
     "data": {
      "text/plain": [
       "DecisionTreeClassifier(criterion='entropy', max_depth=3, min_samples_leaf=6,\n",
       "                       min_samples_split=5, random_state=100)"
      ]
     },
     "execution_count": 56,
     "metadata": {},
     "output_type": "execute_result"
    }
   ],
   "source": [
    "# model with optimal hyperparameters\n",
    "dt_Classifier_entropy = DecisionTreeClassifier(criterion = \"entropy\", \n",
    "                                  random_state = 100,\n",
    "                                  max_depth=3, \n",
    "                                  min_samples_leaf=6,\n",
    "                                  min_samples_split=5)\n",
    "dt_Classifier_entropy.fit(X_train, y_train)"
   ]
  },
  {
   "cell_type": "markdown",
   "metadata": {},
   "source": [
    "### Predicting the Train Dataset results and calculating the accuracy"
   ]
  },
  {
   "cell_type": "code",
   "execution_count": 57,
   "metadata": {},
   "outputs": [],
   "source": [
    "y_pred_train = dt_Classifier_entropy.predict(X_train)"
   ]
  },
  {
   "cell_type": "markdown",
   "metadata": {},
   "source": [
    "#### Checking for Performance - Accuracy, Confusion Matrix & AUC"
   ]
  },
  {
   "cell_type": "code",
   "execution_count": 58,
   "metadata": {},
   "outputs": [
    {
     "name": "stdout",
     "output_type": "stream",
     "text": [
      "Classification Report: \n",
      "               precision    recall  f1-score   support\n",
      "\n",
      "           0       1.00      1.00      1.00    199016\n",
      "           1       0.82      0.82      0.82       348\n",
      "\n",
      "    accuracy                           1.00    199364\n",
      "   macro avg       0.91      0.91      0.91    199364\n",
      "weighted avg       1.00      1.00      1.00    199364\n",
      "\n"
     ]
    }
   ],
   "source": [
    "print(\"Classification Report: \\n\", classification_report(y_train, y_pred_train))"
   ]
  },
  {
   "cell_type": "code",
   "execution_count": 59,
   "metadata": {
    "scrolled": true
   },
   "outputs": [
    {
     "name": "stdout",
     "output_type": "stream",
     "text": [
      "Accuracy Score: 0.9993830380610341\n",
      "Confusion Matrix: \n",
      "[[198954     62]\n",
      " [    61    287]]\n",
      "Area Under Curve: 0.9122005554685374\n",
      "\n",
      "\n",
      "F1 score: 0.823529411764706\n",
      "Recall: 0.8247126436781609\n",
      "Precision: 0.8223495702005731\n"
     ]
    }
   ],
   "source": [
    "# Performance\n",
    "print(f'Accuracy Score: {accuracy_score(y_train,y_pred_train)}')\n",
    "print(f'Confusion Matrix: \\n{confusion_matrix(y_train, y_pred_train)}')\n",
    "print(f'Area Under Curve: {roc_auc_score(y_train, y_pred_train)}')\n",
    "print('\\n')\n",
    "print('F1 score:', metrics.f1_score(y_train, y_pred_train))\n",
    "print(\"Recall:\",metrics.recall_score(y_train, y_pred_train))\n",
    "print(\"Precision:\",metrics.precision_score(y_train, y_pred_train))"
   ]
  },
  {
   "cell_type": "markdown",
   "metadata": {},
   "source": [
    "### Predicting the Test Dataset results and calculating the accuracy"
   ]
  },
  {
   "cell_type": "code",
   "execution_count": 60,
   "metadata": {},
   "outputs": [],
   "source": [
    "y_pred_test = dt_Classifier_entropy.predict(X_test)"
   ]
  },
  {
   "cell_type": "markdown",
   "metadata": {},
   "source": [
    "#### Checking for Performance - Accuracy, Confusion Matrix & AUC"
   ]
  },
  {
   "cell_type": "code",
   "execution_count": 61,
   "metadata": {
    "scrolled": true
   },
   "outputs": [
    {
     "name": "stdout",
     "output_type": "stream",
     "text": [
      "              precision    recall  f1-score   support\n",
      "\n",
      "           0       1.00      1.00      1.00     85299\n",
      "           1       0.81      0.81      0.81       144\n",
      "\n",
      "    accuracy                           1.00     85443\n",
      "   macro avg       0.91      0.90      0.90     85443\n",
      "weighted avg       1.00      1.00      1.00     85443\n",
      "\n"
     ]
    }
   ],
   "source": [
    "print(classification_report(y_test, y_pred_test))"
   ]
  },
  {
   "cell_type": "code",
   "execution_count": 62,
   "metadata": {},
   "outputs": [
    {
     "name": "stdout",
     "output_type": "stream",
     "text": [
      "Accuracy Score: 0.9993562960102056\n",
      "Confusion Matrix: \n",
      "[[85272    27]\n",
      " [   28   116]]\n",
      "Area Under Curve: 0.9026195109751188\n",
      "\n",
      "\n",
      "F1 score: 0.8083623693379791\n",
      "Recall: 0.8055555555555556\n",
      "Precision: 0.8111888111888111\n"
     ]
    }
   ],
   "source": [
    "# Performance\n",
    "print(f'Accuracy Score: {accuracy_score(y_test, y_pred_test)}')\n",
    "print(f'Confusion Matrix: \\n{confusion_matrix(y_test, y_pred_test)}')\n",
    "print(f'Area Under Curve: {roc_auc_score(y_test, y_pred_test)}')\n",
    "print('\\n')\n",
    "print('F1 score:', metrics.f1_score(y_test, y_pred_test))\n",
    "print(\"Recall:\",metrics.recall_score(y_test, y_pred_test))\n",
    "print(\"Precision:\",metrics.precision_score(y_test, y_pred_test))"
   ]
  },
  {
   "cell_type": "markdown",
   "metadata": {},
   "source": [
    "<b>The AUC for both Train and Test dataset that is on an imbalanced dataset is almost the same.\n",
    "\n",
    "1. The Area Under Curve for Train Dataset - 0.912\n",
    "2. The Area Under Curve for Test Dataset - 0.902\n",
    "\n",
    "This means that the model is good. We can now look into balancing the data and checking the AUC for both Train and Test Dataset</b>\n"
   ]
  },
  {
   "cell_type": "markdown",
   "metadata": {},
   "source": [
    "### Model3: Random Forest"
   ]
  },
  {
   "cell_type": "code",
   "execution_count": 63,
   "metadata": {},
   "outputs": [
    {
     "data": {
      "text/plain": [
       "RandomForestClassifier()"
      ]
     },
     "execution_count": 63,
     "metadata": {},
     "output_type": "execute_result"
    }
   ],
   "source": [
    "# Importing random forest classifier from sklearn library\n",
    "from sklearn.ensemble import RandomForestClassifier\n",
    "\n",
    "# Running the random forest with default parameters.\n",
    "rfc = RandomForestClassifier()\n",
    "\n",
    "# fit\n",
    "rfc.fit(X_train,y_train)"
   ]
  },
  {
   "cell_type": "code",
   "execution_count": 64,
   "metadata": {},
   "outputs": [
    {
     "name": "stdout",
     "output_type": "stream",
     "text": [
      "              precision    recall  f1-score   support\n",
      "\n",
      "           0       1.00      1.00      1.00     85299\n",
      "           1       0.94      0.81      0.87       144\n",
      "\n",
      "    accuracy                           1.00     85443\n",
      "   macro avg       0.97      0.90      0.93     85443\n",
      "weighted avg       1.00      1.00      1.00     85443\n",
      "\n"
     ]
    }
   ],
   "source": [
    "# Making predictions\n",
    "y_pred_rf = rfc.predict(X_test)\n",
    "\n",
    "# Let's check the report of our default model\n",
    "print(classification_report(y_test,y_pred_rf))"
   ]
  },
  {
   "cell_type": "code",
   "execution_count": 65,
   "metadata": {},
   "outputs": [
    {
     "name": "stdout",
     "output_type": "stream",
     "text": [
      "[[85292     7]\n",
      " [   28   116]]\n",
      "Accuracy Score:  0.9995903701883126\n"
     ]
    }
   ],
   "source": [
    "# Printing confusion matrix and accuracy\n",
    "print(confusion_matrix(y_test,y_pred_rf))\n",
    "print(\"Accuracy Score: \", accuracy_score(y_test,y_pred_rf))"
   ]
  },
  {
   "cell_type": "markdown",
   "metadata": {},
   "source": [
    "### Hyperparameter Tuning - Grid Search"
   ]
  },
  {
   "cell_type": "code",
   "execution_count": 66,
   "metadata": {
    "scrolled": true
   },
   "outputs": [
    {
     "name": "stdout",
     "output_type": "stream",
     "text": [
      "Fitting 10 folds for each of 36 candidates, totalling 360 fits\n"
     ]
    },
    {
     "name": "stderr",
     "output_type": "stream",
     "text": [
      "[Parallel(n_jobs=-1)]: Using backend LokyBackend with 8 concurrent workers.\n",
      "[Parallel(n_jobs=-1)]: Done  34 tasks      | elapsed:  1.7min\n",
      "[Parallel(n_jobs=-1)]: Done 184 tasks      | elapsed: 14.5min\n",
      "[Parallel(n_jobs=-1)]: Done 360 out of 360 | elapsed: 28.1min finished\n"
     ]
    },
    {
     "data": {
      "text/plain": [
       "GridSearchCV(cv=10, estimator=RandomForestClassifier(random_state=42),\n",
       "             n_jobs=-1,\n",
       "             param_grid={'criterion': ['gini', 'entropy'],\n",
       "                         'max_depth': [5, 10, 20],\n",
       "                         'max_features': ['auto', 'sqrt', 'log2'],\n",
       "                         'n_estimators': [10, 25]},\n",
       "             verbose=1)"
      ]
     },
     "execution_count": 66,
     "metadata": {},
     "output_type": "execute_result"
    }
   ],
   "source": [
    "# Create a based model\n",
    "rf = RandomForestClassifier(random_state=42)\n",
    "\n",
    "# Create the parameter grid based on the results of random search \n",
    "param_grid = { \n",
    "    'n_estimators': [10, 25],\n",
    "    'max_features': ['auto', 'sqrt', 'log2'],\n",
    "    'max_depth' : [5,10,20],\n",
    "    'criterion' :['gini', 'entropy']\n",
    "}\n",
    "\n",
    "# Instantiate the grid search model\n",
    "rf_gridSearch = GridSearchCV(estimator = rf, param_grid = param_grid, cv = 5 ,n_jobs = -1,verbose = 1)\n",
    "\n",
    "# Fit the grid search to the data\n",
    "rf_gridSearch.fit(X_train,y_train)"
   ]
  },
  {
   "cell_type": "code",
   "execution_count": 67,
   "metadata": {},
   "outputs": [
    {
     "name": "stdout",
     "output_type": "stream",
     "text": [
      "The best parameters for using this model is {'criterion': 'entropy', 'max_depth': 20, 'max_features': 'log2', 'n_estimators': 25}\n",
      "Accuracy 0.9995335175385129\n"
     ]
    }
   ],
   "source": [
    "# Checking for the best parameters\n",
    "best_parameters = rf_gridSearch.best_params_\n",
    "print('The best parameters for using this model is', best_parameters)\n",
    "print(\"Accuracy\", rf_gridSearch.best_score_)"
   ]
  },
  {
   "cell_type": "markdown",
   "metadata": {},
   "source": [
    "### Running the model with best parameters obtained from grid search"
   ]
  },
  {
   "cell_type": "code",
   "execution_count": 68,
   "metadata": {},
   "outputs": [
    {
     "data": {
      "text/plain": [
       "RandomForestClassifier(criterion='entropy', max_depth=20, max_features='log2',\n",
       "                       n_estimators=25)"
      ]
     },
     "execution_count": 68,
     "metadata": {},
     "output_type": "execute_result"
    }
   ],
   "source": [
    "rfc=RandomForestClassifier(max_features='log2', n_estimators= 25, max_depth=20, criterion='entropy')\n",
    "#Fit the model\n",
    "rfc.fit(X_train,y_train)"
   ]
  },
  {
   "cell_type": "markdown",
   "metadata": {},
   "source": [
    "### Predicting the Train Dataset results and calculating the accuracy"
   ]
  },
  {
   "cell_type": "code",
   "execution_count": 69,
   "metadata": {},
   "outputs": [],
   "source": [
    "y_pred_train = rfc.predict(X_train)"
   ]
  },
  {
   "cell_type": "markdown",
   "metadata": {},
   "source": [
    "#### Checking for Performance - Accuracy, Confusion Matrix & AUC"
   ]
  },
  {
   "cell_type": "code",
   "execution_count": 70,
   "metadata": {},
   "outputs": [
    {
     "name": "stdout",
     "output_type": "stream",
     "text": [
      "              precision    recall  f1-score   support\n",
      "\n",
      "           0       1.00      1.00      1.00    199016\n",
      "           1       1.00      0.99      0.99       348\n",
      "\n",
      "    accuracy                           1.00    199364\n",
      "   macro avg       1.00      0.99      1.00    199364\n",
      "weighted avg       1.00      1.00      1.00    199364\n",
      "\n"
     ]
    }
   ],
   "source": [
    "print(classification_report(y_train, y_pred_train))"
   ]
  },
  {
   "cell_type": "code",
   "execution_count": 71,
   "metadata": {},
   "outputs": [
    {
     "name": "stdout",
     "output_type": "stream",
     "text": [
      "Accuracy Score: 0.9999749202463835\n",
      "Confusion Matrix: \n",
      "[[199016      0]\n",
      " [     5    343]]\n",
      "Area Under Curve: 0.992816091954023\n",
      "\n",
      "\n",
      "F1 score: 0.9927641099855282\n",
      "Recall: 0.985632183908046\n",
      "Precision: 1.0\n"
     ]
    }
   ],
   "source": [
    "# Performance\n",
    "print(f'Accuracy Score: {accuracy_score(y_train, y_pred_train)}')\n",
    "print(f'Confusion Matrix: \\n{confusion_matrix(y_train, y_pred_train)}')\n",
    "print(f'Area Under Curve: {roc_auc_score(y_train, y_pred_train)}')\n",
    "print('\\n')\n",
    "print('F1 score:', metrics.f1_score(y_train, y_pred_train))\n",
    "print(\"Recall:\",metrics.recall_score(y_train, y_pred_train))\n",
    "print(\"Precision:\",metrics.precision_score(y_train, y_pred_train))"
   ]
  },
  {
   "cell_type": "markdown",
   "metadata": {},
   "source": [
    "### Predicting the Test Dataset results and calculating the accuracy"
   ]
  },
  {
   "cell_type": "code",
   "execution_count": 72,
   "metadata": {},
   "outputs": [],
   "source": [
    "y_pred_test = rfc.predict(X_test)"
   ]
  },
  {
   "cell_type": "markdown",
   "metadata": {},
   "source": [
    "#### Checking for Performance - Accuracy, Confusion Matrix & AUC"
   ]
  },
  {
   "cell_type": "code",
   "execution_count": 73,
   "metadata": {},
   "outputs": [
    {
     "name": "stdout",
     "output_type": "stream",
     "text": [
      "              precision    recall  f1-score   support\n",
      "\n",
      "           0       1.00      1.00      1.00     85299\n",
      "           1       0.95      0.78      0.86       144\n",
      "\n",
      "    accuracy                           1.00     85443\n",
      "   macro avg       0.97      0.89      0.93     85443\n",
      "weighted avg       1.00      1.00      1.00     85443\n",
      "\n"
     ]
    }
   ],
   "source": [
    "print(classification_report(y_test, y_pred_test))"
   ]
  },
  {
   "cell_type": "code",
   "execution_count": 74,
   "metadata": {},
   "outputs": [
    {
     "name": "stdout",
     "output_type": "stream",
     "text": [
      "Accuracy Score: 0.9995669627705019\n",
      "Confusion Matrix: \n",
      "[[85293     6]\n",
      " [   31   113]]\n",
      "Area Under Curve: 0.8923259407105203\n",
      "\n",
      "\n",
      "F1 score: 0.8593155893536122\n",
      "Recall: 0.7847222222222222\n",
      "Precision: 0.9495798319327731\n"
     ]
    }
   ],
   "source": [
    "# Performance\n",
    "print(f'Accuracy Score: {accuracy_score(y_test, y_pred_test)}')\n",
    "print(f'Confusion Matrix: \\n{confusion_matrix(y_test, y_pred_test)}')\n",
    "print(f'Area Under Curve: {roc_auc_score(y_test, y_pred_test)}')\n",
    "print('\\n')\n",
    "print('F1 score:', metrics.f1_score(y_test, y_pred_test))\n",
    "print(\"Recall:\",metrics.recall_score(y_test, y_pred_test))\n",
    "print(\"Precision:\",metrics.precision_score(y_test, y_pred_test))"
   ]
  },
  {
   "cell_type": "markdown",
   "metadata": {},
   "source": [
    "<b>The AUC for both Train and Test dataset that is on an imbalanced dataset is varying from each other.\n",
    "\n",
    "1. The Area Under Curve for Train Dataset - 0.991\n",
    "2. The Area Under Curve for Test Dataset - 0.895\n",
    "</b>\n"
   ]
  },
  {
   "cell_type": "code",
   "execution_count": 75,
   "metadata": {},
   "outputs": [],
   "source": [
    "# AS the Dataset is large taking Partial dataset for fitting the model\n",
    "X1_train = X_train[:60000]\n",
    "y1_train = y_train[:60000]\n",
    "X1_test = X_test[60000:]\n",
    "y1_test = y_test[60000:]"
   ]
  },
  {
   "cell_type": "markdown",
   "metadata": {},
   "source": [
    "### Model4: XGBoost"
   ]
  },
  {
   "cell_type": "code",
   "execution_count": 76,
   "metadata": {},
   "outputs": [],
   "source": [
    "# Importing XGBoost Classifier library\n",
    "from xgboost import XGBClassifier"
   ]
  },
  {
   "cell_type": "code",
   "execution_count": 77,
   "metadata": {},
   "outputs": [
    {
     "name": "stdout",
     "output_type": "stream",
     "text": [
      "AUC: 0.975 (0.024)\n"
     ]
    }
   ],
   "source": [
    "XGB = XGBClassifier()\n",
    "kfold = StratifiedKFold(n_splits=3, random_state=42)\n",
    "\n",
    "# use area under the precision-recall curve to show classification accuracy\n",
    "scoring = 'roc_auc'\n",
    "results = cross_val_score(XGB, X1_train, y1_train, cv=kfold, scoring = scoring)\n",
    "print( \"AUC: %.3f (%.3f)\" % (results.mean(), results.std()) )"
   ]
  },
  {
   "cell_type": "markdown",
   "metadata": {},
   "source": [
    "### Hyperparameter Tuning - Grid Search"
   ]
  },
  {
   "cell_type": "code",
   "execution_count": 78,
   "metadata": {
    "scrolled": true
   },
   "outputs": [
    {
     "name": "stdout",
     "output_type": "stream",
     "text": [
      "Fitting 5 folds for each of 2700 candidates, totalling 13500 fits\n"
     ]
    },
    {
     "name": "stderr",
     "output_type": "stream",
     "text": [
      "[Parallel(n_jobs=-1)]: Using backend LokyBackend with 8 concurrent workers.\n",
      "[Parallel(n_jobs=-1)]: Done  34 tasks      | elapsed:    4.8s\n",
      "[Parallel(n_jobs=-1)]: Done 184 tasks      | elapsed:   43.7s\n",
      "[Parallel(n_jobs=-1)]: Done 434 tasks      | elapsed:  1.8min\n",
      "[Parallel(n_jobs=-1)]: Done 784 tasks      | elapsed:  3.5min\n",
      "[Parallel(n_jobs=-1)]: Done 1234 tasks      | elapsed:  5.8min\n",
      "[Parallel(n_jobs=-1)]: Done 1784 tasks      | elapsed:  8.3min\n",
      "[Parallel(n_jobs=-1)]: Done 2434 tasks      | elapsed: 11.4min\n",
      "[Parallel(n_jobs=-1)]: Done 3184 tasks      | elapsed: 14.9min\n",
      "[Parallel(n_jobs=-1)]: Done 4034 tasks      | elapsed: 18.9min\n",
      "[Parallel(n_jobs=-1)]: Done 4984 tasks      | elapsed: 24.3min\n",
      "[Parallel(n_jobs=-1)]: Done 6034 tasks      | elapsed: 31.4min\n",
      "[Parallel(n_jobs=-1)]: Done 7184 tasks      | elapsed: 39.3min\n",
      "[Parallel(n_jobs=-1)]: Done 8434 tasks      | elapsed: 47.6min\n",
      "[Parallel(n_jobs=-1)]: Done 9784 tasks      | elapsed: 58.2min\n",
      "[Parallel(n_jobs=-1)]: Done 11234 tasks      | elapsed: 70.7min\n",
      "[Parallel(n_jobs=-1)]: Done 12784 tasks      | elapsed: 86.5min\n",
      "[Parallel(n_jobs=-1)]: Done 13500 out of 13500 | elapsed: 93.9min finished\n"
     ]
    },
    {
     "data": {
      "text/plain": [
       "GridSearchCV(cv=StratifiedKFold(n_splits=5, random_state=0, shuffle=True),\n",
       "             estimator=XGBClassifier(), n_jobs=-1,\n",
       "             param_grid={'colsample_bytree': [0.3, 0.5, 0.7],\n",
       "                         'gamma': [0, 0.2, 0.3],\n",
       "                         'learning_rate': [0.05, 0.1, 0.2, 0.3, 0.5],\n",
       "                         'max_depth': range(1, 11, 2),\n",
       "                         'min_child_weight': [1, 3, 5, 7],\n",
       "                         'n_estimators': [10, 25, 50]},\n",
       "             return_train_score=True, scoring='roc_auc', verbose=1)"
      ]
     },
     "execution_count": 78,
     "metadata": {},
     "output_type": "execute_result"
    }
   ],
   "source": [
    "# Create a based model\n",
    "xgb_model = XGBClassifier()\n",
    "\n",
    "# Create the parameter grid based on the results of random search \n",
    "param_tuning = {\n",
    "    'learning_rate': [0.05, 0.1,0.2,0.3,0.5],\n",
    "    'max_depth': range(1, 11, 2),\n",
    "    'colsample_bytree': [0.3,0.5, 0.7],\n",
    "    'gamma': [0,0.2,0.3],\n",
    "    'min_child_weight' : [1,3,5,7],\n",
    "    'n_estimators' : [10, 25, 50]\n",
    "    }\n",
    "\n",
    "folds = StratifiedKFold(n_splits =3, shuffle = True, random_state = 0)\n",
    "\n",
    "# Instantiate the grid search model\n",
    "xgb_gsearch = GridSearchCV(estimator = xgb_model,param_grid = param_tuning, scoring= 'roc_auc', cv = folds,return_train_score = True, n_jobs = -1, verbose = 1)\n",
    "\n",
    "# Fit the grid search to the data\n",
    "xgb_gsearch.fit(X1_train,y1_train)"
   ]
  },
  {
   "cell_type": "code",
   "execution_count": 79,
   "metadata": {
    "scrolled": true
   },
   "outputs": [
    {
     "name": "stdout",
     "output_type": "stream",
     "text": [
      "Best AUC: 0.981679 using {'colsample_bytree': 0.3, 'gamma': 0, 'learning_rate': 0.2, 'max_depth': 7, 'min_child_weight': 1, 'n_estimators': 50}\n"
     ]
    }
   ],
   "source": [
    "# summarize results\n",
    "print(\"Best AUC: %f using %s\" % (xgb_gsearch.best_score_, xgb_gsearch.best_params_))"
   ]
  },
  {
   "cell_type": "markdown",
   "metadata": {},
   "source": [
    "### Running the model with best parameters obtained from grid search"
   ]
  },
  {
   "cell_type": "code",
   "execution_count": 80,
   "metadata": {},
   "outputs": [
    {
     "data": {
      "text/plain": [
       "XGBClassifier(colsample_bytree=0.3, learning_rate=0.2, max_depth=7,\n",
       "              n_estimators=50)"
      ]
     },
     "execution_count": 80,
     "metadata": {},
     "output_type": "execute_result"
    }
   ],
   "source": [
    "XGB_model = XGBClassifier(colsample_bytree = 0.3, gamma =0, learning_rate = 0.2, max_depth = 7, min_child_weight =1, n_estimators = 50)\n",
    "#Fit the model on the original train dataset not the partial dataset (X_Train and y_train)\n",
    "XGB_model.fit(X_train,y_train)"
   ]
  },
  {
   "cell_type": "markdown",
   "metadata": {},
   "source": [
    "### Predicting the Train Dataset results and calculating the accuracy"
   ]
  },
  {
   "cell_type": "code",
   "execution_count": 81,
   "metadata": {},
   "outputs": [],
   "source": [
    "y_pred_train = XGB_model.predict(X_train)"
   ]
  },
  {
   "cell_type": "markdown",
   "metadata": {},
   "source": [
    "#### Checking for Performance - Accuracy, Confusion Matrix & AUC"
   ]
  },
  {
   "cell_type": "code",
   "execution_count": 82,
   "metadata": {},
   "outputs": [
    {
     "name": "stdout",
     "output_type": "stream",
     "text": [
      "              precision    recall  f1-score   support\n",
      "\n",
      "           0       1.00      1.00      1.00    199016\n",
      "           1       1.00      0.91      0.95       348\n",
      "\n",
      "    accuracy                           1.00    199364\n",
      "   macro avg       1.00      0.96      0.98    199364\n",
      "weighted avg       1.00      1.00      1.00    199364\n",
      "\n"
     ]
    }
   ],
   "source": [
    "print(classification_report(y_train, y_pred_train))"
   ]
  },
  {
   "cell_type": "code",
   "execution_count": 83,
   "metadata": {},
   "outputs": [
    {
     "name": "stdout",
     "output_type": "stream",
     "text": [
      "Accuracy Score: 0.999849521478301\n",
      "Confusion Matrix: \n",
      "[[199016      0]\n",
      " [    30    318]]\n",
      "Area Under Curve: 0.9568965517241379\n",
      "\n",
      "\n",
      "F1 score: 0.9549549549549551\n",
      "Recall: 0.9137931034482759\n",
      "Precision: 1.0\n"
     ]
    }
   ],
   "source": [
    "# Performance\n",
    "print(f'Accuracy Score: {accuracy_score(y_train, y_pred_train)}')\n",
    "print(f'Confusion Matrix: \\n{confusion_matrix(y_train, y_pred_train)}')\n",
    "print(f'Area Under Curve: {roc_auc_score(y_train, y_pred_train)}')\n",
    "print('\\n')\n",
    "print('F1 score:', metrics.f1_score(y_train, y_pred_train))\n",
    "print(\"Recall:\",metrics.recall_score(y_train, y_pred_train))\n",
    "print(\"Precision:\",metrics.precision_score(y_train, y_pred_train))"
   ]
  },
  {
   "cell_type": "markdown",
   "metadata": {},
   "source": [
    "### Predicting the Test Dataset results and calculating the accuracy"
   ]
  },
  {
   "cell_type": "code",
   "execution_count": 84,
   "metadata": {},
   "outputs": [],
   "source": [
    "y_pred_test = XGB_model.predict(X_test)"
   ]
  },
  {
   "cell_type": "markdown",
   "metadata": {},
   "source": [
    "#### Checking for Performance - Accuracy, Confusion Matrix & AUC"
   ]
  },
  {
   "cell_type": "code",
   "execution_count": 85,
   "metadata": {},
   "outputs": [
    {
     "name": "stdout",
     "output_type": "stream",
     "text": [
      "              precision    recall  f1-score   support\n",
      "\n",
      "           0       1.00      1.00      1.00     85299\n",
      "           1       0.93      0.78      0.85       144\n",
      "\n",
      "    accuracy                           1.00     85443\n",
      "   macro avg       0.97      0.89      0.93     85443\n",
      "weighted avg       1.00      1.00      1.00     85443\n",
      "\n"
     ]
    }
   ],
   "source": [
    "print(classification_report(y_test, y_pred_test))"
   ]
  },
  {
   "cell_type": "code",
   "execution_count": 86,
   "metadata": {},
   "outputs": [
    {
     "name": "stdout",
     "output_type": "stream",
     "text": [
      "Accuracy Score: 0.9995435553526912\n",
      "Confusion Matrix: \n",
      "[[85291     8]\n",
      " [   31   113]]\n",
      "Area Under Curve: 0.8923142172436567\n",
      "\n",
      "\n",
      "F1 score: 0.8528301886792454\n",
      "Recall: 0.7847222222222222\n",
      "Precision: 0.9338842975206612\n"
     ]
    }
   ],
   "source": [
    "# Performance\n",
    "print(f'Accuracy Score: {accuracy_score(y_test, y_pred_test)}')\n",
    "print(f'Confusion Matrix: \\n{confusion_matrix(y_test, y_pred_test)}')\n",
    "print(f'Area Under Curve: {roc_auc_score(y_test, y_pred_test)}')\n",
    "print('\\n')\n",
    "print('F1 score:', metrics.f1_score(y_test, y_pred_test))\n",
    "print(\"Recall:\",metrics.recall_score(y_test, y_pred_test))\n",
    "print(\"Precision:\",metrics.precision_score(y_test, y_pred_test))"
   ]
  },
  {
   "cell_type": "markdown",
   "metadata": {},
   "source": [
    "<b>The AUC for both Train and Test dataset that is on an imbalanced dataset.\n",
    "\n",
    "1. The Area Under Curve for Train Dataset - 0.956\n",
    "2. The Area Under Curve for Test Dataset - 0.892\n",
    "\n",
    "This means that the model is good. We can now look into balancing the data and checking the AUC for both Train and Test Dataset</b>"
   ]
  },
  {
   "cell_type": "markdown",
   "metadata": {},
   "source": [
    "**Now let us Balance the data and check for the metrics for all the models and select the best model basis the optimum metrics**"
   ]
  },
  {
   "cell_type": "markdown",
   "metadata": {},
   "source": [
    "# Building the models with `Balanced Data`"
   ]
  },
  {
   "cell_type": "markdown",
   "metadata": {},
   "source": [
    "There is a disproportionate ratio of observations in target variable (Class) in this dataset. We will be using the below techniques to balance the dataset and compare the AUC results.\n",
    "\n",
    "1. Random Undersampling\n",
    "2. Random Oversampling\n",
    "3. SMOTE (Synthetic Minority Over-sampling Technique)"
   ]
  },
  {
   "cell_type": "markdown",
   "metadata": {},
   "source": [
    "### Importing balancing technique algorithm"
   ]
  },
  {
   "cell_type": "code",
   "execution_count": 87,
   "metadata": {},
   "outputs": [],
   "source": [
    "from imblearn.over_sampling import SMOTE, ADASYN, RandomOverSampler\n",
    "from imblearn.under_sampling import RandomUnderSampler"
   ]
  },
  {
   "cell_type": "markdown",
   "metadata": {},
   "source": [
    "## Building Models with <u>Random Undersampling Technique</u>"
   ]
  },
  {
   "cell_type": "code",
   "execution_count": 88,
   "metadata": {},
   "outputs": [],
   "source": [
    "# Implementing Undersampling on original X and y data (seprated the main dataset to Target Variable and Predictor Variables)\n",
    "# before splitting to train and test data\n",
    "\n",
    "rus = RandomUnderSampler(random_state=42)\n",
    "X_rus, y_rus = rus.fit_resample(X, y)"
   ]
  },
  {
   "cell_type": "markdown",
   "metadata": {},
   "source": [
    "## Splitting the data into Train and Test Dataset"
   ]
  },
  {
   "cell_type": "code",
   "execution_count": 89,
   "metadata": {},
   "outputs": [],
   "source": [
    "X_train_rus, X_test_rus, y_train_rus, y_test_rus = train_test_split(X_rus, y_rus, test_size=0.3, shuffle=True, random_state=0)"
   ]
  },
  {
   "cell_type": "code",
   "execution_count": 90,
   "metadata": {},
   "outputs": [
    {
     "name": "stdout",
     "output_type": "stream",
     "text": [
      "X_train -  (688, 29)\n",
      "y_train -  (688,)\n",
      "X_test -  (296, 29)\n",
      "y_test -  (296,)\n"
     ]
    }
   ],
   "source": [
    "#Checking on the dimensions of the train and test data\n",
    "print(\"X_train - \",X_train_rus.shape)\n",
    "print(\"y_train - \",y_train_rus.shape)\n",
    "print(\"X_test - \",X_test_rus.shape)\n",
    "print(\"y_test - \",y_test_rus.shape)"
   ]
  },
  {
   "cell_type": "markdown",
   "metadata": {},
   "source": [
    "### Model1: Logistic Regression"
   ]
  },
  {
   "cell_type": "code",
   "execution_count": 91,
   "metadata": {},
   "outputs": [
    {
     "data": {
      "text/plain": [
       "LogisticRegression()"
      ]
     },
     "execution_count": 91,
     "metadata": {},
     "output_type": "execute_result"
    }
   ],
   "source": [
    "logreg = LogisticRegression()\n",
    "logreg.fit(X_train_rus, y_train_rus)"
   ]
  },
  {
   "cell_type": "code",
   "execution_count": 92,
   "metadata": {},
   "outputs": [],
   "source": [
    "# Predict from Test data\n",
    "y_pred = logreg.predict(X_test_rus)\n",
    "y_pred_proba = logreg.predict_proba(X_test_rus)[:, 1] #loss\n",
    "[fpr, tpr, thr] = roc_curve(y_test_rus, y_pred_proba)"
   ]
  },
  {
   "cell_type": "code",
   "execution_count": 93,
   "metadata": {},
   "outputs": [
    {
     "name": "stdout",
     "output_type": "stream",
     "text": [
      "Metrics:\n",
      "Accuracy:  0.9425675675675675\n",
      "log_loss:  0.15264322119529103\n",
      "Precision:  0.9647887323943662\n",
      "Recall:  0.9194630872483222\n",
      "F1:  0.9415807560137458\n",
      "AUC:  0.9802310185819295\n",
      "\n",
      "\n",
      "Classification report: \n",
      "               precision    recall  f1-score   support\n",
      "\n",
      "           0       0.92      0.97      0.94       147\n",
      "           1       0.96      0.92      0.94       149\n",
      "\n",
      "    accuracy                           0.94       296\n",
      "   macro avg       0.94      0.94      0.94       296\n",
      "weighted avg       0.94      0.94      0.94       296\n",
      "\n"
     ]
    }
   ],
   "source": [
    "# Checking classification scores\n",
    "print('Metrics:')\n",
    "print('Accuracy: ', metrics.accuracy_score(y_pred , y_test_rus))\n",
    "print('log_loss: ', log_loss(y_test_rus, y_pred_proba))\n",
    "print('Precision: ', metrics.precision_score(y_test_rus , y_pred))\n",
    "print('Recall: ', metrics.recall_score(y_test_rus , y_pred))\n",
    "print('F1: ', metrics.f1_score(y_test_rus , y_pred))\n",
    "print('AUC: ', auc(fpr, tpr))\n",
    "\n",
    "print('\\n')\n",
    "\n",
    "print('Classification report: \\n', metrics.classification_report(y_test_rus, y_pred))"
   ]
  },
  {
   "cell_type": "markdown",
   "metadata": {},
   "source": [
    "#### Plotting the ROC Curve"
   ]
  },
  {
   "cell_type": "code",
   "execution_count": 94,
   "metadata": {},
   "outputs": [
    {
     "data": {
      "image/png": "[encoded data removed]",
      "text/plain": [
       "<Figure size 432x288 with 1 Axes>"
      ]
     },
     "metadata": {},
     "output_type": "display_data"
    },
    {
     "name": "stdout",
     "output_type": "stream",
     "text": [
      "Using a threshold of 0.193 guarantees a sensitivity of 0.960 and a specificity of 0.878, i.e. a false positive rate of 12.24%.\n"
     ]
    }
   ],
   "source": [
    "#AUC Plot\n",
    "idx = np.min(np.where(tpr > 0.95)) # index of the first threshold for which the sensibility > 0.95\n",
    "\n",
    "plt.figure()\n",
    "plt.plot(fpr, tpr, color='coral', label='ROC curve (area = %0.3f)' % auc(fpr, tpr))\n",
    "plt.plot([0, 1], [0, 1], 'k--')\n",
    "plt.plot([0,fpr[idx]], [tpr[idx],tpr[idx]], 'k--', color='blue')\n",
    "plt.plot([fpr[idx],fpr[idx]], [0,tpr[idx]], 'k--', color='blue')\n",
    "plt.xlim([0.0, 1.0])\n",
    "plt.ylim([0.0, 1.05])\n",
    "plt.xlabel('False Positive Rate (1 - specificity)', fontsize=14)\n",
    "plt.ylabel('True Positive Rate (recall)', fontsize=14)\n",
    "plt.title('Receiver operating characteristic (ROC) curve')\n",
    "plt.legend(loc=\"lower right\")\n",
    "plt.show()\n",
    "\n",
    "print(\"Using a threshold of %.3f \" % thr[idx] + \"guarantees a sensitivity of %.3f \" % tpr[idx] +  \n",
    "      \"and a specificity of %.3f\" % (1-fpr[idx]) + \n",
    "      \", i.e. a false positive rate of %.2f%%.\" % (np.array(fpr[idx])*100))"
   ]
  },
  {
   "cell_type": "markdown",
   "metadata": {},
   "source": [
    "### Hyperparameter Tuning - Grid Search"
   ]
  },
  {
   "cell_type": "code",
   "execution_count": 95,
   "metadata": {},
   "outputs": [],
   "source": [
    "logreg_cv = LogisticRegression()\n",
    "\n",
    "# Set of parameters we want to try for out Model\n",
    "parameters = { 'C' : [0.001,0.05,1.1,1.5,2,2.5], 'penalty': ['l1', 'l2']}\n",
    "\n",
    "# create 5 folds\n",
    "folds = StratifiedKFold(n_splits = 5, shuffle = True)\n",
    "\n",
    "#Running the Model with above chosen parameter\n",
    "lr_model = GridSearchCV(estimator = logreg_cv, param_grid = parameters , scoring = 'accuracy', cv = folds, n_jobs = -1 , verbose = 2)"
   ]
  },
  {
   "cell_type": "code",
   "execution_count": 96,
   "metadata": {},
   "outputs": [
    {
     "name": "stdout",
     "output_type": "stream",
     "text": [
      "Fitting 5 folds for each of 12 candidates, totalling 60 fits\n"
     ]
    },
    {
     "name": "stderr",
     "output_type": "stream",
     "text": [
      "[Parallel(n_jobs=-1)]: Using backend LokyBackend with 8 concurrent workers.\n",
      "[Parallel(n_jobs=-1)]: Done  34 tasks      | elapsed:    0.1s\n",
      "[Parallel(n_jobs=-1)]: Done  45 out of  60 | elapsed:    0.1s remaining:    0.0s\n",
      "[Parallel(n_jobs=-1)]: Done  60 out of  60 | elapsed:    0.2s finished\n"
     ]
    },
    {
     "data": {
      "text/plain": [
       "GridSearchCV(cv=StratifiedKFold(n_splits=5, random_state=None, shuffle=True),\n",
       "             estimator=LogisticRegression(), n_jobs=-1,\n",
       "             param_grid={'C': [0.001, 0.05, 1.1, 1.5, 2, 2.5],\n",
       "                         'penalty': ['l1', 'l2']},\n",
       "             scoring='accuracy', verbose=2)"
      ]
     },
     "execution_count": 96,
     "metadata": {},
     "output_type": "execute_result"
    }
   ],
   "source": [
    "# fitting the model using GridSearch\n",
    "lr_model.fit(X_train_rus, y_train_rus)"
   ]
  },
  {
   "cell_type": "code",
   "execution_count": 97,
   "metadata": {},
   "outputs": [
    {
     "name": "stdout",
     "output_type": "stream",
     "text": [
      "Best AUC:  0.9403364011424944\n",
      "Best hyperparameters:  {'C': 0.05, 'penalty': 'l2'}\n"
     ]
    }
   ],
   "source": [
    "# print best hyperparameters\n",
    "print(\"Best AUC: \", lr_model.best_score_)\n",
    "best_lr_params = lr_model.best_params_\n",
    "print(\"Best hyperparameters: \", best_lr_params)"
   ]
  },
  {
   "cell_type": "markdown",
   "metadata": {},
   "source": [
    "As the best Hyper parameter turns out to be C = 0.05 and penalty = 'l2'. Building the model with the these optimum Hyper-parameters"
   ]
  },
  {
   "cell_type": "code",
   "execution_count": 98,
   "metadata": {},
   "outputs": [
    {
     "data": {
      "text/plain": [
       "LogisticRegression(C=0.05)"
      ]
     },
     "execution_count": 98,
     "metadata": {},
     "output_type": "execute_result"
    }
   ],
   "source": [
    "# Making the Final Classification model.\n",
    "lr = LogisticRegression(C = 0.05, penalty = 'l2')\n",
    "lr.fit(X_train_rus, y_train_rus)"
   ]
  },
  {
   "cell_type": "markdown",
   "metadata": {},
   "source": [
    "### Predicting the Train Dataset results and calculating the accuracy"
   ]
  },
  {
   "cell_type": "code",
   "execution_count": 99,
   "metadata": {},
   "outputs": [],
   "source": [
    "y_pred_train = lr.predict(X_train_rus)"
   ]
  },
  {
   "cell_type": "markdown",
   "metadata": {},
   "source": [
    "### Checking for Performance - Accuracy, Confusion Matrix & AUC"
   ]
  },
  {
   "cell_type": "code",
   "execution_count": 100,
   "metadata": {},
   "outputs": [
    {
     "name": "stdout",
     "output_type": "stream",
     "text": [
      "Accuracy Score: 0.9505813953488372\n",
      "Confusion Matrix: \n",
      "[[342   3]\n",
      " [ 31 312]]\n",
      "Area Under Curve: 0.9504626695398657\n",
      "\n",
      "\n",
      "F1 score: 0.9483282674772036\n",
      "Recall: 0.9096209912536443\n",
      "Precision: 0.9904761904761905\n"
     ]
    }
   ],
   "source": [
    "# performance\n",
    "print(f'Accuracy Score: {metrics.accuracy_score(y_train_rus,y_pred_train)}')\n",
    "print(f'Confusion Matrix: \\n{confusion_matrix(y_train_rus, y_pred_train)}')\n",
    "print(f'Area Under Curve: {roc_auc_score(y_train_rus, y_pred_train)}')\n",
    "print('\\n')\n",
    "print(\"F1 score:\",metrics.f1_score(y_train_rus, y_pred_train))\n",
    "print(\"Recall:\",metrics.recall_score(y_train_rus, y_pred_train))\n",
    "print(\"Precision:\",metrics.precision_score(y_train_rus, y_pred_train))"
   ]
  },
  {
   "cell_type": "markdown",
   "metadata": {},
   "source": [
    "### Predicting the Test Dataset results and calculating the accuracy"
   ]
  },
  {
   "cell_type": "code",
   "execution_count": 101,
   "metadata": {},
   "outputs": [],
   "source": [
    "y_pred = lr.predict(X_test_rus)"
   ]
  },
  {
   "cell_type": "markdown",
   "metadata": {},
   "source": [
    "### Checking for Performance - Accuracy, Confusion Matrix & AUC"
   ]
  },
  {
   "cell_type": "code",
   "execution_count": 102,
   "metadata": {},
   "outputs": [
    {
     "name": "stdout",
     "output_type": "stream",
     "text": [
      "Accuracy Score: 0.9391891891891891\n",
      "Confusion Matrix: \n",
      "[[146   1]\n",
      " [ 17 132]]\n",
      "Area Under Curve: 0.9395516595900105\n",
      "\n",
      "\n",
      "F1 score: 0.9361702127659575\n",
      "Recall: 0.8859060402684564\n",
      "Precision: 0.9924812030075187\n"
     ]
    }
   ],
   "source": [
    "# Performance\n",
    "print(f'Accuracy Score: {metrics.accuracy_score(y_test_rus,y_pred)}')\n",
    "print(f'Confusion Matrix: \\n{confusion_matrix(y_test_rus, y_pred)}')\n",
    "print(f'Area Under Curve: {roc_auc_score(y_test_rus, y_pred)}')\n",
    "print('\\n')\n",
    "print(\"F1 score:\",metrics.f1_score(y_test_rus, y_pred))\n",
    "print(\"Recall:\",metrics.recall_score(y_test_rus, y_pred))\n",
    "print(\"Precision:\",metrics.precision_score(y_test_rus, y_pred))"
   ]
  },
  {
   "cell_type": "markdown",
   "metadata": {},
   "source": [
    "<b>The AUC for both Train and Test dataset that is on an balanced dataset is almost the same.\n",
    "\n",
    "- The Area Under Curve for Train Dataset - 0.950\n",
    "- The Area Under Curve for Test Dataset - 0.939\n",
    "    \n",
    "This means that the model is good.</b> "
   ]
  },
  {
   "cell_type": "markdown",
   "metadata": {},
   "source": [
    "### Model2: Decision Tree"
   ]
  },
  {
   "cell_type": "code",
   "execution_count": 103,
   "metadata": {
    "scrolled": true
   },
   "outputs": [
    {
     "data": {
      "text/plain": [
       "DecisionTreeClassifier()"
      ]
     },
     "execution_count": 103,
     "metadata": {},
     "output_type": "execute_result"
    }
   ],
   "source": [
    "from sklearn.tree import DecisionTreeClassifier \n",
    "\n",
    "dt_classifier = DecisionTreeClassifier()\n",
    "dt_classifier.fit(X_train_rus, y_train_rus)"
   ]
  },
  {
   "cell_type": "code",
   "execution_count": 104,
   "metadata": {},
   "outputs": [
    {
     "name": "stdout",
     "output_type": "stream",
     "text": [
      "              precision    recall  f1-score   support\n",
      "\n",
      "           0       0.86      0.90      0.88       147\n",
      "           1       0.90      0.86      0.88       149\n",
      "\n",
      "    accuracy                           0.88       296\n",
      "   macro avg       0.88      0.88      0.88       296\n",
      "weighted avg       0.88      0.88      0.88       296\n",
      "\n"
     ]
    }
   ],
   "source": [
    "# Making predictions\n",
    "y_pred_dt = dt_classifier.predict(X_test_rus)\n",
    "\n",
    "# Printing classification report\n",
    "print(classification_report(y_test_rus, y_pred_dt))"
   ]
  },
  {
   "cell_type": "code",
   "execution_count": 105,
   "metadata": {},
   "outputs": [
    {
     "name": "stdout",
     "output_type": "stream",
     "text": [
      "[[132  15]\n",
      " [ 21 128]]\n",
      "Accuracy Score:  0.8783783783783784\n"
     ]
    }
   ],
   "source": [
    "# Printing confusion matrix and accuracy\n",
    "print(confusion_matrix(y_test_rus,y_pred_dt))\n",
    "print(\"Accuracy Score: \", accuracy_score(y_test_rus,y_pred_dt))"
   ]
  },
  {
   "cell_type": "markdown",
   "metadata": {},
   "source": [
    "### Hyperparameter Tuning - Grid Search"
   ]
  },
  {
   "cell_type": "code",
   "execution_count": 106,
   "metadata": {},
   "outputs": [
    {
     "name": "stdout",
     "output_type": "stream",
     "text": [
      "Fitting 5 folds for each of 16 candidates, totalling 80 fits\n"
     ]
    },
    {
     "name": "stderr",
     "output_type": "stream",
     "text": [
      "[Parallel(n_jobs=1)]: Using backend SequentialBackend with 1 concurrent workers.\n",
      "[Parallel(n_jobs=1)]: Done  80 out of  80 | elapsed:    0.7s finished\n"
     ]
    },
    {
     "data": {
      "text/plain": [
       "GridSearchCV(cv=StratifiedKFold(n_splits=5, random_state=None, shuffle=True),\n",
       "             estimator=DecisionTreeClassifier(),\n",
       "             param_grid={'criterion': ['entropy', 'gini'], 'max_depth': [2, 3],\n",
       "                         'min_samples_leaf': [5, 6],\n",
       "                         'min_samples_split': [5, 6]},\n",
       "             verbose=1)"
      ]
     },
     "execution_count": 106,
     "metadata": {},
     "output_type": "execute_result"
    }
   ],
   "source": [
    "# Create the parameter grid \n",
    "param_grid = {\n",
    "    'max_depth': list(range(2,4,1)),\n",
    "    'min_samples_leaf': list(range(5,7,1)),\n",
    "    'min_samples_split': list(range(5,7,1)),\n",
    "    'criterion': [\"entropy\", \"gini\"]\n",
    "}\n",
    "\n",
    "#n_folds = 5\n",
    "# create 5 folds\n",
    "n_folds = StratifiedKFold(n_splits = 5, shuffle = True)\n",
    "\n",
    "# Instantiate the grid search model\n",
    "dtree = DecisionTreeClassifier()\n",
    "dtree_gridsearch = GridSearchCV(estimator = dtree, param_grid = param_grid, cv = n_folds, verbose = 1)\n",
    "\n",
    "# Fit the grid search to the data\n",
    "dtree_gridsearch.fit(X_train_rus,y_train_rus)"
   ]
  },
  {
   "cell_type": "code",
   "execution_count": 107,
   "metadata": {},
   "outputs": [
    {
     "name": "stdout",
     "output_type": "stream",
     "text": [
      "The best parameters for using this model is DecisionTreeClassifier(max_depth=2, min_samples_leaf=5, min_samples_split=5)\n",
      "best accuracy 0.9302655241722203\n"
     ]
    }
   ],
   "source": [
    "# Checking for the best parameters\n",
    "best_parameters = dtree_gridsearch.best_estimator_\n",
    "print('The best parameters for using this model is', best_parameters)\n",
    "print(\"best accuracy\", dtree_gridsearch.best_score_)"
   ]
  },
  {
   "cell_type": "markdown",
   "metadata": {},
   "source": [
    "### Running the model with best parameters obtained from grid search"
   ]
  },
  {
   "cell_type": "code",
   "execution_count": 108,
   "metadata": {},
   "outputs": [
    {
     "data": {
      "text/plain": [
       "DecisionTreeClassifier(criterion='entropy', max_depth=3, min_samples_leaf=5,\n",
       "                       min_samples_split=6)"
      ]
     },
     "execution_count": 108,
     "metadata": {},
     "output_type": "execute_result"
    }
   ],
   "source": [
    "# model with optimal hyperparameters\n",
    "dt_Classifier_entropy = DecisionTreeClassifier(criterion = \"entropy\",\n",
    "                                  max_depth=3, \n",
    "                                  min_samples_leaf=5,\n",
    "                                  min_samples_split=6)\n",
    "dt_Classifier_entropy.fit(X_train_rus, y_train_rus)"
   ]
  },
  {
   "cell_type": "markdown",
   "metadata": {},
   "source": [
    "### Predicting the Train Dataset results and calculating the accuracy"
   ]
  },
  {
   "cell_type": "code",
   "execution_count": 109,
   "metadata": {},
   "outputs": [],
   "source": [
    "y_pred_train = dt_Classifier_entropy.predict(X_train_rus)"
   ]
  },
  {
   "cell_type": "markdown",
   "metadata": {},
   "source": [
    "### Checking for Performance - Accuracy, Confusion Matrix & AUC"
   ]
  },
  {
   "cell_type": "code",
   "execution_count": 110,
   "metadata": {},
   "outputs": [
    {
     "name": "stdout",
     "output_type": "stream",
     "text": [
      "Classification Report: \n",
      "               precision    recall  f1-score   support\n",
      "\n",
      "           0       0.91      0.99      0.95       345\n",
      "           1       0.99      0.90      0.94       343\n",
      "\n",
      "    accuracy                           0.95       688\n",
      "   macro avg       0.95      0.95      0.95       688\n",
      "weighted avg       0.95      0.95      0.95       688\n",
      "\n"
     ]
    }
   ],
   "source": [
    "print(\"Classification Report: \\n\", classification_report(y_train_rus, y_pred_train))"
   ]
  },
  {
   "cell_type": "code",
   "execution_count": 111,
   "metadata": {},
   "outputs": [
    {
     "name": "stdout",
     "output_type": "stream",
     "text": [
      "Accuracy Score: 0.9476744186046512\n",
      "Confusion Matrix: \n",
      "[[343   2]\n",
      " [ 34 309]]\n",
      "Area Under Curve: 0.9475387670596189\n",
      "\n",
      "\n",
      "F1 score: 0.944954128440367\n",
      "Recall: 0.9008746355685131\n",
      "Precision: 0.9935691318327974\n"
     ]
    }
   ],
   "source": [
    "# Performance\n",
    "print(f'Accuracy Score: {accuracy_score(y_train_rus,y_pred_train)}')\n",
    "print(f'Confusion Matrix: \\n{confusion_matrix(y_train_rus, y_pred_train)}')\n",
    "print(f'Area Under Curve: {roc_auc_score(y_train_rus, y_pred_train)}')\n",
    "print('\\n')\n",
    "print('F1 score:', metrics.f1_score(y_train_rus, y_pred_train))\n",
    "print(\"Recall:\",metrics.recall_score(y_train_rus, y_pred_train))\n",
    "print(\"Precision:\",metrics.precision_score(y_train_rus, y_pred_train))"
   ]
  },
  {
   "cell_type": "markdown",
   "metadata": {},
   "source": [
    "### Predicting the Test Dataset results and calculating the accuracy"
   ]
  },
  {
   "cell_type": "code",
   "execution_count": 112,
   "metadata": {},
   "outputs": [],
   "source": [
    "y_pred_test = dt_Classifier_entropy.predict(X_test_rus)"
   ]
  },
  {
   "cell_type": "markdown",
   "metadata": {},
   "source": [
    "### Checking for Performance - Accuracy, Confusion Matrix & AUC"
   ]
  },
  {
   "cell_type": "code",
   "execution_count": 113,
   "metadata": {},
   "outputs": [
    {
     "name": "stdout",
     "output_type": "stream",
     "text": [
      "              precision    recall  f1-score   support\n",
      "\n",
      "           0       0.87      1.00      0.93       147\n",
      "           1       1.00      0.85      0.92       149\n",
      "\n",
      "    accuracy                           0.93       296\n",
      "   macro avg       0.93      0.93      0.93       296\n",
      "weighted avg       0.94      0.93      0.93       296\n",
      "\n"
     ]
    }
   ],
   "source": [
    "print(classification_report(y_test_rus, y_pred_test))"
   ]
  },
  {
   "cell_type": "code",
   "execution_count": 114,
   "metadata": {},
   "outputs": [
    {
     "name": "stdout",
     "output_type": "stream",
     "text": [
      "Accuracy Score: 0.9256756756756757\n",
      "Confusion Matrix: \n",
      "[[147   0]\n",
      " [ 22 127]]\n",
      "Area Under Curve: 0.9261744966442953\n",
      "\n",
      "\n",
      "F1 score: 0.9202898550724637\n",
      "Recall: 0.8523489932885906\n",
      "Precision: 1.0\n"
     ]
    }
   ],
   "source": [
    "# Performance\n",
    "print(f'Accuracy Score: {accuracy_score(y_test_rus, y_pred_test)}')\n",
    "print(f'Confusion Matrix: \\n{confusion_matrix(y_test_rus, y_pred_test)}')\n",
    "print(f'Area Under Curve: {roc_auc_score(y_test_rus, y_pred_test)}')\n",
    "print('\\n')\n",
    "print('F1 score:', metrics.f1_score(y_test_rus, y_pred_test))\n",
    "print(\"Recall:\",metrics.recall_score(y_test_rus, y_pred_test))\n",
    "print(\"Precision:\",metrics.precision_score(y_test_rus, y_pred_test))"
   ]
  },
  {
   "cell_type": "markdown",
   "metadata": {},
   "source": [
    "<b>The AUC for both Train and Test dataset that is on an balanced dataset is almost the same.\n",
    "\n",
    "- The Area Under Curve for Train Dataset - 0.947\n",
    "- The Area Under Curve for Test Dataset - 0.926\n",
    "\n",
    "This means that the model is good.</b>"
   ]
  },
  {
   "cell_type": "markdown",
   "metadata": {},
   "source": [
    "### Model3: Random Forest"
   ]
  },
  {
   "cell_type": "code",
   "execution_count": 115,
   "metadata": {},
   "outputs": [
    {
     "data": {
      "text/plain": [
       "RandomForestClassifier()"
      ]
     },
     "execution_count": 115,
     "metadata": {},
     "output_type": "execute_result"
    }
   ],
   "source": [
    "# Importing random forest classifier from sklearn library\n",
    "from sklearn.ensemble import RandomForestClassifier\n",
    "\n",
    "# Running the random forest with default parameters.\n",
    "rfc = RandomForestClassifier()\n",
    "\n",
    "# fit\n",
    "rfc.fit(X_train_rus,y_train_rus)"
   ]
  },
  {
   "cell_type": "code",
   "execution_count": 116,
   "metadata": {},
   "outputs": [
    {
     "name": "stdout",
     "output_type": "stream",
     "text": [
      "              precision    recall  f1-score   support\n",
      "\n",
      "           0       0.89      1.00      0.94       147\n",
      "           1       1.00      0.88      0.94       149\n",
      "\n",
      "    accuracy                           0.94       296\n",
      "   macro avg       0.95      0.94      0.94       296\n",
      "weighted avg       0.95      0.94      0.94       296\n",
      "\n"
     ]
    }
   ],
   "source": [
    "# Making predictions\n",
    "y_pred_rf = rfc.predict(X_test_rus)\n",
    "\n",
    "# Let's check the report of our default model\n",
    "print(classification_report(y_test_rus,y_pred_rf))"
   ]
  },
  {
   "cell_type": "code",
   "execution_count": 117,
   "metadata": {},
   "outputs": [
    {
     "name": "stdout",
     "output_type": "stream",
     "text": [
      "[[147   0]\n",
      " [ 18 131]]\n",
      "Accuracy Score:  0.9391891891891891\n"
     ]
    }
   ],
   "source": [
    "# Printing confusion matrix and accuracy\n",
    "print(confusion_matrix(y_test_rus,y_pred_rf))\n",
    "print(\"Accuracy Score: \", accuracy_score(y_test_rus,y_pred_rf))"
   ]
  },
  {
   "cell_type": "markdown",
   "metadata": {},
   "source": [
    "### Hyperparameter Tuning - Grid Search"
   ]
  },
  {
   "cell_type": "code",
   "execution_count": 118,
   "metadata": {},
   "outputs": [
    {
     "name": "stdout",
     "output_type": "stream",
     "text": [
      "Fitting 10 folds for each of 36 candidates, totalling 360 fits\n"
     ]
    },
    {
     "name": "stderr",
     "output_type": "stream",
     "text": [
      "[Parallel(n_jobs=-1)]: Using backend LokyBackend with 8 concurrent workers.\n",
      "[Parallel(n_jobs=-1)]: Done  56 tasks      | elapsed:    0.7s\n",
      "[Parallel(n_jobs=-1)]: Done 345 out of 360 | elapsed:    4.4s remaining:    0.1s\n",
      "[Parallel(n_jobs=-1)]: Done 360 out of 360 | elapsed:    4.7s finished\n"
     ]
    },
    {
     "data": {
      "text/plain": [
       "GridSearchCV(cv=10, estimator=RandomForestClassifier(random_state=42),\n",
       "             n_jobs=-1,\n",
       "             param_grid={'criterion': ['gini', 'entropy'],\n",
       "                         'max_depth': [5, 10, 20],\n",
       "                         'max_features': ['auto', 'sqrt', 'log2'],\n",
       "                         'n_estimators': [10, 25]},\n",
       "             verbose=1)"
      ]
     },
     "execution_count": 118,
     "metadata": {},
     "output_type": "execute_result"
    }
   ],
   "source": [
    "# Create a based model\n",
    "rf = RandomForestClassifier(random_state=42)\n",
    "\n",
    "# Create the parameter grid based on the results of random search \n",
    "param_grid = { \n",
    "    'n_estimators': [10, 25],\n",
    "    'max_features': ['auto', 'sqrt', 'log2'],\n",
    "    'max_depth' : [5,10,20],\n",
    "    'criterion' :['gini', 'entropy']\n",
    "}\n",
    "\n",
    "# Instantiate the grid search model\n",
    "rf_gridSearch = GridSearchCV(estimator = rf, param_grid = param_grid, cv = 5 ,n_jobs = -1,verbose = 1)\n",
    "\n",
    "# Fit the grid search to the data\n",
    "rf_gridSearch.fit(X_train_rus,y_train_rus)"
   ]
  },
  {
   "cell_type": "code",
   "execution_count": 119,
   "metadata": {},
   "outputs": [
    {
     "name": "stdout",
     "output_type": "stream",
     "text": [
      "The best parameters for using this model is {'criterion': 'entropy', 'max_depth': 20, 'max_features': 'auto', 'n_estimators': 25}\n",
      "Accuracy 0.94038789428815\n"
     ]
    }
   ],
   "source": [
    "# Checking for the best parameters\n",
    "best_parameters = rf_gridSearch.best_params_\n",
    "print('The best parameters for using this model is', best_parameters)\n",
    "print(\"Accuracy\", rf_gridSearch.best_score_)"
   ]
  },
  {
   "cell_type": "markdown",
   "metadata": {},
   "source": [
    "### Running the model with best parameters obtained from grid search"
   ]
  },
  {
   "cell_type": "code",
   "execution_count": 120,
   "metadata": {},
   "outputs": [
    {
     "data": {
      "text/plain": [
       "RandomForestClassifier(criterion='entropy', max_depth=20, n_estimators=25)"
      ]
     },
     "execution_count": 120,
     "metadata": {},
     "output_type": "execute_result"
    }
   ],
   "source": [
    "rfc=RandomForestClassifier(max_features='auto', n_estimators= 25, max_depth=20, criterion='entropy')\n",
    "#Fit the model\n",
    "rfc.fit(X_train_rus,y_train_rus)"
   ]
  },
  {
   "cell_type": "markdown",
   "metadata": {},
   "source": [
    "### Predicting the Train Dataset results and calculating the accuracy"
   ]
  },
  {
   "cell_type": "code",
   "execution_count": 121,
   "metadata": {},
   "outputs": [],
   "source": [
    "y_pred_train = rfc.predict(X_train_rus)"
   ]
  },
  {
   "cell_type": "markdown",
   "metadata": {},
   "source": [
    "### Checking for Performance - Accuracy, Confusion Matrix & AUC"
   ]
  },
  {
   "cell_type": "code",
   "execution_count": 122,
   "metadata": {},
   "outputs": [
    {
     "name": "stdout",
     "output_type": "stream",
     "text": [
      "              precision    recall  f1-score   support\n",
      "\n",
      "           0       0.99      1.00      1.00       345\n",
      "           1       1.00      0.99      1.00       343\n",
      "\n",
      "    accuracy                           1.00       688\n",
      "   macro avg       1.00      1.00      1.00       688\n",
      "weighted avg       1.00      1.00      1.00       688\n",
      "\n"
     ]
    }
   ],
   "source": [
    "print(classification_report(y_train_rus, y_pred_train))"
   ]
  },
  {
   "cell_type": "code",
   "execution_count": 123,
   "metadata": {},
   "outputs": [
    {
     "name": "stdout",
     "output_type": "stream",
     "text": [
      "Accuracy Score: 0.997093023255814\n",
      "Confusion Matrix: \n",
      "[[345   0]\n",
      " [  2 341]]\n",
      "Area Under Curve: 0.9970845481049563\n",
      "\n",
      "\n",
      "F1 score: 0.9970760233918129\n",
      "Recall: 0.9941690962099126\n",
      "Precision: 1.0\n"
     ]
    }
   ],
   "source": [
    "# Performance\n",
    "print(f'Accuracy Score: {accuracy_score(y_train_rus, y_pred_train)}')\n",
    "print(f'Confusion Matrix: \\n{confusion_matrix(y_train_rus, y_pred_train)}')\n",
    "print(f'Area Under Curve: {roc_auc_score(y_train_rus, y_pred_train)}')\n",
    "print('\\n')\n",
    "print('F1 score:', metrics.f1_score(y_train_rus, y_pred_train))\n",
    "print(\"Recall:\",metrics.recall_score(y_train_rus, y_pred_train))\n",
    "print(\"Precision:\",metrics.precision_score(y_train_rus, y_pred_train))"
   ]
  },
  {
   "cell_type": "markdown",
   "metadata": {},
   "source": [
    "### Predicting the Test Dataset results and calculating the accuracy"
   ]
  },
  {
   "cell_type": "code",
   "execution_count": 124,
   "metadata": {},
   "outputs": [],
   "source": [
    "y_pred_test = rfc.predict(X_test_rus)"
   ]
  },
  {
   "cell_type": "markdown",
   "metadata": {},
   "source": [
    "### Checking for Performance - Accuracy, Confusion Matrix & AUC"
   ]
  },
  {
   "cell_type": "code",
   "execution_count": 125,
   "metadata": {},
   "outputs": [
    {
     "name": "stdout",
     "output_type": "stream",
     "text": [
      "              precision    recall  f1-score   support\n",
      "\n",
      "           0       0.90      0.99      0.94       147\n",
      "           1       0.99      0.89      0.94       149\n",
      "\n",
      "    accuracy                           0.94       296\n",
      "   macro avg       0.95      0.94      0.94       296\n",
      "weighted avg       0.95      0.94      0.94       296\n",
      "\n"
     ]
    }
   ],
   "source": [
    "print(classification_report(y_test_rus, y_pred_test))"
   ]
  },
  {
   "cell_type": "code",
   "execution_count": 126,
   "metadata": {},
   "outputs": [
    {
     "name": "stdout",
     "output_type": "stream",
     "text": [
      "Accuracy Score: 0.9425675675675675\n",
      "Confusion Matrix: \n",
      "[[146   1]\n",
      " [ 16 133]]\n",
      "Area Under Curve: 0.9429073642879972\n",
      "\n",
      "\n",
      "F1 score: 0.9399293286219081\n",
      "Recall: 0.8926174496644296\n",
      "Precision: 0.9925373134328358\n"
     ]
    }
   ],
   "source": [
    "# Performance\n",
    "print(f'Accuracy Score: {accuracy_score(y_test_rus, y_pred_test)}')\n",
    "print(f'Confusion Matrix: \\n{confusion_matrix(y_test_rus, y_pred_test)}')\n",
    "print(f'Area Under Curve: {roc_auc_score(y_test_rus, y_pred_test)}')\n",
    "print('\\n')\n",
    "print('F1 score:', metrics.f1_score(y_test_rus, y_pred_test))\n",
    "print(\"Recall:\",metrics.recall_score(y_test_rus, y_pred_test))\n",
    "print(\"Precision:\",metrics.precision_score(y_test_rus, y_pred_test))"
   ]
  },
  {
   "cell_type": "markdown",
   "metadata": {},
   "source": [
    "<b>The AUC for both Train and Test dataset that is on balanced dataset is almost the same\n",
    "\n",
    "- The Area Under Curve for Train Dataset - 0.995\n",
    "- The Area Under Curve for Test Dataset - 0.926</b>"
   ]
  },
  {
   "cell_type": "markdown",
   "metadata": {},
   "source": [
    "### Model4: XGBoost"
   ]
  },
  {
   "cell_type": "code",
   "execution_count": 127,
   "metadata": {},
   "outputs": [
    {
     "name": "stdout",
     "output_type": "stream",
     "text": [
      "AUC: 0.977 (0.016)\n"
     ]
    }
   ],
   "source": [
    "# Importing XGBoost Classifier library\n",
    "from xgboost import XGBClassifier\n",
    "\n",
    "XGB = XGBClassifier()\n",
    "\n",
    "kfold = StratifiedKFold(n_splits=10, random_state=42)\n",
    "\n",
    "# use area under the precision-recall curve to show classification accuracy\n",
    "scoring = 'roc_auc'\n",
    "results = cross_val_score(XGB, X_train_rus, y_train_rus, cv=kfold, scoring = scoring)\n",
    "print(\"AUC: %.3f (%.3f)\" % (results.mean(), results.std()))"
   ]
  },
  {
   "cell_type": "markdown",
   "metadata": {},
   "source": [
    "### Hyperparameter Tuning - Grid Search"
   ]
  },
  {
   "cell_type": "code",
   "execution_count": 128,
   "metadata": {},
   "outputs": [
    {
     "name": "stdout",
     "output_type": "stream",
     "text": [
      "Fitting 5 folds for each of 2700 candidates, totalling 13500 fits\n"
     ]
    },
    {
     "name": "stderr",
     "output_type": "stream",
     "text": [
      "[Parallel(n_jobs=-1)]: Using backend LokyBackend with 8 concurrent workers.\n",
      "[Parallel(n_jobs=-1)]: Done  56 tasks      | elapsed:    0.3s\n",
      "[Parallel(n_jobs=-1)]: Done 1200 tasks      | elapsed:    9.1s\n",
      "[Parallel(n_jobs=-1)]: Done 3200 tasks      | elapsed:   24.4s\n",
      "[Parallel(n_jobs=-1)]: Done 6000 tasks      | elapsed:   47.3s\n",
      "[Parallel(n_jobs=-1)]: Done 9600 tasks      | elapsed:  1.4min\n",
      "[Parallel(n_jobs=-1)]: Done 12128 tasks      | elapsed:  1.8min\n",
      "[Parallel(n_jobs=-1)]: Done 13500 out of 13500 | elapsed:  2.0min finished\n"
     ]
    },
    {
     "data": {
      "text/plain": [
       "GridSearchCV(cv=StratifiedKFold(n_splits=5, random_state=0, shuffle=True),\n",
       "             estimator=XGBClassifier(), n_jobs=-1,\n",
       "             param_grid={'colsample_bytree': [0.3, 0.5, 0.7],\n",
       "                         'gamma': [0, 0.2, 0.3],\n",
       "                         'learning_rate': [0.05, 0.1, 0.2, 0.3, 0.5],\n",
       "                         'max_depth': range(1, 11, 2),\n",
       "                         'min_child_weight': [1, 3, 5, 7],\n",
       "                         'n_estimators': [10, 25, 50]},\n",
       "             return_train_score=True, scoring='roc_auc', verbose=1)"
      ]
     },
     "execution_count": 128,
     "metadata": {},
     "output_type": "execute_result"
    }
   ],
   "source": [
    "# Create a based model\n",
    "xgb_model = XGBClassifier()\n",
    "\n",
    "# Create the parameter grid based on the results of random search \n",
    "param_tuning = {\n",
    "    'learning_rate': [0.05, 0.1,0.2,0.3,0.5],\n",
    "    'max_depth': range(1, 11, 2),\n",
    "    'colsample_bytree': [0.3,0.5, 0.7],\n",
    "    'gamma': [0,0.2,0.3],\n",
    "    'min_child_weight' : [1,3,5,7],\n",
    "    'n_estimators' : [10, 25, 50]\n",
    "    }\n",
    "\n",
    "folds = StratifiedKFold(n_splits =3, shuffle = True, random_state = 0)\n",
    "\n",
    "# Instantiate the grid search model\n",
    "xgb_gsearch = GridSearchCV(estimator = xgb_model,param_grid = param_tuning, scoring= 'roc_auc', cv = folds,return_train_score = True, n_jobs = -1, verbose = 1)\n",
    "\n",
    "# Fit the grid search to the data\n",
    "xgb_gsearch.fit(X_train_rus,y_train_rus)"
   ]
  },
  {
   "cell_type": "code",
   "execution_count": 129,
   "metadata": {},
   "outputs": [
    {
     "name": "stdout",
     "output_type": "stream",
     "text": [
      "Best AUC: 0.981791 using {'colsample_bytree': 0.5, 'gamma': 0.2, 'learning_rate': 0.2, 'max_depth': 3, 'min_child_weight': 1, 'n_estimators': 25}\n"
     ]
    }
   ],
   "source": [
    "# summarize results\n",
    "print(\"Best AUC: %f using %s\" % (xgb_gsearch.best_score_, xgb_gsearch.best_params_))"
   ]
  },
  {
   "cell_type": "markdown",
   "metadata": {},
   "source": [
    "### Running the model with best parameters obtained from grid search"
   ]
  },
  {
   "cell_type": "code",
   "execution_count": 130,
   "metadata": {},
   "outputs": [
    {
     "data": {
      "text/plain": [
       "XGBClassifier(colsample_bytree=0.5, gamma=0.2, learning_rate=0.2,\n",
       "              n_estimators=25)"
      ]
     },
     "execution_count": 130,
     "metadata": {},
     "output_type": "execute_result"
    }
   ],
   "source": [
    "XGB_model = XGBClassifier(colsample_bytree = 0.5, gamma =0.2, learning_rate = 0.2, max_depth = 3, min_child_weight =1, n_estimators = 25)\n",
    "#Fit the model\n",
    "XGB_model.fit(X_train_rus,y_train_rus)"
   ]
  },
  {
   "cell_type": "markdown",
   "metadata": {},
   "source": [
    "### Predicting the Train Dataset results and calculating the accuracy"
   ]
  },
  {
   "cell_type": "code",
   "execution_count": 131,
   "metadata": {},
   "outputs": [],
   "source": [
    "y_pred_train = XGB_model.predict(X_train_rus)"
   ]
  },
  {
   "cell_type": "markdown",
   "metadata": {},
   "source": [
    "### Checking for Performance - Accuracy, Confusion Matrix & AUC"
   ]
  },
  {
   "cell_type": "code",
   "execution_count": 132,
   "metadata": {},
   "outputs": [
    {
     "name": "stdout",
     "output_type": "stream",
     "text": [
      "              precision    recall  f1-score   support\n",
      "\n",
      "           0       0.97      1.00      0.98       345\n",
      "           1       1.00      0.97      0.98       343\n",
      "\n",
      "    accuracy                           0.98       688\n",
      "   macro avg       0.98      0.98      0.98       688\n",
      "weighted avg       0.98      0.98      0.98       688\n",
      "\n"
     ]
    }
   ],
   "source": [
    "print(classification_report(y_train_rus, y_pred_train))"
   ]
  },
  {
   "cell_type": "code",
   "execution_count": 133,
   "metadata": {},
   "outputs": [
    {
     "name": "stdout",
     "output_type": "stream",
     "text": [
      "Accuracy Score: 0.9825581395348837\n",
      "Confusion Matrix: \n",
      "[[345   0]\n",
      " [ 12 331]]\n",
      "Area Under Curve: 0.9825072886297377\n",
      "\n",
      "\n",
      "F1 score: 0.9821958456973293\n",
      "Recall: 0.9650145772594753\n",
      "Precision: 1.0\n"
     ]
    }
   ],
   "source": [
    "# Performance\n",
    "print(f'Accuracy Score: {accuracy_score(y_train_rus, y_pred_train)}')\n",
    "print(f'Confusion Matrix: \\n{confusion_matrix(y_train_rus, y_pred_train)}')\n",
    "print(f'Area Under Curve: {roc_auc_score(y_train_rus, y_pred_train)}')\n",
    "print('\\n')\n",
    "print('F1 score:', metrics.f1_score(y_train_rus, y_pred_train))\n",
    "print(\"Recall:\",metrics.recall_score(y_train_rus, y_pred_train))\n",
    "print(\"Precision:\",metrics.precision_score(y_train_rus, y_pred_train))"
   ]
  },
  {
   "cell_type": "markdown",
   "metadata": {},
   "source": [
    "### Predicting the Test Dataset results and calculating the accuracy"
   ]
  },
  {
   "cell_type": "code",
   "execution_count": 134,
   "metadata": {},
   "outputs": [],
   "source": [
    "y_pred_test = XGB_model.predict(X_test_rus)"
   ]
  },
  {
   "cell_type": "markdown",
   "metadata": {},
   "source": [
    "### Checking for Performance - Accuracy, Confusion Matrix & AUC"
   ]
  },
  {
   "cell_type": "code",
   "execution_count": 135,
   "metadata": {},
   "outputs": [
    {
     "name": "stdout",
     "output_type": "stream",
     "text": [
      "              precision    recall  f1-score   support\n",
      "\n",
      "           0       0.91      0.97      0.94       147\n",
      "           1       0.97      0.90      0.93       149\n",
      "\n",
      "    accuracy                           0.94       296\n",
      "   macro avg       0.94      0.94      0.94       296\n",
      "weighted avg       0.94      0.94      0.94       296\n",
      "\n"
     ]
    }
   ],
   "source": [
    "print(classification_report(y_test_rus, y_pred_test))"
   ]
  },
  {
   "cell_type": "code",
   "execution_count": 136,
   "metadata": {},
   "outputs": [
    {
     "name": "stdout",
     "output_type": "stream",
     "text": [
      "Accuracy Score: 0.9358108108108109\n",
      "Confusion Matrix: \n",
      "[[143   4]\n",
      " [ 15 134]]\n",
      "Area Under Curve: 0.9360589873533306\n",
      "\n",
      "\n",
      "F1 score: 0.9337979094076655\n",
      "Recall: 0.8993288590604027\n",
      "Precision: 0.9710144927536232\n"
     ]
    }
   ],
   "source": [
    "# Performance\n",
    "print(f'Accuracy Score: {accuracy_score(y_test_rus, y_pred_test)}')\n",
    "print(f'Confusion Matrix: \\n{confusion_matrix(y_test_rus, y_pred_test)}')\n",
    "print(f'Area Under Curve: {roc_auc_score(y_test_rus, y_pred_test)}')\n",
    "print('\\n')\n",
    "print('F1 score:', metrics.f1_score(y_test_rus, y_pred_test))\n",
    "print(\"Recall:\",metrics.recall_score(y_test_rus, y_pred_test))\n",
    "print(\"Precision:\",metrics.precision_score(y_test_rus, y_pred_test))"
   ]
  },
  {
   "cell_type": "markdown",
   "metadata": {},
   "source": [
    "<b>The AUC for both Train and Test dataset that is on balanced dataset looks almost same.\n",
    "\n",
    "- The Area Under Curve for Train Dataset - 0.982\n",
    "- The Area Under Curve for Test Dataset - 0.936\n",
    "    \n",
    "We can check the AUC on balanced dataset </b>"
   ]
  },
  {
   "cell_type": "markdown",
   "metadata": {},
   "source": [
    "## Building Models with <u>Random Oversampling Technique</u>"
   ]
  },
  {
   "cell_type": "code",
   "execution_count": 137,
   "metadata": {},
   "outputs": [],
   "source": [
    "# Implementing Oversampling on original X and y data (seprated the main dataset to Target Variable and Predictor Variables)\n",
    "# before splitting to train and test data\n",
    "\n",
    "ros = RandomOverSampler(random_state=42)\n",
    "X_ros, y_ros = ros.fit_resample(X, y)"
   ]
  },
  {
   "cell_type": "markdown",
   "metadata": {},
   "source": [
    "### Splitting the data into Train and Test Dataset"
   ]
  },
  {
   "cell_type": "code",
   "execution_count": 138,
   "metadata": {},
   "outputs": [],
   "source": [
    "X_train_ros, X_test_ros, y_train_ros, y_test_ros = train_test_split(X_ros, y_ros, test_size=0.3, shuffle=True, random_state=0)"
   ]
  },
  {
   "cell_type": "code",
   "execution_count": 139,
   "metadata": {},
   "outputs": [
    {
     "name": "stdout",
     "output_type": "stream",
     "text": [
      "X_train -  (398041, 29)\n",
      "y_train -  (398041,)\n",
      "X_test -  (170589, 29)\n",
      "y_test -  (170589,)\n"
     ]
    }
   ],
   "source": [
    "#Checking on the dimensions of the train and test data\n",
    "print(\"X_train - \",X_train_ros.shape)\n",
    "print(\"y_train - \",y_train_ros.shape)\n",
    "print(\"X_test - \",X_test_ros.shape)\n",
    "print(\"y_test - \",y_test_ros.shape)"
   ]
  },
  {
   "cell_type": "markdown",
   "metadata": {},
   "source": [
    "### Model1: Logistic Regression"
   ]
  },
  {
   "cell_type": "code",
   "execution_count": 140,
   "metadata": {},
   "outputs": [
    {
     "data": {
      "text/plain": [
       "LogisticRegression()"
      ]
     },
     "execution_count": 140,
     "metadata": {},
     "output_type": "execute_result"
    }
   ],
   "source": [
    "# Importing Logistic Regression library\n",
    "from sklearn.linear_model import LogisticRegression\n",
    "\n",
    "logreg = LogisticRegression()\n",
    "logreg.fit(X_train_ros, y_train_ros)"
   ]
  },
  {
   "cell_type": "code",
   "execution_count": 141,
   "metadata": {},
   "outputs": [],
   "source": [
    "# Predict from Test data\n",
    "y_pred = logreg.predict(X_test_ros)\n",
    "\n",
    "y_pred_proba = logreg.predict_proba(X_test_ros)[:, 1] #loss\n",
    "[fpr, tpr, thr] = roc_curve(y_test_ros, y_pred_proba)"
   ]
  },
  {
   "cell_type": "code",
   "execution_count": 142,
   "metadata": {},
   "outputs": [
    {
     "name": "stdout",
     "output_type": "stream",
     "text": [
      "Metrics:\n",
      "Accuracy:  0.9483554039240514\n",
      "log_loss:  0.13712211445862293\n",
      "Precision:  0.9748701355053867\n",
      "Recall:  0.9205895781870119\n",
      "F1:  0.9469526367128698\n",
      "AUC:  0.9865152847675884\n",
      "\n",
      "\n",
      "Classification report: \n",
      "               precision    recall  f1-score   support\n",
      "\n",
      "           0       0.92      0.98      0.95     85172\n",
      "           1       0.97      0.92      0.95     85417\n",
      "\n",
      "    accuracy                           0.95    170589\n",
      "   macro avg       0.95      0.95      0.95    170589\n",
      "weighted avg       0.95      0.95      0.95    170589\n",
      "\n"
     ]
    }
   ],
   "source": [
    "# Checking classification scores\n",
    "print('Metrics:')\n",
    "print('Accuracy: ', metrics.accuracy_score(y_pred , y_test_ros))\n",
    "print('log_loss: ', log_loss(y_test_ros, y_pred_proba))\n",
    "print('Precision: ', metrics.precision_score(y_test_ros , y_pred))\n",
    "print('Recall: ', metrics.recall_score(y_test_ros , y_pred))\n",
    "print('F1: ', metrics.f1_score(y_test_ros , y_pred))\n",
    "print('AUC: ', auc(fpr, tpr))\n",
    "\n",
    "print('\\n')\n",
    "\n",
    "print('Classification report: \\n', metrics.classification_report(y_test_ros, y_pred))"
   ]
  },
  {
   "cell_type": "markdown",
   "metadata": {},
   "source": [
    "#### Plotting the ROC Curve"
   ]
  },
  {
   "cell_type": "code",
   "execution_count": 143,
   "metadata": {},
   "outputs": [
    {
     "data": {
      "image/png": "[encoded data removed]",
      "text/plain": [
       "<Figure size 432x288 with 1 Axes>"
      ]
     },
     "metadata": {},
     "output_type": "display_data"
    },
    {
     "name": "stdout",
     "output_type": "stream",
     "text": [
      "Using a threshold of 0.246 guarantees a sensitivity of 0.950 and a specificity of 0.927, i.e. a false positive rate of 7.31%.\n"
     ]
    }
   ],
   "source": [
    "#AUC Plot\n",
    "idx = np.min(np.where(tpr > 0.95)) # index of the first threshold for which the sensibility > 0.95\n",
    "\n",
    "plt.figure()\n",
    "plt.plot(fpr, tpr, color='coral', label='ROC curve (area = %0.3f)' % auc(fpr, tpr))\n",
    "plt.plot([0, 1], [0, 1], 'k--')\n",
    "plt.plot([0,fpr[idx]], [tpr[idx],tpr[idx]], 'k--', color='blue')\n",
    "plt.plot([fpr[idx],fpr[idx]], [0,tpr[idx]], 'k--', color='blue')\n",
    "plt.xlim([0.0, 1.0])\n",
    "plt.ylim([0.0, 1.05])\n",
    "plt.xlabel('False Positive Rate (1 - specificity)', fontsize=14)\n",
    "plt.ylabel('True Positive Rate (recall)', fontsize=14)\n",
    "plt.title('Receiver operating characteristic (ROC) curve')\n",
    "plt.legend(loc=\"lower right\")\n",
    "plt.show()\n",
    "\n",
    "print(\"Using a threshold of %.3f \" % thr[idx] + \"guarantees a sensitivity of %.3f \" % tpr[idx] +  \n",
    "      \"and a specificity of %.3f\" % (1-fpr[idx]) + \n",
    "      \", i.e. a false positive rate of %.2f%%.\" % (np.array(fpr[idx])*100))"
   ]
  },
  {
   "cell_type": "markdown",
   "metadata": {},
   "source": [
    "### Hyperparameter Tuning - Grid Search"
   ]
  },
  {
   "cell_type": "code",
   "execution_count": 144,
   "metadata": {},
   "outputs": [],
   "source": [
    "logreg_cv = LogisticRegression()\n",
    "\n",
    "# Set of parameters we want to try for out Model\n",
    "parameters = { 'C' : [0.001,0.05,1.1,1.5,2,2.5], 'penalty': ['l1', 'l2']}\n",
    "\n",
    "# create 5 folds\n",
    "folds = StratifiedKFold(n_splits = 5, shuffle = True)\n",
    "\n",
    "#Running the Model with above chosen parameter\n",
    "lr_model = GridSearchCV(estimator = logreg_cv, param_grid = parameters , scoring = 'accuracy', cv = folds, n_jobs = -1 , verbose = 2)"
   ]
  },
  {
   "cell_type": "code",
   "execution_count": 145,
   "metadata": {},
   "outputs": [
    {
     "name": "stdout",
     "output_type": "stream",
     "text": [
      "Fitting 5 folds for each of 12 candidates, totalling 60 fits\n"
     ]
    },
    {
     "name": "stderr",
     "output_type": "stream",
     "text": [
      "[Parallel(n_jobs=-1)]: Using backend LokyBackend with 8 concurrent workers.\n",
      "[Parallel(n_jobs=-1)]: Done  25 tasks      | elapsed:    9.7s\n",
      "[Parallel(n_jobs=-1)]: Done  60 out of  60 | elapsed:   27.3s finished\n"
     ]
    },
    {
     "data": {
      "text/plain": [
       "GridSearchCV(cv=StratifiedKFold(n_splits=5, random_state=None, shuffle=True),\n",
       "             estimator=LogisticRegression(), n_jobs=-1,\n",
       "             param_grid={'C': [0.001, 0.05, 1.1, 1.5, 2, 2.5],\n",
       "                         'penalty': ['l1', 'l2']},\n",
       "             scoring='accuracy', verbose=2)"
      ]
     },
     "execution_count": 145,
     "metadata": {},
     "output_type": "execute_result"
    }
   ],
   "source": [
    "# fitting the model using GridSearch\n",
    "lr_model.fit(X_train_ros, y_train_ros)"
   ]
  },
  {
   "cell_type": "code",
   "execution_count": 146,
   "metadata": {},
   "outputs": [
    {
     "name": "stdout",
     "output_type": "stream",
     "text": [
      "Best AUC:  0.948718851124798\n",
      "Best hyperparameters:  {'C': 2, 'penalty': 'l2'}\n"
     ]
    }
   ],
   "source": [
    "# print best hyperparameters\n",
    "print(\"Best AUC: \", lr_model.best_score_)\n",
    "best_lr_params = lr_model.best_params_\n",
    "print(\"Best hyperparameters: \", best_lr_params)"
   ]
  },
  {
   "cell_type": "code",
   "execution_count": 147,
   "metadata": {},
   "outputs": [
    {
     "data": {
      "text/plain": [
       "LogisticRegression(C=1.1)"
      ]
     },
     "execution_count": 147,
     "metadata": {},
     "output_type": "execute_result"
    }
   ],
   "source": [
    "# Making the Final Classification model.\n",
    "lr = LogisticRegression(C = 1.1, penalty = 'l2')\n",
    "lr.fit(X_train_ros, y_train_ros)"
   ]
  },
  {
   "cell_type": "markdown",
   "metadata": {},
   "source": [
    "### Predicting the Train Dataset results and calculating the accuracy"
   ]
  },
  {
   "cell_type": "code",
   "execution_count": 148,
   "metadata": {},
   "outputs": [],
   "source": [
    "y_pred_train = lr.predict(X_train_ros)"
   ]
  },
  {
   "cell_type": "code",
   "execution_count": 149,
   "metadata": {},
   "outputs": [
    {
     "name": "stdout",
     "output_type": "stream",
     "text": [
      "Accuracy Score: 0.94916855298826\n",
      "Confusion Matrix: \n",
      "[[194618   4525]\n",
      " [ 15708 183190]]\n",
      "Area Under Curve: 0.9491512407854961\n",
      "\n",
      "\n",
      "F1 score: 0.9476660122654955\n",
      "Recall: 0.9210248469064546\n",
      "Precision: 0.9758943078603202\n"
     ]
    }
   ],
   "source": [
    "# performance\n",
    "print(f'Accuracy Score: {metrics.accuracy_score(y_train_ros,y_pred_train)}')\n",
    "print(f'Confusion Matrix: \\n{confusion_matrix(y_train_ros, y_pred_train)}')\n",
    "print(f'Area Under Curve: {roc_auc_score(y_train_ros, y_pred_train)}')\n",
    "print('\\n')\n",
    "print(\"F1 score:\",metrics.f1_score(y_train_ros, y_pred_train))\n",
    "print(\"Recall:\",metrics.recall_score(y_train_ros, y_pred_train))\n",
    "print(\"Precision:\",metrics.precision_score(y_train_ros, y_pred_train))"
   ]
  },
  {
   "cell_type": "markdown",
   "metadata": {},
   "source": [
    "### Predicting the Test Dataset results and calculating the accuracy"
   ]
  },
  {
   "cell_type": "code",
   "execution_count": 150,
   "metadata": {},
   "outputs": [],
   "source": [
    "y_pred = lr.predict(X_test_ros)"
   ]
  },
  {
   "cell_type": "code",
   "execution_count": 151,
   "metadata": {},
   "outputs": [
    {
     "name": "stdout",
     "output_type": "stream",
     "text": [
      "Accuracy Score: 0.948349541881364\n",
      "Confusion Matrix: \n",
      "[[83144  2028]\n",
      " [ 6783 78634]]\n",
      "Area Under Curve: 0.9483894680959951\n",
      "\n",
      "\n",
      "F1 score: 0.9469469348924306\n",
      "Recall: 0.9205895781870119\n",
      "Precision: 0.9748580496392353\n"
     ]
    }
   ],
   "source": [
    "# Performance\n",
    "print(f'Accuracy Score: {metrics.accuracy_score(y_test_ros,y_pred)}')\n",
    "print(f'Confusion Matrix: \\n{confusion_matrix(y_test_ros, y_pred)}')\n",
    "print(f'Area Under Curve: {roc_auc_score(y_test_ros, y_pred)}')\n",
    "print('\\n')\n",
    "print(\"F1 score:\",metrics.f1_score(y_test_ros, y_pred))\n",
    "print(\"Recall:\",metrics.recall_score(y_test_ros, y_pred))\n",
    "print(\"Precision:\",metrics.precision_score(y_test_ros, y_pred))"
   ]
  },
  {
   "cell_type": "markdown",
   "metadata": {},
   "source": [
    "<b>The AUC for both Train and Test dataset that is on an balanced dataset is almost the same.\n",
    "\n",
    "- The Area Under Curve for Train Dataset - 0.949\n",
    "- The Area Under Curve for Test Dataset - 0.948\n",
    "    \n",
    "This means that the model is good.</b>"
   ]
  },
  {
   "cell_type": "markdown",
   "metadata": {},
   "source": [
    "### Model2: Decision Tree"
   ]
  },
  {
   "cell_type": "code",
   "execution_count": 152,
   "metadata": {},
   "outputs": [
    {
     "data": {
      "text/plain": [
       "DecisionTreeClassifier()"
      ]
     },
     "execution_count": 152,
     "metadata": {},
     "output_type": "execute_result"
    }
   ],
   "source": [
    "from sklearn.tree import DecisionTreeClassifier \n",
    "\n",
    "dt_classifier = DecisionTreeClassifier()\n",
    "dt_classifier.fit(X_train_ros, y_train_ros)"
   ]
  },
  {
   "cell_type": "code",
   "execution_count": 153,
   "metadata": {},
   "outputs": [
    {
     "name": "stdout",
     "output_type": "stream",
     "text": [
      "              precision    recall  f1-score   support\n",
      "\n",
      "           0       1.00      1.00      1.00     85172\n",
      "           1       1.00      1.00      1.00     85417\n",
      "\n",
      "    accuracy                           1.00    170589\n",
      "   macro avg       1.00      1.00      1.00    170589\n",
      "weighted avg       1.00      1.00      1.00    170589\n",
      "\n"
     ]
    }
   ],
   "source": [
    "# Making predictions\n",
    "y_pred_dt = dt_classifier.predict(X_test_ros)\n",
    "\n",
    "# Printing classification report\n",
    "print(classification_report(y_test_ros, y_pred_dt))"
   ]
  },
  {
   "cell_type": "code",
   "execution_count": 154,
   "metadata": {},
   "outputs": [
    {
     "name": "stdout",
     "output_type": "stream",
     "text": [
      "[[85131    41]\n",
      " [    0 85417]]\n",
      "Accuracy Score:  0.9997596562498168\n"
     ]
    }
   ],
   "source": [
    "# Printing confusion matrix and accuracy\n",
    "print(confusion_matrix(y_test_ros,y_pred_dt))\n",
    "print(\"Accuracy Score: \", accuracy_score(y_test_ros,y_pred_dt))"
   ]
  },
  {
   "cell_type": "markdown",
   "metadata": {},
   "source": [
    "### Hyperparameter Tuning - Grid Search"
   ]
  },
  {
   "cell_type": "code",
   "execution_count": 155,
   "metadata": {},
   "outputs": [
    {
     "name": "stdout",
     "output_type": "stream",
     "text": [
      "Fitting 5 folds for each of 16 candidates, totalling 80 fits\n"
     ]
    },
    {
     "name": "stderr",
     "output_type": "stream",
     "text": [
      "[Parallel(n_jobs=1)]: Using backend SequentialBackend with 1 concurrent workers.\n",
      "[Parallel(n_jobs=1)]: Done  80 out of  80 | elapsed:  4.0min finished\n"
     ]
    },
    {
     "data": {
      "text/plain": [
       "GridSearchCV(cv=StratifiedKFold(n_splits=5, random_state=None, shuffle=True),\n",
       "             estimator=DecisionTreeClassifier(),\n",
       "             param_grid={'criterion': ['entropy', 'gini'], 'max_depth': [2, 3],\n",
       "                         'min_samples_leaf': [5, 6],\n",
       "                         'min_samples_split': [5, 6]},\n",
       "             verbose=1)"
      ]
     },
     "execution_count": 155,
     "metadata": {},
     "output_type": "execute_result"
    }
   ],
   "source": [
    "# Create the parameter grid \n",
    "param_grid = {\n",
    "    'max_depth': list(range(2,4,1)),\n",
    "    'min_samples_leaf': list(range(5,7,1)),\n",
    "    'min_samples_split': list(range(5,7,1)),\n",
    "    'criterion': [\"entropy\", \"gini\"]\n",
    "}\n",
    "\n",
    "#n_folds = 5\n",
    "# create 5 folds\n",
    "n_folds = StratifiedKFold(n_splits = 5, shuffle = True)\n",
    "\n",
    "# Instantiate the grid search model\n",
    "dtree = DecisionTreeClassifier()\n",
    "dtree_gridsearch = GridSearchCV(estimator = dtree, param_grid = param_grid, cv = n_folds, verbose = 1)\n",
    "\n",
    "# Fit the grid search to the data\n",
    "dtree_gridsearch.fit(X_train_ros,y_train_ros)"
   ]
  },
  {
   "cell_type": "code",
   "execution_count": 156,
   "metadata": {},
   "outputs": [
    {
     "name": "stdout",
     "output_type": "stream",
     "text": [
      "The best parameters for using this model is DecisionTreeClassifier(max_depth=3, min_samples_leaf=5, min_samples_split=5)\n",
      "best accuracy 0.9384435280122283\n"
     ]
    }
   ],
   "source": [
    "# Checking for the best parameters\n",
    "best_parameters = dtree_gridsearch.best_estimator_\n",
    "print('The best parameters for using this model is', best_parameters)\n",
    "print(\"best accuracy\", dtree_gridsearch.best_score_)"
   ]
  },
  {
   "cell_type": "markdown",
   "metadata": {},
   "source": [
    "### Running the model with best parameters obtained from grid search"
   ]
  },
  {
   "cell_type": "code",
   "execution_count": 157,
   "metadata": {},
   "outputs": [
    {
     "data": {
      "text/plain": [
       "DecisionTreeClassifier(criterion='entropy', max_depth=3, min_samples_leaf=5,\n",
       "                       min_samples_split=5)"
      ]
     },
     "execution_count": 157,
     "metadata": {},
     "output_type": "execute_result"
    }
   ],
   "source": [
    "# model with optimal hyperparameters\n",
    "dt_Classifier_entropy = DecisionTreeClassifier(criterion = \"entropy\",\n",
    "                                  max_depth=3, \n",
    "                                  min_samples_leaf=5,\n",
    "                                  min_samples_split=5)\n",
    "dt_Classifier_entropy.fit(X_train_ros, y_train_ros)"
   ]
  },
  {
   "cell_type": "markdown",
   "metadata": {},
   "source": [
    "### Predicting the Train Dataset results and calculating the accuracy"
   ]
  },
  {
   "cell_type": "code",
   "execution_count": 158,
   "metadata": {},
   "outputs": [],
   "source": [
    "y_pred_train = dt_Classifier_entropy.predict(X_train_ros)"
   ]
  },
  {
   "cell_type": "markdown",
   "metadata": {},
   "source": [
    "### Checking for Performance - Accuracy, Confusion Matrix & AUC"
   ]
  },
  {
   "cell_type": "code",
   "execution_count": 159,
   "metadata": {},
   "outputs": [
    {
     "name": "stdout",
     "output_type": "stream",
     "text": [
      "Classification Report: \n",
      "               precision    recall  f1-score   support\n",
      "\n",
      "           0       0.88      1.00      0.93    199143\n",
      "           1       0.99      0.86      0.92    198898\n",
      "\n",
      "    accuracy                           0.93    398041\n",
      "   macro avg       0.94      0.93      0.93    398041\n",
      "weighted avg       0.94      0.93      0.93    398041\n",
      "\n"
     ]
    }
   ],
   "source": [
    "print(\"Classification Report: \\n\", classification_report(y_train_ros, y_pred_train))"
   ]
  },
  {
   "cell_type": "code",
   "execution_count": 160,
   "metadata": {},
   "outputs": [
    {
     "name": "stdout",
     "output_type": "stream",
     "text": [
      "Accuracy Score: 0.929889132024088\n",
      "Confusion Matrix: \n",
      "[[198278    865]\n",
      " [ 27042 171856]]\n",
      "Area Under Curve: 0.9298486263940131\n",
      "\n",
      "\n",
      "F1 score: 0.924904270233761\n",
      "Recall: 0.8640408651670706\n",
      "Precision: 0.9949919233909021\n"
     ]
    }
   ],
   "source": [
    "# Performance\n",
    "print(f'Accuracy Score: {accuracy_score(y_train_ros,y_pred_train)}')\n",
    "print(f'Confusion Matrix: \\n{confusion_matrix(y_train_ros, y_pred_train)}')\n",
    "print(f'Area Under Curve: {roc_auc_score(y_train_ros, y_pred_train)}')\n",
    "print('\\n')\n",
    "print('F1 score:', metrics.f1_score(y_train_ros, y_pred_train))\n",
    "print(\"Recall:\",metrics.recall_score(y_train_ros, y_pred_train))\n",
    "print(\"Precision:\",metrics.precision_score(y_train_ros, y_pred_train))"
   ]
  },
  {
   "cell_type": "markdown",
   "metadata": {},
   "source": [
    "### Predicting the Test Dataset results and calculating the accuracy"
   ]
  },
  {
   "cell_type": "code",
   "execution_count": 161,
   "metadata": {},
   "outputs": [],
   "source": [
    "y_pred_test = dt_Classifier_entropy.predict(X_test_ros)"
   ]
  },
  {
   "cell_type": "markdown",
   "metadata": {},
   "source": [
    "### Checking for Performance - Accuracy, Confusion Matrix & AUC"
   ]
  },
  {
   "cell_type": "code",
   "execution_count": 162,
   "metadata": {},
   "outputs": [
    {
     "name": "stdout",
     "output_type": "stream",
     "text": [
      "              precision    recall  f1-score   support\n",
      "\n",
      "           0       0.88      1.00      0.93     85172\n",
      "           1       1.00      0.86      0.92     85417\n",
      "\n",
      "    accuracy                           0.93    170589\n",
      "   macro avg       0.94      0.93      0.93    170589\n",
      "weighted avg       0.94      0.93      0.93    170589\n",
      "\n"
     ]
    }
   ],
   "source": [
    "print(classification_report(y_test_ros, y_pred_test))"
   ]
  },
  {
   "cell_type": "code",
   "execution_count": 163,
   "metadata": {},
   "outputs": [
    {
     "name": "stdout",
     "output_type": "stream",
     "text": [
      "Accuracy Score: 0.9298196249465088\n",
      "Confusion Matrix: \n",
      "[[84804   368]\n",
      " [11604 73813]]\n",
      "Area Under Curve: 0.9299140770347397\n",
      "\n",
      "\n",
      "F1 score: 0.9249865286532413\n",
      "Recall: 0.8641488228338621\n",
      "Precision: 0.9950391609711382\n"
     ]
    }
   ],
   "source": [
    "# Performance\n",
    "print(f'Accuracy Score: {accuracy_score(y_test_ros, y_pred_test)}')\n",
    "print(f'Confusion Matrix: \\n{confusion_matrix(y_test_ros, y_pred_test)}')\n",
    "print(f'Area Under Curve: {roc_auc_score(y_test_ros, y_pred_test)}')\n",
    "print('\\n')\n",
    "print('F1 score:', metrics.f1_score(y_test_ros, y_pred_test))\n",
    "print(\"Recall:\",metrics.recall_score(y_test_ros, y_pred_test))\n",
    "print(\"Precision:\",metrics.precision_score(y_test_ros, y_pred_test))"
   ]
  },
  {
   "cell_type": "markdown",
   "metadata": {},
   "source": [
    "<b>The AUC for both Train and Test dataset that is on an balanced dataset is the same.\n",
    "\n",
    "- The Area Under Curve for Train Dataset - 0.929\n",
    "- The Area Under Curve for Test Dataset - 0.929\n",
    "    \n",
    "This means that the model is good. </b>"
   ]
  },
  {
   "cell_type": "markdown",
   "metadata": {},
   "source": [
    "### Model3: Random Forest"
   ]
  },
  {
   "cell_type": "code",
   "execution_count": 164,
   "metadata": {},
   "outputs": [
    {
     "data": {
      "text/plain": [
       "RandomForestClassifier()"
      ]
     },
     "execution_count": 164,
     "metadata": {},
     "output_type": "execute_result"
    }
   ],
   "source": [
    "# Importing random forest classifier from sklearn library\n",
    "from sklearn.ensemble import RandomForestClassifier\n",
    "\n",
    "# Running the random forest with default parameters.\n",
    "rfc = RandomForestClassifier()\n",
    "\n",
    "# fit\n",
    "rfc.fit(X_train_ros,y_train_ros)"
   ]
  },
  {
   "cell_type": "code",
   "execution_count": 165,
   "metadata": {},
   "outputs": [
    {
     "name": "stdout",
     "output_type": "stream",
     "text": [
      "              precision    recall  f1-score   support\n",
      "\n",
      "           0       1.00      1.00      1.00     85172\n",
      "           1       1.00      1.00      1.00     85417\n",
      "\n",
      "    accuracy                           1.00    170589\n",
      "   macro avg       1.00      1.00      1.00    170589\n",
      "weighted avg       1.00      1.00      1.00    170589\n",
      "\n"
     ]
    }
   ],
   "source": [
    "# Making predictions\n",
    "y_pred_rf = rfc.predict(X_test_ros)\n",
    "\n",
    "# Let's check the report of our default model\n",
    "print(classification_report(y_test_ros,y_pred_rf))"
   ]
  },
  {
   "cell_type": "code",
   "execution_count": 166,
   "metadata": {},
   "outputs": [
    {
     "name": "stdout",
     "output_type": "stream",
     "text": [
      "[[85166     6]\n",
      " [    0 85417]]\n",
      "Accuracy Score:  0.9999648277438756\n"
     ]
    }
   ],
   "source": [
    "# Printing confusion matrix and accuracy\n",
    "print(confusion_matrix(y_test_ros,y_pred_rf))\n",
    "print(\"Accuracy Score: \", accuracy_score(y_test_ros,y_pred_rf))"
   ]
  },
  {
   "cell_type": "markdown",
   "metadata": {},
   "source": [
    "### Hyperparameter Tuning - Grid Search"
   ]
  },
  {
   "cell_type": "code",
   "execution_count": 167,
   "metadata": {},
   "outputs": [
    {
     "name": "stdout",
     "output_type": "stream",
     "text": [
      "Fitting 10 folds for each of 36 candidates, totalling 360 fits\n"
     ]
    },
    {
     "name": "stderr",
     "output_type": "stream",
     "text": [
      "[Parallel(n_jobs=-1)]: Using backend LokyBackend with 8 concurrent workers.\n",
      "[Parallel(n_jobs=-1)]: Done  34 tasks      | elapsed:  2.5min\n",
      "[Parallel(n_jobs=-1)]: Done 184 tasks      | elapsed: 17.4min\n",
      "[Parallel(n_jobs=-1)]: Done 360 out of 360 | elapsed: 35.5min finished\n"
     ]
    },
    {
     "data": {
      "text/plain": [
       "GridSearchCV(cv=10, estimator=RandomForestClassifier(random_state=42),\n",
       "             n_jobs=-1,\n",
       "             param_grid={'criterion': ['gini', 'entropy'],\n",
       "                         'max_depth': [5, 10, 20],\n",
       "                         'max_features': ['auto', 'sqrt', 'log2'],\n",
       "                         'n_estimators': [10, 25]},\n",
       "             verbose=1)"
      ]
     },
     "execution_count": 167,
     "metadata": {},
     "output_type": "execute_result"
    }
   ],
   "source": [
    "# Create a based model\n",
    "rf = RandomForestClassifier(random_state=42)\n",
    "\n",
    "# Create the parameter grid based on the results of random search \n",
    "param_grid = { \n",
    "    'n_estimators': [10, 25],\n",
    "    'max_features': ['auto', 'sqrt', 'log2'],\n",
    "    'max_depth' : [5,10,20],\n",
    "    'criterion' :['gini', 'entropy']\n",
    "}\n",
    "\n",
    "# Instantiate the grid search model\n",
    "rf_gridSearch = GridSearchCV(estimator = rf, param_grid = param_grid, cv = 5 ,n_jobs = -1,verbose = 1)\n",
    "\n",
    "# Fit the grid search to the data\n",
    "rf_gridSearch.fit(X_train_ros,y_train_ros)"
   ]
  },
  {
   "cell_type": "code",
   "execution_count": 168,
   "metadata": {},
   "outputs": [
    {
     "name": "stdout",
     "output_type": "stream",
     "text": [
      "The best parameters for using this model is {'criterion': 'entropy', 'max_depth': 20, 'max_features': 'auto', 'n_estimators': 10}\n",
      "Accuracy 0.9999547786035763\n"
     ]
    }
   ],
   "source": [
    "# Checking for the best parameters\n",
    "best_parameters = rf_gridSearch.best_params_\n",
    "print('The best parameters for using this model is', best_parameters)\n",
    "print(\"Accuracy\", rf_gridSearch.best_score_)"
   ]
  },
  {
   "cell_type": "markdown",
   "metadata": {},
   "source": [
    "### Running the model with best parameters obtained from grid search"
   ]
  },
  {
   "cell_type": "code",
   "execution_count": 169,
   "metadata": {},
   "outputs": [
    {
     "data": {
      "text/plain": [
       "RandomForestClassifier(criterion='entropy', max_depth=20, n_estimators=10)"
      ]
     },
     "execution_count": 169,
     "metadata": {},
     "output_type": "execute_result"
    }
   ],
   "source": [
    "rfc=RandomForestClassifier(max_features='auto', \n",
    "                           n_estimators= 10, \n",
    "                           max_depth=20, \n",
    "                           criterion='entropy')\n",
    "#Fit the model\n",
    "rfc.fit(X_train_ros,y_train_ros)"
   ]
  },
  {
   "cell_type": "markdown",
   "metadata": {},
   "source": [
    "### Predicting the Train Dataset results and calculating the accuracy"
   ]
  },
  {
   "cell_type": "code",
   "execution_count": 170,
   "metadata": {},
   "outputs": [],
   "source": [
    "y_pred_train = rfc.predict(X_train_ros)"
   ]
  },
  {
   "cell_type": "markdown",
   "metadata": {},
   "source": [
    "### Checking for Performance - Accuracy, Confusion Matrix & AUC"
   ]
  },
  {
   "cell_type": "code",
   "execution_count": 171,
   "metadata": {
    "scrolled": true
   },
   "outputs": [
    {
     "name": "stdout",
     "output_type": "stream",
     "text": [
      "              precision    recall  f1-score   support\n",
      "\n",
      "           0       1.00      1.00      1.00    199143\n",
      "           1       1.00      1.00      1.00    198898\n",
      "\n",
      "    accuracy                           1.00    398041\n",
      "   macro avg       1.00      1.00      1.00    398041\n",
      "weighted avg       1.00      1.00      1.00    398041\n",
      "\n"
     ]
    }
   ],
   "source": [
    "print(classification_report(y_train_ros, y_pred_train))"
   ]
  },
  {
   "cell_type": "code",
   "execution_count": 172,
   "metadata": {},
   "outputs": [
    {
     "name": "stdout",
     "output_type": "stream",
     "text": [
      "Accuracy Score: 1.0\n",
      "Confusion Matrix: \n",
      "[[199143      0]\n",
      " [     0 198898]]\n",
      "Area Under Curve: 1.0\n",
      "\n",
      "\n",
      "F1 score: 1.0\n",
      "Recall: 1.0\n",
      "Precision: 1.0\n"
     ]
    }
   ],
   "source": [
    "# Performance\n",
    "print(f'Accuracy Score: {accuracy_score(y_train_ros, y_pred_train)}')\n",
    "print(f'Confusion Matrix: \\n{confusion_matrix(y_train_ros, y_pred_train)}')\n",
    "print(f'Area Under Curve: {roc_auc_score(y_train_ros, y_pred_train)}')\n",
    "print('\\n')\n",
    "print('F1 score:', metrics.f1_score(y_train_ros, y_pred_train))\n",
    "print(\"Recall:\",metrics.recall_score(y_train_ros, y_pred_train))\n",
    "print(\"Precision:\",metrics.precision_score(y_train_ros, y_pred_train))"
   ]
  },
  {
   "cell_type": "markdown",
   "metadata": {},
   "source": [
    "### Predicting the Test Dataset results and calculating the accuracy"
   ]
  },
  {
   "cell_type": "code",
   "execution_count": 173,
   "metadata": {},
   "outputs": [],
   "source": [
    "y_pred_test = rfc.predict(X_test_ros)"
   ]
  },
  {
   "cell_type": "markdown",
   "metadata": {},
   "source": [
    "### Checking for Performance - Accuracy, Confusion Matrix & AUC"
   ]
  },
  {
   "cell_type": "code",
   "execution_count": 174,
   "metadata": {},
   "outputs": [
    {
     "name": "stdout",
     "output_type": "stream",
     "text": [
      "              precision    recall  f1-score   support\n",
      "\n",
      "           0       1.00      1.00      1.00     85172\n",
      "           1       1.00      1.00      1.00     85417\n",
      "\n",
      "    accuracy                           1.00    170589\n",
      "   macro avg       1.00      1.00      1.00    170589\n",
      "weighted avg       1.00      1.00      1.00    170589\n",
      "\n"
     ]
    }
   ],
   "source": [
    "print(classification_report(y_test_ros, y_pred_test))"
   ]
  },
  {
   "cell_type": "code",
   "execution_count": 175,
   "metadata": {},
   "outputs": [
    {
     "name": "stdout",
     "output_type": "stream",
     "text": [
      "Accuracy Score: 0.9999648277438756\n",
      "Confusion Matrix: \n",
      "[[85166     6]\n",
      " [    0 85417]]\n",
      "Area Under Curve: 0.9999647771568121\n",
      "\n",
      "\n",
      "F1 score: 0.9999648794193398\n",
      "Recall: 1.0\n",
      "Precision: 0.9999297613055032\n"
     ]
    }
   ],
   "source": [
    "# Performance\n",
    "print(f'Accuracy Score: {accuracy_score(y_test_ros, y_pred_test)}')\n",
    "print(f'Confusion Matrix: \\n{confusion_matrix(y_test_ros, y_pred_test)}')\n",
    "print(f'Area Under Curve: {roc_auc_score(y_test_ros, y_pred_test)}')\n",
    "print('\\n')\n",
    "print('F1 score:', metrics.f1_score(y_test_ros, y_pred_test))\n",
    "print(\"Recall:\",metrics.recall_score(y_test_ros, y_pred_test))\n",
    "print(\"Precision:\",metrics.precision_score(y_test_ros, y_pred_test))"
   ]
  },
  {
   "cell_type": "markdown",
   "metadata": {},
   "source": [
    "<b>The AUC for both Train and Test dataset that is on balanced dataset are the same\n",
    "\n",
    "- The Area Under Curve for Train Dataset - 1.00\n",
    "- The Area Under Curve for Test Dataset - 0.999</b>"
   ]
  },
  {
   "cell_type": "markdown",
   "metadata": {},
   "source": [
    "### Model4: XGBoost"
   ]
  },
  {
   "cell_type": "code",
   "execution_count": 176,
   "metadata": {},
   "outputs": [
    {
     "name": "stdout",
     "output_type": "stream",
     "text": [
      "AUC: 1.000 (0.000)\n"
     ]
    }
   ],
   "source": [
    "# Importing XGBoost Classifier library\n",
    "from xgboost import XGBClassifier\n",
    "\n",
    "XGB = XGBClassifier()\n",
    "\n",
    "kfold = StratifiedKFold(n_splits=3, random_state=42)\n",
    "\n",
    "# use area under the precision-recall curve to show classification accuracy\n",
    "scoring = 'roc_auc'\n",
    "results = cross_val_score(XGB, X_train_ros, y_train_ros, cv=kfold, scoring = scoring)\n",
    "print(\"AUC: %.3f (%.3f)\" % (results.mean(), results.std()))"
   ]
  },
  {
   "cell_type": "markdown",
   "metadata": {},
   "source": [
    "### Hyperparameter Tuning - Grid Search"
   ]
  },
  {
   "cell_type": "code",
   "execution_count": 178,
   "metadata": {
    "scrolled": false
   },
   "outputs": [
    {
     "name": "stdout",
     "output_type": "stream",
     "text": [
      "Fitting 5 folds for each of 540 candidates, totalling 2700 fits\n"
     ]
    },
    {
     "name": "stderr",
     "output_type": "stream",
     "text": [
      "[Parallel(n_jobs=-1)]: Using backend LokyBackend with 8 concurrent workers.\n",
      "[Parallel(n_jobs=-1)]: Done  34 tasks      | elapsed:  1.7min\n",
      "[Parallel(n_jobs=-1)]: Done 184 tasks      | elapsed:  6.4min\n",
      "[Parallel(n_jobs=-1)]: Done 434 tasks      | elapsed: 14.2min\n",
      "[Parallel(n_jobs=-1)]: Done 784 tasks      | elapsed: 24.8min\n",
      "[Parallel(n_jobs=-1)]: Done 1234 tasks      | elapsed: 43.1min\n",
      "[Parallel(n_jobs=-1)]: Done 1784 tasks      | elapsed: 67.3min\n",
      "[Parallel(n_jobs=-1)]: Done 2434 tasks      | elapsed: 103.1min\n",
      "[Parallel(n_jobs=-1)]: Done 2700 out of 2700 | elapsed: 122.0min finished\n"
     ]
    },
    {
     "data": {
      "text/plain": [
       "GridSearchCV(cv=StratifiedKFold(n_splits=5, random_state=0, shuffle=True),\n",
       "             estimator=XGBClassifier(), n_jobs=-1,\n",
       "             param_grid={'colsample_bytree': [0.3, 0.5, 0.7],\n",
       "                         'gamma': [0, 0.2, 0.3],\n",
       "                         'learning_rate': [0.05, 0.1, 0.2, 0.3],\n",
       "                         'max_depth': range(1, 11, 2),\n",
       "                         'min_child_weight': [1, 3, 5], 'n_estimators': [10]},\n",
       "             return_train_score=True, verbose=1)"
      ]
     },
     "execution_count": 178,
     "metadata": {},
     "output_type": "execute_result"
    }
   ],
   "source": [
    "# Create a based model\n",
    "xgb_model = XGBClassifier()\n",
    "\n",
    "# Create the parameter grid based on the results of random search \n",
    "param_tuning = {\n",
    "    'learning_rate': [0.05, 0.1,0.2,0.3],\n",
    "    'max_depth': range(1, 11, 2),\n",
    "    'colsample_bytree': [0.3,0.5,0.7],\n",
    "    'gamma': [0,0.2,0.3],\n",
    "    'min_child_weight' : [1,3,5],\n",
    "    'n_estimators' : [10]\n",
    "    }\n",
    "\n",
    "folds = StratifiedKFold(n_splits =3, shuffle = True, random_state = 0)\n",
    "\n",
    "# Instantiate the grid search model\n",
    "xgb_gsearch = GridSearchCV(estimator = xgb_model,param_grid = param_tuning, cv = folds,return_train_score = True, n_jobs = -1, verbose = 1)\n",
    "\n",
    "# Fit the grid search to the data\n",
    "xgb_gsearch.fit(X_train_ros,y_train_ros)"
   ]
  },
  {
   "cell_type": "code",
   "execution_count": 179,
   "metadata": {},
   "outputs": [
    {
     "name": "stdout",
     "output_type": "stream",
     "text": [
      "Best AUC: 0.999704 using {'colsample_bytree': 0.3, 'gamma': 0, 'learning_rate': 0.3, 'max_depth': 9, 'min_child_weight': 1, 'n_estimators': 10}\n"
     ]
    }
   ],
   "source": [
    "# summarize results\n",
    "print(\"Best AUC: %f using %s\" % (xgb_gsearch.best_score_, xgb_gsearch.best_params_))"
   ]
  },
  {
   "cell_type": "markdown",
   "metadata": {},
   "source": [
    "### Running the model with best parameters obtained from grid search"
   ]
  },
  {
   "cell_type": "code",
   "execution_count": 180,
   "metadata": {},
   "outputs": [
    {
     "data": {
      "text/plain": [
       "XGBClassifier(colsample_bytree=0.3, learning_rate=0.3, max_depth=9,\n",
       "              n_estimators=10)"
      ]
     },
     "execution_count": 180,
     "metadata": {},
     "output_type": "execute_result"
    }
   ],
   "source": [
    "XGB_model = XGBClassifier(colsample_bytree = 0.3, gamma =0, learning_rate = 0.3,\n",
    "                          max_depth = 9, min_child_weight =1, n_estimators = 10)\n",
    "#Fit the model\n",
    "XGB_model.fit(X_train_ros,y_train_ros)"
   ]
  },
  {
   "cell_type": "markdown",
   "metadata": {},
   "source": [
    "### Predicting the Train Dataset results and calculating the accuracy"
   ]
  },
  {
   "cell_type": "code",
   "execution_count": 181,
   "metadata": {},
   "outputs": [],
   "source": [
    "y_pred_train = XGB_model.predict(X_train_ros)"
   ]
  },
  {
   "cell_type": "markdown",
   "metadata": {},
   "source": [
    "### Checking for Performance - Accuracy, Confusion Matrix & AUC"
   ]
  },
  {
   "cell_type": "code",
   "execution_count": 182,
   "metadata": {},
   "outputs": [
    {
     "name": "stdout",
     "output_type": "stream",
     "text": [
      "              precision    recall  f1-score   support\n",
      "\n",
      "           0       1.00      1.00      1.00    199143\n",
      "           1       1.00      1.00      1.00    198898\n",
      "\n",
      "    accuracy                           1.00    398041\n",
      "   macro avg       1.00      1.00      1.00    398041\n",
      "weighted avg       1.00      1.00      1.00    398041\n",
      "\n"
     ]
    }
   ],
   "source": [
    "print(classification_report(y_train_ros, y_pred_train))"
   ]
  },
  {
   "cell_type": "code",
   "execution_count": 183,
   "metadata": {},
   "outputs": [
    {
     "name": "stdout",
     "output_type": "stream",
     "text": [
      "Accuracy Score: 0.9997588188151472\n",
      "Confusion Matrix: \n",
      "[[199047     96]\n",
      " [     0 198898]]\n",
      "Area Under Curve: 0.999758967174342\n",
      "\n",
      "\n",
      "F1 score: 0.9997587284991908\n",
      "Recall: 1.0\n",
      "Precision: 0.9995175733941727\n"
     ]
    }
   ],
   "source": [
    "# Performance\n",
    "print(f'Accuracy Score: {accuracy_score(y_train_ros, y_pred_train)}')\n",
    "print(f'Confusion Matrix: \\n{confusion_matrix(y_train_ros, y_pred_train)}')\n",
    "print(f'Area Under Curve: {roc_auc_score(y_train_ros, y_pred_train)}')\n",
    "print('\\n')\n",
    "print('F1 score:', metrics.f1_score(y_train_ros, y_pred_train))\n",
    "print(\"Recall:\",metrics.recall_score(y_train_ros, y_pred_train))\n",
    "print(\"Precision:\",metrics.precision_score(y_train_ros, y_pred_train))"
   ]
  },
  {
   "cell_type": "markdown",
   "metadata": {},
   "source": [
    "### Predicting the Test Dataset results and calculating the accuracy"
   ]
  },
  {
   "cell_type": "code",
   "execution_count": 184,
   "metadata": {},
   "outputs": [],
   "source": [
    "y_pred_test = XGB_model.predict(X_test_ros)"
   ]
  },
  {
   "cell_type": "markdown",
   "metadata": {},
   "source": [
    "### Checking for Performance - Accuracy, Confusion Matrix & AUC"
   ]
  },
  {
   "cell_type": "code",
   "execution_count": 185,
   "metadata": {},
   "outputs": [
    {
     "name": "stdout",
     "output_type": "stream",
     "text": [
      "              precision    recall  f1-score   support\n",
      "\n",
      "           0       1.00      1.00      1.00     85172\n",
      "           1       1.00      1.00      1.00     85417\n",
      "\n",
      "    accuracy                           1.00    170589\n",
      "   macro avg       1.00      1.00      1.00    170589\n",
      "weighted avg       1.00      1.00      1.00    170589\n",
      "\n"
     ]
    }
   ],
   "source": [
    "print(classification_report(y_test_ros, y_pred_test))"
   ]
  },
  {
   "cell_type": "code",
   "execution_count": 186,
   "metadata": {},
   "outputs": [
    {
     "name": "stdout",
     "output_type": "stream",
     "text": [
      "Accuracy Score: 0.9997596562498168\n",
      "Confusion Matrix: \n",
      "[[85131    41]\n",
      " [    0 85417]]\n",
      "Area Under Curve: 0.9997593105715493\n",
      "\n",
      "\n",
      "F1 score: 0.9997600585223116\n",
      "Recall: 1.0\n",
      "Precision: 0.9995202321608275\n"
     ]
    }
   ],
   "source": [
    "# Performance\n",
    "print(f'Accuracy Score: {accuracy_score(y_test_ros, y_pred_test)}')\n",
    "print(f'Confusion Matrix: \\n{confusion_matrix(y_test_ros, y_pred_test)}')\n",
    "print(f'Area Under Curve: {roc_auc_score(y_test_ros, y_pred_test)}')\n",
    "print('\\n')\n",
    "print('F1 score:', metrics.f1_score(y_test_ros, y_pred_test))\n",
    "print(\"Recall:\",metrics.recall_score(y_test_ros, y_pred_test))\n",
    "print(\"Precision:\",metrics.precision_score(y_test_ros, y_pred_test))"
   ]
  },
  {
   "cell_type": "markdown",
   "metadata": {},
   "source": [
    "<b>The AUC for both Train and Test dataset that is on balanced dataset looks almost same.\n",
    "\n",
    "- The Area Under Curve for Train Dataset - 0.999 \n",
    "- The Area Under Curve for Test Dataset - 0.999\n",
    "    \n",
    "We can check the AUC on balanced dataset </b>"
   ]
  },
  {
   "cell_type": "markdown",
   "metadata": {},
   "source": [
    "## Models with SMOTE (Synthetic Minority Over-sampling Technique)"
   ]
  },
  {
   "cell_type": "code",
   "execution_count": 187,
   "metadata": {},
   "outputs": [],
   "source": [
    "# Applying SMOTE on X and y dataset\n",
    "smote = SMOTE(random_state=42)\n",
    "\n",
    "X_smote, y_smote = smote.fit_resample(X, y)"
   ]
  },
  {
   "cell_type": "markdown",
   "metadata": {},
   "source": [
    "### Distribution of Predictor variable (Class Variable) after applying SMOTE"
   ]
  },
  {
   "cell_type": "code",
   "execution_count": 188,
   "metadata": {},
   "outputs": [
    {
     "name": "stdout",
     "output_type": "stream",
     "text": [
      "Int64Index([1, 0], dtype='int64')\n"
     ]
    }
   ],
   "source": [
    "y_cnt = y_smote.value_counts()\n",
    "print(y_cnt.index)"
   ]
  },
  {
   "cell_type": "code",
   "execution_count": 189,
   "metadata": {
    "scrolled": true
   },
   "outputs": [
    {
     "name": "stdout",
     "output_type": "stream",
     "text": [
      "Ratio of fraudulent cases: 0.9982725143693799\n",
      "Ratio of non-fraudulent cases: 0.9982725143693799\n"
     ]
    }
   ],
   "source": [
    "# percentage of fraudulent transcations\n",
    "dep_var = y_cnt/len(CC_data.index)\n",
    "print(f'Ratio of fraudulent cases: {dep_var[1]}\\nRatio of non-fraudulent cases: {dep_var[0]}')"
   ]
  },
  {
   "cell_type": "markdown",
   "metadata": {},
   "source": [
    "#### Plotting the distribution"
   ]
  },
  {
   "cell_type": "code",
   "execution_count": 190,
   "metadata": {},
   "outputs": [
    {
     "data": {
      "image/png": "[encoded data removed]",
      "text/plain": [
       "<Figure size 576x288 with 1 Axes>"
      ]
     },
     "metadata": {
      "needs_background": "light"
     },
     "output_type": "display_data"
    },
    {
     "data": {
      "text/plain": [
       "Text(0.5, 0, 'Percentage of count')"
      ]
     },
     "execution_count": 190,
     "metadata": {},
     "output_type": "execute_result"
    },
    {
     "data": {
      "image/png": "[encoded data removed]",
      "text/plain": [
       "<Figure size 576x288 with 1 Axes>"
      ]
     },
     "metadata": {},
     "output_type": "display_data"
    }
   ],
   "source": [
    "# Creating temp dataframe\n",
    "df1 = pd.DataFrame({'Class': y_cnt.index,'Count': y_cnt.values})\n",
    "\n",
    "ax = df1.plot(kind='bar', title =\"Credit Card Fraud Class - data imbalance (Not-fraud = 0, Fraud = 1)\", figsize=(8,4), legend=True, fontsize=12)\n",
    "ax.set_xlabel(\"Class\", fontsize=12)\n",
    "ax.set_ylabel(\"Number of transactions\", fontsize=12)\n",
    "plt.show()\n",
    "\n",
    "sns.set_style(\"white\")\n",
    "x2 = df1['Class']\n",
    "y2 = df1['Count']*100/(sum(df1['Count']))\n",
    "palette = ['blue','mediumvioletred']\n",
    "fig, ax = plt.subplots(figsize = (8,4))\n",
    "\n",
    "fig = sns.barplot(y2, x2, ci = None, orient='h', palette=palette)\n",
    "y_lab = ['0', '1']\n",
    "ax.set_yticklabels(labels=y_lab, ha='right')\n",
    "\n",
    "for i, v in enumerate(y2):\n",
    "    ax.text(v - 15, i + .05, str(int(v)+.5)+'%', color='white', fontweight='bold')\n",
    "\n",
    "plt.title('Credit Card Fraud as Percent of Total frauds',size = 16, weight = 'bold')\n",
    "plt.ylabel('Class')\n",
    "plt.xlabel('Percentage of count')"
   ]
  },
  {
   "cell_type": "markdown",
   "metadata": {},
   "source": [
    "- <b>The above plot clearly states that the predictor variables are equally distributed that is they are balanced using SMOTE.</b>"
   ]
  },
  {
   "cell_type": "markdown",
   "metadata": {},
   "source": [
    "## Splitting the data into Train and Test Dataset"
   ]
  },
  {
   "cell_type": "code",
   "execution_count": 191,
   "metadata": {},
   "outputs": [],
   "source": [
    "X_train_sm, X_test_sm, y_train_sm, y_test_sm = train_test_split(X_smote, y_smote, test_size=0.3, shuffle=True, random_state=0)"
   ]
  },
  {
   "cell_type": "code",
   "execution_count": 192,
   "metadata": {},
   "outputs": [
    {
     "name": "stdout",
     "output_type": "stream",
     "text": [
      "X_train -  (398041, 29)\n",
      "y_train -  (398041,)\n",
      "X_test -  (170589, 29)\n",
      "y_test -  (170589,)\n"
     ]
    }
   ],
   "source": [
    "#Checking on the dimensions of the train and test data\n",
    "print(\"X_train - \",X_train_sm.shape)\n",
    "print(\"y_train - \",y_train_sm.shape)\n",
    "print(\"X_test - \",X_test_sm.shape)\n",
    "print(\"y_test - \",y_test_sm.shape)"
   ]
  },
  {
   "cell_type": "markdown",
   "metadata": {},
   "source": [
    "### Model1: Logistic Regression"
   ]
  },
  {
   "cell_type": "code",
   "execution_count": 193,
   "metadata": {},
   "outputs": [
    {
     "data": {
      "text/plain": [
       "LogisticRegression(max_iter=1000)"
      ]
     },
     "execution_count": 193,
     "metadata": {},
     "output_type": "execute_result"
    }
   ],
   "source": [
    "# SMOTE Sampling with Logistic Regression\n",
    "logreg = LogisticRegression(max_iter=1000)\n",
    "logreg.fit(X_train_sm, y_train_sm)"
   ]
  },
  {
   "cell_type": "code",
   "execution_count": 194,
   "metadata": {},
   "outputs": [],
   "source": [
    "# Predict from Test data\n",
    "y_pred_sm = logreg.predict(X_test_sm)\n",
    "y_pred_proba = logreg.predict_proba(X_test_sm)[:, 1] #loss\n",
    "[fpr, tpr, thr] = roc_curve(y_test_sm, y_pred_sm)"
   ]
  },
  {
   "cell_type": "code",
   "execution_count": 195,
   "metadata": {},
   "outputs": [
    {
     "name": "stdout",
     "output_type": "stream",
     "text": [
      "Metrics:\n",
      "Accuracy:  0.9462040342577774\n",
      "log_loss:  0.13259163084803965\n",
      "Precision:  0.9732581814570194\n",
      "Recall:  0.91777983305431\n",
      "F1:  0.9447052089295935\n",
      "AUC:  0.9462449158226981\n",
      "\n",
      "\n",
      "Classification report: \n",
      "               precision    recall  f1-score   support\n",
      "\n",
      "           0       0.92      0.97      0.95     85172\n",
      "           1       0.97      0.92      0.94     85417\n",
      "\n",
      "    accuracy                           0.95    170589\n",
      "   macro avg       0.95      0.95      0.95    170589\n",
      "weighted avg       0.95      0.95      0.95    170589\n",
      "\n"
     ]
    }
   ],
   "source": [
    "# Checking classification scores\n",
    "print('Metrics:')\n",
    "print('Accuracy: ', metrics.accuracy_score(y_pred_sm , y_test_sm))\n",
    "print('log_loss: ', log_loss(y_test_sm, y_pred_proba))\n",
    "print('Precision: ', metrics.precision_score(y_test_sm , y_pred_sm))\n",
    "print('Recall: ', metrics.recall_score(y_test_sm , y_pred_sm))\n",
    "print('F1: ', metrics.f1_score(y_test_sm , y_pred_sm))\n",
    "print('AUC: ', auc(fpr, tpr))\n",
    "\n",
    "print('\\n')\n",
    "\n",
    "print('Classification report: \\n', metrics.classification_report(y_test_sm , y_pred_sm))"
   ]
  },
  {
   "cell_type": "markdown",
   "metadata": {},
   "source": [
    "### Plotting the ROC Curve"
   ]
  },
  {
   "cell_type": "code",
   "execution_count": 196,
   "metadata": {},
   "outputs": [
    {
     "data": {
      "image/png": "[encoded data removed]",
      "text/plain": [
       "<Figure size 432x288 with 1 Axes>"
      ]
     },
     "metadata": {},
     "output_type": "display_data"
    },
    {
     "name": "stdout",
     "output_type": "stream",
     "text": [
      "Using a threshold of 0.000 guarantees a sensitivity of 1.000 and a specificity of 0.000, i.e. a false positive rate of 100.00%.\n"
     ]
    }
   ],
   "source": [
    "#AUC Plot\n",
    "idx = np.min(np.where(tpr > 0.95)) # index of the first threshold for which the sensibility > 0.95\n",
    "\n",
    "plt.figure()\n",
    "plt.plot(fpr, tpr, color='coral', label='ROC curve (area = %0.3f)' % auc(fpr, tpr))\n",
    "plt.plot([0, 1], [0, 1], 'k--')\n",
    "plt.plot([0,fpr[idx]], [tpr[idx],tpr[idx]], 'k--', color='blue')\n",
    "plt.plot([fpr[idx],fpr[idx]], [0,tpr[idx]], 'k--', color='blue')\n",
    "plt.xlim([0.0, 1.0])\n",
    "plt.ylim([0.0, 1.05])\n",
    "plt.xlabel('False Positive Rate (1 - specificity)', fontsize=14)\n",
    "plt.ylabel('True Positive Rate (recall)', fontsize=14)\n",
    "plt.title('Receiver operating characteristic (ROC) curve')\n",
    "plt.legend(loc=\"lower right\")\n",
    "plt.show()\n",
    "\n",
    "print(\"Using a threshold of %.3f \" % thr[idx] + \"guarantees a sensitivity of %.3f \" % tpr[idx] +  \n",
    "      \"and a specificity of %.3f\" % (1-fpr[idx]) + \n",
    "      \", i.e. a false positive rate of %.2f%%.\" % (np.array(fpr[idx])*100))"
   ]
  },
  {
   "cell_type": "markdown",
   "metadata": {},
   "source": [
    "### Hyperparameter Tuning - Grid Search"
   ]
  },
  {
   "cell_type": "code",
   "execution_count": 197,
   "metadata": {},
   "outputs": [],
   "source": [
    "logreg_cv = LogisticRegression()\n",
    "\n",
    "# Set of parameters we want to try for out Model\n",
    "parameters = { 'C' : [0.001,0.05,1.1,1.5,2,2.5], 'penalty': ['l1', 'l2']}\n",
    "\n",
    "# create 5 folds\n",
    "folds = StratifiedKFold(n_splits = 5, shuffle = True)\n",
    "\n",
    "#Running the Model with above chosen parameter\n",
    "lr_model = GridSearchCV(estimator = logreg_cv, param_grid = parameters , scoring = 'accuracy', cv = folds, n_jobs = -1 , verbose = 2)"
   ]
  },
  {
   "cell_type": "code",
   "execution_count": 198,
   "metadata": {},
   "outputs": [
    {
     "name": "stdout",
     "output_type": "stream",
     "text": [
      "Fitting 5 folds for each of 12 candidates, totalling 60 fits\n"
     ]
    },
    {
     "name": "stderr",
     "output_type": "stream",
     "text": [
      "[Parallel(n_jobs=-1)]: Using backend LokyBackend with 8 concurrent workers.\n",
      "[Parallel(n_jobs=-1)]: Done  25 tasks      | elapsed:   12.4s\n",
      "[Parallel(n_jobs=-1)]: Done  60 out of  60 | elapsed:   30.9s finished\n"
     ]
    },
    {
     "data": {
      "text/plain": [
       "GridSearchCV(cv=StratifiedKFold(n_splits=5, random_state=None, shuffle=True),\n",
       "             estimator=LogisticRegression(), n_jobs=-1,\n",
       "             param_grid={'C': [0.001, 0.05, 1.1, 1.5, 2, 2.5],\n",
       "                         'penalty': ['l1', 'l2']},\n",
       "             scoring='accuracy', verbose=2)"
      ]
     },
     "execution_count": 198,
     "metadata": {},
     "output_type": "execute_result"
    }
   ],
   "source": [
    "# fitting the model using GridSearch\n",
    "lr_model.fit(X_train_sm, y_train_sm)"
   ]
  },
  {
   "cell_type": "code",
   "execution_count": 199,
   "metadata": {},
   "outputs": [
    {
     "name": "stdout",
     "output_type": "stream",
     "text": [
      "Best AUC:  0.9460055621008567\n",
      "Best hyperparameters:  {'C': 1.1, 'penalty': 'l2'}\n"
     ]
    }
   ],
   "source": [
    "# print best hyperparameters\n",
    "print(\"Best AUC: \", lr_model.best_score_)\n",
    "best_lr_params = lr_model.best_params_\n",
    "print(\"Best hyperparameters: \", best_lr_params)"
   ]
  },
  {
   "cell_type": "markdown",
   "metadata": {},
   "source": [
    "### Running the model with best parameters obtained from grid search"
   ]
  },
  {
   "cell_type": "code",
   "execution_count": 200,
   "metadata": {},
   "outputs": [
    {
     "data": {
      "text/plain": [
       "LogisticRegression(C=2)"
      ]
     },
     "execution_count": 200,
     "metadata": {},
     "output_type": "execute_result"
    }
   ],
   "source": [
    "# Making the Final Classification model.\n",
    "lr = LogisticRegression(C = 2, penalty = 'l2')\n",
    "lr.fit(X_train_sm, y_train_sm)"
   ]
  },
  {
   "cell_type": "markdown",
   "metadata": {},
   "source": [
    "### Predicting the Train Dataset results and calculating the accuracy"
   ]
  },
  {
   "cell_type": "code",
   "execution_count": 201,
   "metadata": {},
   "outputs": [],
   "source": [
    "y_pred_train = lr.predict(X_train_sm)"
   ]
  },
  {
   "cell_type": "markdown",
   "metadata": {},
   "source": [
    "### Checking for Performance - Accuracy, Confusion Matrix & AUC"
   ]
  },
  {
   "cell_type": "code",
   "execution_count": 202,
   "metadata": {},
   "outputs": [
    {
     "name": "stdout",
     "output_type": "stream",
     "text": [
      "Accuracy Score: 0.9460532960172444\n",
      "Confusion Matrix: \n",
      "[[194287   4856]\n",
      " [ 16617 182281]]\n",
      "Area Under Curve: 0.9460350888381094\n",
      "\n",
      "\n",
      "F1 score: 0.9443755099926172\n",
      "Recall: 0.9164546652052811\n",
      "Precision: 0.9740510962556843\n"
     ]
    }
   ],
   "source": [
    "# performance\n",
    "print(f'Accuracy Score: {metrics.accuracy_score(y_train_sm,y_pred_train)}')\n",
    "print(f'Confusion Matrix: \\n{confusion_matrix(y_train_sm, y_pred_train)}')\n",
    "print(f'Area Under Curve: {roc_auc_score(y_train_sm, y_pred_train)}')\n",
    "print('\\n')\n",
    "print(\"F1 score:\",metrics.f1_score(y_train_sm, y_pred_train))\n",
    "print(\"Recall:\",metrics.recall_score(y_train_sm, y_pred_train))\n",
    "print(\"Precision:\",metrics.precision_score(y_train_sm, y_pred_train))"
   ]
  },
  {
   "cell_type": "markdown",
   "metadata": {},
   "source": [
    "### Predicting the Test Dataset results and calculating the accuracy"
   ]
  },
  {
   "cell_type": "code",
   "execution_count": 203,
   "metadata": {},
   "outputs": [],
   "source": [
    "y_pred = lr.predict(X_test_sm)"
   ]
  },
  {
   "cell_type": "markdown",
   "metadata": {},
   "source": [
    "### Checking for Performance - Accuracy, Confusion Matrix & AUC"
   ]
  },
  {
   "cell_type": "code",
   "execution_count": 204,
   "metadata": {},
   "outputs": [
    {
     "name": "stdout",
     "output_type": "stream",
     "text": [
      "Accuracy Score: 0.9462040342577774\n",
      "Confusion Matrix: \n",
      "[[83017  2155]\n",
      " [ 7022 78395]]\n",
      "Area Under Curve: 0.9462448989845267\n",
      "\n",
      "\n",
      "F1 score: 0.9447058752643598\n",
      "Recall: 0.9177915403256963\n",
      "Precision: 0.9732464307883302\n"
     ]
    }
   ],
   "source": [
    "# Performance\n",
    "print(f'Accuracy Score: {metrics.accuracy_score(y_test_sm,y_pred)}')\n",
    "print(f'Confusion Matrix: \\n{confusion_matrix(y_test_sm, y_pred)}')\n",
    "print(f'Area Under Curve: {roc_auc_score(y_test_sm, y_pred)}')\n",
    "print('\\n')\n",
    "print(\"F1 score:\",metrics.f1_score(y_test_sm, y_pred))\n",
    "print(\"Recall:\",metrics.recall_score(y_test_sm, y_pred))\n",
    "print(\"Precision:\",metrics.precision_score(y_test_sm, y_pred))"
   ]
  },
  {
   "cell_type": "markdown",
   "metadata": {},
   "source": [
    "<b>The AUC for both Train and Test dataset that is on an balanced dataset is almost the same.\n",
    "\n",
    "- The Area Under Curve for Train Dataset - 0.946\n",
    "- The Area Under Curve for Test Dataset - 0.946\n",
    "    \n",
    "This means that the model is good.</b> "
   ]
  },
  {
   "cell_type": "markdown",
   "metadata": {},
   "source": [
    "### Model2: Decision Tree"
   ]
  },
  {
   "cell_type": "code",
   "execution_count": 205,
   "metadata": {},
   "outputs": [
    {
     "data": {
      "text/plain": [
       "DecisionTreeClassifier()"
      ]
     },
     "execution_count": 205,
     "metadata": {},
     "output_type": "execute_result"
    }
   ],
   "source": [
    "# Importing decision tree classifier from sklearn library\n",
    "from sklearn.tree import DecisionTreeClassifier \n",
    "\n",
    "dt_classifier = DecisionTreeClassifier()\n",
    "dt_classifier.fit(X_train_sm, y_train_sm)"
   ]
  },
  {
   "cell_type": "code",
   "execution_count": 206,
   "metadata": {},
   "outputs": [
    {
     "name": "stdout",
     "output_type": "stream",
     "text": [
      "              precision    recall  f1-score   support\n",
      "\n",
      "           0       1.00      1.00      1.00     85172\n",
      "           1       1.00      1.00      1.00     85417\n",
      "\n",
      "    accuracy                           1.00    170589\n",
      "   macro avg       1.00      1.00      1.00    170589\n",
      "weighted avg       1.00      1.00      1.00    170589\n",
      "\n"
     ]
    }
   ],
   "source": [
    "# Making predictions\n",
    "y_pred_dt = dt_classifier.predict(X_test_sm)\n",
    "\n",
    "# Printing classification report\n",
    "print(classification_report(y_test_sm, y_pred_dt))"
   ]
  },
  {
   "cell_type": "code",
   "execution_count": 207,
   "metadata": {},
   "outputs": [
    {
     "name": "stdout",
     "output_type": "stream",
     "text": [
      "[[84917   255]\n",
      " [  121 85296]]\n",
      "Accuracy Score:  0.9977958719495396\n"
     ]
    }
   ],
   "source": [
    "# Printing confusion matrix and accuracy\n",
    "print(confusion_matrix(y_test_sm,y_pred_dt))\n",
    "print(\"Accuracy Score: \", accuracy_score(y_test_sm,y_pred_dt))"
   ]
  },
  {
   "cell_type": "markdown",
   "metadata": {},
   "source": [
    "### Hyperparameter Tuning - Grid Search"
   ]
  },
  {
   "cell_type": "code",
   "execution_count": 208,
   "metadata": {},
   "outputs": [
    {
     "name": "stdout",
     "output_type": "stream",
     "text": [
      "Fitting 5 folds for each of 16 candidates, totalling 80 fits\n"
     ]
    },
    {
     "name": "stderr",
     "output_type": "stream",
     "text": [
      "[Parallel(n_jobs=1)]: Using backend SequentialBackend with 1 concurrent workers.\n",
      "[Parallel(n_jobs=1)]: Done  80 out of  80 | elapsed:  5.1min finished\n"
     ]
    },
    {
     "data": {
      "text/plain": [
       "GridSearchCV(cv=StratifiedKFold(n_splits=5, random_state=None, shuffle=True),\n",
       "             estimator=DecisionTreeClassifier(),\n",
       "             param_grid={'criterion': ['entropy', 'gini'], 'max_depth': [2, 3],\n",
       "                         'min_samples_leaf': [5, 6],\n",
       "                         'min_samples_split': [5, 6]},\n",
       "             verbose=1)"
      ]
     },
     "execution_count": 208,
     "metadata": {},
     "output_type": "execute_result"
    }
   ],
   "source": [
    "# Create the parameter grid \n",
    "param_grid = {\n",
    "    'max_depth': list(range(2,4,1)),\n",
    "    'min_samples_leaf': list(range(5,7,1)),\n",
    "    'min_samples_split': list(range(5,7,1)),\n",
    "    'criterion': [\"entropy\", \"gini\"]\n",
    "}\n",
    "\n",
    "\n",
    "# create 5 folds\n",
    "n_folds = StratifiedKFold(n_splits = 5, shuffle = True)\n",
    "\n",
    "# Instantiate the grid search model\n",
    "dtree = DecisionTreeClassifier()\n",
    "dtree_gridsearch = GridSearchCV(estimator = dtree, param_grid = param_grid, cv = n_folds, verbose = 1)\n",
    "\n",
    "# Fit the grid search to the data\n",
    "dtree_gridsearch.fit(X_train_sm,y_train_sm)"
   ]
  },
  {
   "cell_type": "code",
   "execution_count": 209,
   "metadata": {},
   "outputs": [
    {
     "name": "stdout",
     "output_type": "stream",
     "text": [
      "The best parameters for using this model is DecisionTreeClassifier(max_depth=3, min_samples_leaf=5, min_samples_split=5)\n",
      "best accuracy 0.935235312719042\n"
     ]
    }
   ],
   "source": [
    "# Checking for the best parameters\n",
    "best_parameters = dtree_gridsearch.best_estimator_\n",
    "print('The best parameters for using this model is', best_parameters)\n",
    "print(\"best accuracy\", dtree_gridsearch.best_score_)"
   ]
  },
  {
   "cell_type": "markdown",
   "metadata": {},
   "source": [
    "### Running the model with best parameters obtained from grid search"
   ]
  },
  {
   "cell_type": "code",
   "execution_count": 210,
   "metadata": {},
   "outputs": [
    {
     "data": {
      "text/plain": [
       "DecisionTreeClassifier(criterion='entropy', max_depth=3, min_samples_leaf=5,\n",
       "                       min_samples_split=5)"
      ]
     },
     "execution_count": 210,
     "metadata": {},
     "output_type": "execute_result"
    }
   ],
   "source": [
    "# model with optimal hyperparameters\n",
    "dt_Classifier_entropy = DecisionTreeClassifier(criterion = \"entropy\", \n",
    "                                  max_depth=3, \n",
    "                                  min_samples_leaf=5,\n",
    "                                  min_samples_split=5)\n",
    "dt_Classifier_entropy.fit(X_train_sm, y_train_sm)"
   ]
  },
  {
   "cell_type": "markdown",
   "metadata": {},
   "source": [
    "### Predicting the Train Dataset results and calculating the accuracy"
   ]
  },
  {
   "cell_type": "code",
   "execution_count": 211,
   "metadata": {},
   "outputs": [],
   "source": [
    "y_pred_train = dt_Classifier_entropy.predict(X_train_sm)"
   ]
  },
  {
   "cell_type": "markdown",
   "metadata": {},
   "source": [
    "### Checking for Performance - Accuracy, Confusion Matrix & AUC"
   ]
  },
  {
   "cell_type": "code",
   "execution_count": 212,
   "metadata": {},
   "outputs": [
    {
     "name": "stdout",
     "output_type": "stream",
     "text": [
      "Classification Report: \n",
      "               precision    recall  f1-score   support\n",
      "\n",
      "           0       0.91      0.95      0.93    199143\n",
      "           1       0.95      0.91      0.93    198898\n",
      "\n",
      "    accuracy                           0.93    398041\n",
      "   macro avg       0.93      0.93      0.93    398041\n",
      "weighted avg       0.93      0.93      0.93    398041\n",
      "\n"
     ]
    }
   ],
   "source": [
    "print(\"Classification Report: \\n\", classification_report(y_train_sm, y_pred_train))"
   ]
  },
  {
   "cell_type": "code",
   "execution_count": 213,
   "metadata": {},
   "outputs": [
    {
     "name": "stdout",
     "output_type": "stream",
     "text": [
      "Accuracy Score: 0.9284219464829\n",
      "Confusion Matrix: \n",
      "[[188644  10499]\n",
      " [ 17992 180906]]\n",
      "Area Under Curve: 0.9284103324888345\n",
      "\n",
      "\n",
      "F1 score: 0.9270028670033282\n",
      "Recall: 0.9095415740731431\n",
      "Precision: 0.9451477234137039\n"
     ]
    }
   ],
   "source": [
    "# Performance\n",
    "print(f'Accuracy Score: {accuracy_score(y_train_sm,y_pred_train)}')\n",
    "print(f'Confusion Matrix: \\n{confusion_matrix(y_train_sm, y_pred_train)}')\n",
    "print(f'Area Under Curve: {roc_auc_score(y_train_sm, y_pred_train)}')\n",
    "print('\\n')\n",
    "print('F1 score:', metrics.f1_score(y_train_sm, y_pred_train))\n",
    "print(\"Recall:\",metrics.recall_score(y_train_sm, y_pred_train))\n",
    "print(\"Precision:\",metrics.precision_score(y_train_sm, y_pred_train))"
   ]
  },
  {
   "cell_type": "markdown",
   "metadata": {},
   "source": [
    "### Predicting the Test Dataset results and calculating the accuracy"
   ]
  },
  {
   "cell_type": "code",
   "execution_count": 214,
   "metadata": {},
   "outputs": [],
   "source": [
    "y_pred_test = dt_Classifier_entropy.predict(X_test_sm)"
   ]
  },
  {
   "cell_type": "markdown",
   "metadata": {},
   "source": [
    "### Checking for Performance - Accuracy, Confusion Matrix & AUC"
   ]
  },
  {
   "cell_type": "code",
   "execution_count": 215,
   "metadata": {},
   "outputs": [
    {
     "name": "stdout",
     "output_type": "stream",
     "text": [
      "              precision    recall  f1-score   support\n",
      "\n",
      "           0       0.91      0.95      0.93     85172\n",
      "           1       0.95      0.91      0.93     85417\n",
      "\n",
      "    accuracy                           0.93    170589\n",
      "   macro avg       0.93      0.93      0.93    170589\n",
      "weighted avg       0.93      0.93      0.93    170589\n",
      "\n"
     ]
    }
   ],
   "source": [
    "print(classification_report(y_test_sm, y_pred_test))"
   ]
  },
  {
   "cell_type": "code",
   "execution_count": 216,
   "metadata": {},
   "outputs": [
    {
     "name": "stdout",
     "output_type": "stream",
     "text": [
      "Accuracy Score: 0.9288523879030887\n",
      "Confusion Matrix: \n",
      "[[80696  4476]\n",
      " [ 7661 77756]]\n",
      "Area Under Curve: 0.9288790559367638\n",
      "\n",
      "\n",
      "F1 score: 0.9276046979105155\n",
      "Recall: 0.9103105939098775\n",
      "Precision: 0.9455686350812336\n"
     ]
    }
   ],
   "source": [
    "# Performance\n",
    "print(f'Accuracy Score: {accuracy_score(y_test_sm, y_pred_test)}')\n",
    "print(f'Confusion Matrix: \\n{confusion_matrix(y_test_sm, y_pred_test)}')\n",
    "print(f'Area Under Curve: {roc_auc_score(y_test_sm, y_pred_test)}')\n",
    "print('\\n')\n",
    "print('F1 score:', metrics.f1_score(y_test_sm, y_pred_test))\n",
    "print(\"Recall:\",metrics.recall_score(y_test_sm, y_pred_test))\n",
    "print(\"Precision:\",metrics.precision_score(y_test_sm, y_pred_test))"
   ]
  },
  {
   "cell_type": "markdown",
   "metadata": {},
   "source": [
    "<b>The AUC for both Train and Test dataset that is on an balanced dataset are the same.\n",
    "\n",
    "- The Area Under Curve for Train Dataset - 0.928\n",
    "- The Area Under Curve for Test Dataset - 0.928\n",
    "\n",
    "This means that the model is good.</b>"
   ]
  },
  {
   "cell_type": "markdown",
   "metadata": {},
   "source": [
    "### Model3: Random Forest"
   ]
  },
  {
   "cell_type": "code",
   "execution_count": 217,
   "metadata": {},
   "outputs": [
    {
     "data": {
      "text/plain": [
       "RandomForestClassifier()"
      ]
     },
     "execution_count": 217,
     "metadata": {},
     "output_type": "execute_result"
    }
   ],
   "source": [
    "# Importing random forest classifier from sklearn library\n",
    "from sklearn.ensemble import RandomForestClassifier\n",
    "\n",
    "# Running the random forest with default parameters.\n",
    "rfc = RandomForestClassifier()\n",
    "\n",
    "# fit\n",
    "rfc.fit(X_train_sm,y_train_sm)"
   ]
  },
  {
   "cell_type": "code",
   "execution_count": 218,
   "metadata": {},
   "outputs": [
    {
     "name": "stdout",
     "output_type": "stream",
     "text": [
      "              precision    recall  f1-score   support\n",
      "\n",
      "           0       1.00      1.00      1.00     85172\n",
      "           1       1.00      1.00      1.00     85417\n",
      "\n",
      "    accuracy                           1.00    170589\n",
      "   macro avg       1.00      1.00      1.00    170589\n",
      "weighted avg       1.00      1.00      1.00    170589\n",
      "\n"
     ]
    }
   ],
   "source": [
    "# Making predictions\n",
    "y_pred_rf = rfc.predict(X_test_sm)\n",
    "\n",
    "# Let's check the report of our default model\n",
    "print(classification_report(y_test_sm, y_pred_rf))"
   ]
  },
  {
   "cell_type": "code",
   "execution_count": 219,
   "metadata": {},
   "outputs": [
    {
     "name": "stdout",
     "output_type": "stream",
     "text": [
      "[[85154    18]\n",
      " [    0 85417]]\n",
      "Accuracy Score:  0.9998944832316269\n"
     ]
    }
   ],
   "source": [
    "# Printing confusion matrix and accuracy\n",
    "print(confusion_matrix(y_test_sm,y_pred_rf))\n",
    "print(\"Accuracy Score: \", accuracy_score(y_test_sm,y_pred_rf))"
   ]
  },
  {
   "cell_type": "markdown",
   "metadata": {},
   "source": [
    "### Hyperparameter Tuning - Grid Search"
   ]
  },
  {
   "cell_type": "code",
   "execution_count": 220,
   "metadata": {},
   "outputs": [
    {
     "name": "stdout",
     "output_type": "stream",
     "text": [
      "Fitting 10 folds for each of 36 candidates, totalling 360 fits\n"
     ]
    },
    {
     "name": "stderr",
     "output_type": "stream",
     "text": [
      "[Parallel(n_jobs=-1)]: Using backend LokyBackend with 8 concurrent workers.\n",
      "[Parallel(n_jobs=-1)]: Done  34 tasks      | elapsed:  3.4min\n",
      "[Parallel(n_jobs=-1)]: Done 184 tasks      | elapsed: 24.3min\n",
      "[Parallel(n_jobs=-1)]: Done 360 out of 360 | elapsed: 50.2min finished\n"
     ]
    },
    {
     "data": {
      "text/plain": [
       "GridSearchCV(cv=10, estimator=RandomForestClassifier(random_state=42),\n",
       "             n_jobs=-1,\n",
       "             param_grid={'criterion': ['gini', 'entropy'],\n",
       "                         'max_depth': [5, 10, 20],\n",
       "                         'max_features': ['auto', 'sqrt', 'log2'],\n",
       "                         'n_estimators': [10, 25]},\n",
       "             verbose=1)"
      ]
     },
     "execution_count": 220,
     "metadata": {},
     "output_type": "execute_result"
    }
   ],
   "source": [
    "# Create a based model\n",
    "rf = RandomForestClassifier(random_state=42)\n",
    "\n",
    "# Create the parameter grid based on the results of random search \n",
    "param_grid = { \n",
    "    'n_estimators': [10, 25],\n",
    "    'max_features': ['auto', 'sqrt', 'log2'],\n",
    "    'max_depth' : [5,10,20],\n",
    "    'criterion' :['gini', 'entropy']\n",
    "}\n",
    "\n",
    "# Instantiate the grid search model\n",
    "rf_gridSearch = GridSearchCV(estimator = rf, param_grid = param_grid, cv = 5 ,n_jobs = -1,verbose = 1)\n",
    "\n",
    "# Fit the grid search to the data\n",
    "rf_gridSearch.fit(X_train_sm,y_train_sm)"
   ]
  },
  {
   "cell_type": "code",
   "execution_count": 221,
   "metadata": {},
   "outputs": [
    {
     "name": "stdout",
     "output_type": "stream",
     "text": [
      "The best parameters for using this model is {'criterion': 'entropy', 'max_depth': 20, 'max_features': 'auto', 'n_estimators': 25}\n",
      "Accuracy 0.9998166020408682\n"
     ]
    }
   ],
   "source": [
    "# Checking for the best parameters\n",
    "best_parameters = rf_gridSearch.best_params_\n",
    "print('The best parameters for using this model is', best_parameters)\n",
    "print(\"Accuracy\", rf_gridSearch.best_score_)"
   ]
  },
  {
   "cell_type": "markdown",
   "metadata": {},
   "source": [
    "### Running the model with best parameters obtained from grid search"
   ]
  },
  {
   "cell_type": "code",
   "execution_count": 222,
   "metadata": {},
   "outputs": [
    {
     "data": {
      "text/plain": [
       "RandomForestClassifier(criterion='entropy', max_depth=20, n_estimators=25)"
      ]
     },
     "execution_count": 222,
     "metadata": {},
     "output_type": "execute_result"
    }
   ],
   "source": [
    "rfc=RandomForestClassifier(max_features='auto', n_estimators= 25, max_depth=20, criterion='entropy')\n",
    "#Fit the model\n",
    "rfc.fit(X_train_sm,y_train_sm)"
   ]
  },
  {
   "cell_type": "markdown",
   "metadata": {},
   "source": [
    "### Predicting the Train Dataset results and calculating the accuracy"
   ]
  },
  {
   "cell_type": "code",
   "execution_count": 223,
   "metadata": {},
   "outputs": [],
   "source": [
    "y_pred_train = rfc.predict(X_train_sm)"
   ]
  },
  {
   "cell_type": "markdown",
   "metadata": {},
   "source": [
    "### Checking for Performance - Accuracy, Confusion Matrix & AUC"
   ]
  },
  {
   "cell_type": "code",
   "execution_count": 224,
   "metadata": {},
   "outputs": [
    {
     "name": "stdout",
     "output_type": "stream",
     "text": [
      "              precision    recall  f1-score   support\n",
      "\n",
      "           0       1.00      1.00      1.00    199143\n",
      "           1       1.00      1.00      1.00    198898\n",
      "\n",
      "    accuracy                           1.00    398041\n",
      "   macro avg       1.00      1.00      1.00    398041\n",
      "weighted avg       1.00      1.00      1.00    398041\n",
      "\n"
     ]
    }
   ],
   "source": [
    "print(classification_report(y_train_sm, y_pred_train))"
   ]
  },
  {
   "cell_type": "code",
   "execution_count": 225,
   "metadata": {},
   "outputs": [
    {
     "name": "stdout",
     "output_type": "stream",
     "text": [
      "Accuracy Score: 0.9999598031358579\n",
      "Confusion Matrix: \n",
      "[[199127     16]\n",
      " [     0 198898]]\n",
      "Area Under Curve: 0.9999598278623903\n",
      "\n",
      "\n",
      "F1 score: 0.9999597799965813\n",
      "Recall: 1.0\n",
      "Precision: 0.9999195632283299\n"
     ]
    }
   ],
   "source": [
    "# Performance\n",
    "print(f'Accuracy Score: {accuracy_score(y_train_sm, y_pred_train)}')\n",
    "print(f'Confusion Matrix: \\n{confusion_matrix(y_train_sm, y_pred_train)}')\n",
    "print(f'Area Under Curve: {roc_auc_score(y_train_sm, y_pred_train)}')\n",
    "print('\\n')\n",
    "print('F1 score:', metrics.f1_score(y_train_sm, y_pred_train))\n",
    "print(\"Recall:\",metrics.recall_score(y_train_sm, y_pred_train))\n",
    "print(\"Precision:\",metrics.precision_score(y_train_sm, y_pred_train))"
   ]
  },
  {
   "cell_type": "markdown",
   "metadata": {},
   "source": [
    "### Predicting the Test Dataset results and calculating the accuracy"
   ]
  },
  {
   "cell_type": "code",
   "execution_count": 226,
   "metadata": {},
   "outputs": [],
   "source": [
    "y_pred_test = rfc.predict(X_test_sm)"
   ]
  },
  {
   "cell_type": "markdown",
   "metadata": {},
   "source": [
    "### Checking for Performance - Accuracy, Confusion Matrix & AUC"
   ]
  },
  {
   "cell_type": "code",
   "execution_count": 227,
   "metadata": {},
   "outputs": [
    {
     "name": "stdout",
     "output_type": "stream",
     "text": [
      "              precision    recall  f1-score   support\n",
      "\n",
      "           0       1.00      1.00      1.00     85172\n",
      "           1       1.00      1.00      1.00     85417\n",
      "\n",
      "    accuracy                           1.00    170589\n",
      "   macro avg       1.00      1.00      1.00    170589\n",
      "weighted avg       1.00      1.00      1.00    170589\n",
      "\n"
     ]
    }
   ],
   "source": [
    "print(classification_report(y_test_sm, y_pred_test))"
   ]
  },
  {
   "cell_type": "code",
   "execution_count": 228,
   "metadata": {},
   "outputs": [
    {
     "name": "stdout",
     "output_type": "stream",
     "text": [
      "Accuracy Score: 0.9997831044205664\n",
      "Confusion Matrix: \n",
      "[[85135    37]\n",
      " [    0 85417]]\n",
      "Area Under Curve: 0.999782792467008\n",
      "\n",
      "\n",
      "F1 score: 0.9997834623780513\n",
      "Recall: 1.0\n",
      "Precision: 0.9995670185128841\n"
     ]
    }
   ],
   "source": [
    "# Performance\n",
    "print(f'Accuracy Score: {accuracy_score(y_test_sm, y_pred_test)}')\n",
    "print(f'Confusion Matrix: \\n{confusion_matrix(y_test_sm, y_pred_test)}')\n",
    "print(f'Area Under Curve: {roc_auc_score(y_test_sm, y_pred_test)}')\n",
    "print('\\n')\n",
    "print('F1 score:', metrics.f1_score(y_test_sm, y_pred_test))\n",
    "print(\"Recall:\",metrics.recall_score(y_test_sm, y_pred_test))\n",
    "print(\"Precision:\",metrics.precision_score(y_test_sm, y_pred_test))"
   ]
  },
  {
   "cell_type": "markdown",
   "metadata": {},
   "source": [
    "<b>The AUC for both Train and Test dataset that is on balanced dataset is the same\n",
    "\n",
    "- The Area Under Curve for Train Dataset - 0.999\n",
    "- The Area Under Curve for Test Dataset - 0.999</b>"
   ]
  },
  {
   "cell_type": "markdown",
   "metadata": {},
   "source": [
    "### Model4: XGBoost"
   ]
  },
  {
   "cell_type": "code",
   "execution_count": 229,
   "metadata": {},
   "outputs": [
    {
     "name": "stdout",
     "output_type": "stream",
     "text": [
      "AUC: 0.998 (0.000)\n"
     ]
    }
   ],
   "source": [
    "# Importing XGBoost Classifier library\n",
    "from xgboost import XGBClassifier\n",
    "\n",
    "XGB = XGBClassifier()\n",
    "\n",
    "kfold = StratifiedKFold(n_splits=3, random_state=42)\n",
    "\n",
    "# use area under the precision-recall curve to show classification accuracy\n",
    "scoring = 'roc_auc'\n",
    "results = cross_val_score(XGB, X_train_sm, y_train_sm, cv=kfold, scoring = scoring)\n",
    "print(\"AUC: %.3f (%.3f)\" % (results.mean(), results.std()))"
   ]
  },
  {
   "cell_type": "markdown",
   "metadata": {},
   "source": [
    "### Hyperparameter Tuning - Grid Search"
   ]
  },
  {
   "cell_type": "code",
   "execution_count": 230,
   "metadata": {},
   "outputs": [
    {
     "name": "stdout",
     "output_type": "stream",
     "text": [
      "Fitting 5 folds for each of 540 candidates, totalling 2700 fits\n"
     ]
    },
    {
     "name": "stderr",
     "output_type": "stream",
     "text": [
      "[Parallel(n_jobs=-1)]: Using backend LokyBackend with 8 concurrent workers.\n",
      "[Parallel(n_jobs=-1)]: Done  34 tasks      | elapsed:   53.4s\n",
      "[Parallel(n_jobs=-1)]: Done 184 tasks      | elapsed:  5.3min\n",
      "[Parallel(n_jobs=-1)]: Done 434 tasks      | elapsed: 12.6min\n",
      "[Parallel(n_jobs=-1)]: Done 784 tasks      | elapsed: 22.5min\n",
      "[Parallel(n_jobs=-1)]: Done 1234 tasks      | elapsed: 102.3min\n",
      "[Parallel(n_jobs=-1)]: Done 1784 tasks      | elapsed: 129.4min\n",
      "[Parallel(n_jobs=-1)]: Done 2434 tasks      | elapsed: 173.8min\n",
      "[Parallel(n_jobs=-1)]: Done 2700 out of 2700 | elapsed: 190.3min finished\n"
     ]
    },
    {
     "data": {
      "text/plain": [
       "GridSearchCV(cv=StratifiedKFold(n_splits=5, random_state=0, shuffle=True),\n",
       "             estimator=XGBClassifier(), n_jobs=-1,\n",
       "             param_grid={'colsample_bytree': [0.3, 0.5, 0.7],\n",
       "                         'gamma': [0, 0.2, 0.3],\n",
       "                         'learning_rate': [0.05, 0.1, 0.2, 0.3],\n",
       "                         'max_depth': range(1, 11, 2),\n",
       "                         'min_child_weight': [1, 3, 5], 'n_estimators': [10]},\n",
       "             scoring='roc_auc', verbose=1)"
      ]
     },
     "execution_count": 230,
     "metadata": {},
     "output_type": "execute_result"
    }
   ],
   "source": [
    "# Create a based model\n",
    "xgb_model = XGBClassifier()\n",
    "\n",
    "# Create the parameter grid based on the results of random search \n",
    "param_tuning = {\n",
    "    'learning_rate': [0.05, 0.1,0.2,0.3],\n",
    "    'max_depth': range(1, 11, 2),\n",
    "    'colsample_bytree': [0.3,0.5, 0.7],\n",
    "    'gamma': [0,0.2,0.3],\n",
    "    'min_child_weight' : [1,3,5],\n",
    "    'n_estimators' : [10]\n",
    "    }\n",
    "\n",
    "folds = StratifiedKFold(n_splits =5, shuffle = True, random_state = 0)\n",
    "\n",
    "# Instantiate the grid search model\n",
    "xgb_gsearch = GridSearchCV(estimator = xgb_model,param_grid = param_tuning, scoring= 'roc_auc', cv = folds, n_jobs = -1, verbose = 1)\n",
    "\n",
    "# Fit the grid search to the data\n",
    "xgb_gsearch.fit(X_train_sm,y_train_sm)"
   ]
  },
  {
   "cell_type": "code",
   "execution_count": 231,
   "metadata": {},
   "outputs": [
    {
     "name": "stdout",
     "output_type": "stream",
     "text": [
      "Best AUC: 0.999808 using {'colsample_bytree': 0.7, 'gamma': 0.3, 'learning_rate': 0.3, 'max_depth': 9, 'min_child_weight': 1, 'n_estimators': 10}\n"
     ]
    }
   ],
   "source": [
    "# summarize results\n",
    "print(\"Best AUC: %f using %s\" % (xgb_gsearch.best_score_, xgb_gsearch.best_params_))"
   ]
  },
  {
   "cell_type": "markdown",
   "metadata": {},
   "source": [
    "### Running the model with best parameters obtained from grid search"
   ]
  },
  {
   "cell_type": "code",
   "execution_count": 232,
   "metadata": {},
   "outputs": [
    {
     "data": {
      "text/plain": [
       "XGBClassifier(colsample_bytree=0.7, gamma=0.3, learning_rate=0.3, max_depth=9,\n",
       "              n_estimators=10)"
      ]
     },
     "execution_count": 232,
     "metadata": {},
     "output_type": "execute_result"
    }
   ],
   "source": [
    "XGB_model = XGBClassifier(colsample_bytree = 0.7, gamma =0.3, \n",
    "                          learning_rate = 0.3, max_depth = 9, \n",
    "                          min_child_weight =1, n_estimators = 10)\n",
    "#Fit the model\n",
    "XGB_model.fit(X_train_sm,y_train_sm)"
   ]
  },
  {
   "cell_type": "markdown",
   "metadata": {},
   "source": [
    "### Predicting the Train Dataset results and calculating the accuracy"
   ]
  },
  {
   "cell_type": "code",
   "execution_count": 233,
   "metadata": {},
   "outputs": [],
   "source": [
    "y_pred_train = XGB_model.predict(X_train_sm)"
   ]
  },
  {
   "cell_type": "markdown",
   "metadata": {},
   "source": [
    "### Checking for Performance - Accuracy, Confusion Matrix & AUC"
   ]
  },
  {
   "cell_type": "code",
   "execution_count": 234,
   "metadata": {},
   "outputs": [
    {
     "name": "stdout",
     "output_type": "stream",
     "text": [
      "              precision    recall  f1-score   support\n",
      "\n",
      "           0       1.00      1.00      1.00    199143\n",
      "           1       1.00      1.00      1.00    198898\n",
      "\n",
      "    accuracy                           1.00    398041\n",
      "   macro avg       1.00      1.00      1.00    398041\n",
      "weighted avg       1.00      1.00      1.00    398041\n",
      "\n"
     ]
    }
   ],
   "source": [
    "print(classification_report(y_train_sm, y_pred_train))"
   ]
  },
  {
   "cell_type": "code",
   "execution_count": 235,
   "metadata": {},
   "outputs": [
    {
     "name": "stdout",
     "output_type": "stream",
     "text": [
      "Accuracy Score: 0.9971535595579349\n",
      "Confusion Matrix: \n",
      "[[198652    491]\n",
      " [   642 198256]]\n",
      "Area Under Curve: 0.9971533249791643\n",
      "\n",
      "\n",
      "F1 score: 0.9971507248928064\n",
      "Recall: 0.9967722149041217\n",
      "Precision: 0.9975295224582006\n"
     ]
    }
   ],
   "source": [
    "# Performance\n",
    "print(f'Accuracy Score: {accuracy_score(y_train_sm, y_pred_train)}')\n",
    "print(f'Confusion Matrix: \\n{confusion_matrix(y_train_sm, y_pred_train)}')\n",
    "print(f'Area Under Curve: {roc_auc_score(y_train_sm, y_pred_train)}')\n",
    "print('\\n')\n",
    "print('F1 score:', metrics.f1_score(y_train_sm, y_pred_train))\n",
    "print(\"Recall:\",metrics.recall_score(y_train_sm, y_pred_train))\n",
    "print(\"Precision:\",metrics.precision_score(y_train_sm, y_pred_train))"
   ]
  },
  {
   "cell_type": "markdown",
   "metadata": {},
   "source": [
    "### Predicting the Test Dataset results and calculating the accuracy"
   ]
  },
  {
   "cell_type": "code",
   "execution_count": 236,
   "metadata": {},
   "outputs": [],
   "source": [
    "y_pred_test = XGB_model.predict(X_test_sm)"
   ]
  },
  {
   "cell_type": "markdown",
   "metadata": {},
   "source": [
    "### Checking for Performance - Accuracy, Confusion Matrix & AUC"
   ]
  },
  {
   "cell_type": "code",
   "execution_count": 237,
   "metadata": {},
   "outputs": [
    {
     "name": "stdout",
     "output_type": "stream",
     "text": [
      "              precision    recall  f1-score   support\n",
      "\n",
      "           0       1.00      1.00      1.00     85172\n",
      "           1       1.00      1.00      1.00     85417\n",
      "\n",
      "    accuracy                           1.00    170589\n",
      "   macro avg       1.00      1.00      1.00    170589\n",
      "weighted avg       1.00      1.00      1.00    170589\n",
      "\n"
     ]
    }
   ],
   "source": [
    "print(classification_report(y_test_sm, y_pred_test))"
   ]
  },
  {
   "cell_type": "code",
   "execution_count": 238,
   "metadata": {},
   "outputs": [
    {
     "name": "stdout",
     "output_type": "stream",
     "text": [
      "Accuracy Score: 0.996600015241311\n",
      "Confusion Matrix: \n",
      "[[84903   269]\n",
      " [  311 85106]]\n",
      "Area Under Curve: 0.996600361829846\n",
      "\n",
      "\n",
      "F1 score: 0.9966040563960841\n",
      "Recall: 0.9963590385988738\n",
      "Precision: 0.9968491947291361\n"
     ]
    }
   ],
   "source": [
    "# Performance\n",
    "print(f'Accuracy Score: {accuracy_score(y_test_sm, y_pred_test)}')\n",
    "print(f'Confusion Matrix: \\n{confusion_matrix(y_test_sm, y_pred_test)}')\n",
    "print(f'Area Under Curve: {roc_auc_score(y_test_sm, y_pred_test)}')\n",
    "print('\\n')\n",
    "print('F1 score:', metrics.f1_score(y_test_sm, y_pred_test))\n",
    "print(\"Recall:\",metrics.recall_score(y_test_sm, y_pred_test))\n",
    "print(\"Precision:\",metrics.precision_score(y_test_sm, y_pred_test))"
   ]
  },
  {
   "cell_type": "markdown",
   "metadata": {},
   "source": [
    "<b>The AUC for both Train and Test dataset that is on balanced dataset looks almost same.\n",
    "\n",
    "- The Area Under Curve for Train Dataset - 0.997 \n",
    "- The Area Under Curve for Test Dataset - 0.996 </b>"
   ]
  },
  {
   "cell_type": "markdown",
   "metadata": {},
   "source": [
    "## Selecting the best model based on Performance Matric"
   ]
  },
  {
   "cell_type": "markdown",
   "metadata": {},
   "source": [
    "#### Dataframe to capture performance matrix for train and test dataset for each model"
   ]
  },
  {
   "cell_type": "code",
   "execution_count": 239,
   "metadata": {},
   "outputs": [],
   "source": [
    "names_lst = []\n",
    "\n",
    "# Empty list to capture performance matrix for train set\n",
    "aucs_train_lst = []\n",
    "accuracy_train_lst = []\n",
    "precision_train_lst = []\n",
    "recall_train_lst = []\n",
    "f1_train_lst = []\n",
    "\n",
    "# Empty list to capture performance matrix for test set\n",
    "aucs_test_lst = []\n",
    "accuracy_test_lst = []\n",
    "precision_test_lst = []\n",
    "recall_test_lst = []\n",
    "f1_test_lst = []\n",
    "\n",
    "# Function for model building and performance measure\n",
    "\n",
    "def build_measure_model(models):\n",
    "    \n",
    "    for name, model,Xdata,ydata in models:\n",
    "        \n",
    "        names_lst.append(name)\n",
    "\n",
    "        # split data in train test set\n",
    "        X_train, X_test, y_train, y_test = train_test_split(Xdata, ydata, test_size=0.3, shuffle=True, random_state=0)\n",
    "        \n",
    "        # Build model\n",
    "        model.fit(X_train, y_train)\n",
    "        \n",
    "        # Predict\n",
    "        y_train_pred = model.predict(X_train)\n",
    "        y_test_pred = model.predict(X_test)\n",
    "\n",
    "        # calculate accuracy\n",
    "        Accuracy_train = metrics.accuracy_score(y_train, y_train_pred)\n",
    "        accuracy_train_lst.append(Accuracy_train)\n",
    "        \n",
    "        Accuracy_test = metrics.accuracy_score(y_test, y_test_pred)\n",
    "        accuracy_test_lst.append(Accuracy_test)\n",
    "\n",
    "        # calculate auc\n",
    "        Aucs_train = metrics.roc_auc_score(y_train, y_train_pred)\n",
    "        aucs_train_lst.append(Aucs_train)\n",
    "        \n",
    "        Aucs_test = metrics.roc_auc_score(y_test , y_test_pred)\n",
    "        aucs_test_lst.append(Aucs_test)\n",
    "\n",
    "        # calculate precision\n",
    "        PrecisionScore_train = metrics.precision_score(y_train , y_train_pred)\n",
    "        precision_train_lst.append(PrecisionScore_train)\n",
    "        \n",
    "        PrecisionScore_test = metrics.precision_score(y_test , y_test_pred)\n",
    "        precision_test_lst.append(PrecisionScore_test)\n",
    "\n",
    "        # calculate recall\n",
    "        RecallScore_train = metrics.recall_score(y_train , y_train_pred)\n",
    "        recall_train_lst.append(RecallScore_train)\n",
    "        \n",
    "        RecallScore_test = metrics.recall_score(y_test , y_test_pred)\n",
    "        recall_test_lst.append(RecallScore_test)\n",
    "\n",
    "        # calculate f1 score\n",
    "        F1Score_train = metrics.f1_score(y_train , y_train_pred)\n",
    "        f1_train_lst.append(F1Score_train)\n",
    "        \n",
    "        F1Score_test = metrics.f1_score(y_test , y_test_pred)\n",
    "        f1_test_lst.append(F1Score_test)\n",
    "\n",
    "        #print('F1 Score of '+ name +' model : {0:0.5f}'.format(F1Score_test))\n",
    "\n",
    "        # draw confusion matrix\n",
    "        cnf_matrix = metrics.confusion_matrix(y_test , y_test_pred)\n",
    "\n",
    "        print(\"Model Name :\", name)\n",
    "        \n",
    "        print('Train Accuracy :{0:0.5f}'.format(Accuracy_train)) \n",
    "        print('Test Accuracy :{0:0.5f}'.format(Accuracy_test))\n",
    "        \n",
    "        print('Train AUC : {0:0.5f}'.format(Aucs_train))\n",
    "        print('Test AUC : {0:0.5f}'.format(Aucs_test))\n",
    "        \n",
    "        print('Train Precision : {0:0.5f}'.format(PrecisionScore_train))\n",
    "        print('Test Precision : {0:0.5f}'.format(PrecisionScore_test))\n",
    "        \n",
    "        print('Train Recall : {0:0.5f}'.format(RecallScore_train))\n",
    "        print('Test Recall : {0:0.5f}'.format(RecallScore_test))\n",
    "        \n",
    "        print('Train F1 : {0:0.5f}'.format(F1Score_train))\n",
    "        print('Test F1 : {0:0.5f}'.format(F1Score_test))\n",
    "        \n",
    "        print('Confusion Matrix : \\n', cnf_matrix)\n",
    "        print(\"\\n\")\n"
   ]
  },
  {
   "cell_type": "markdown",
   "metadata": {},
   "source": [
    "### Logistic Regression performance Metrics"
   ]
  },
  {
   "cell_type": "code",
   "execution_count": 240,
   "metadata": {},
   "outputs": [
    {
     "name": "stdout",
     "output_type": "stream",
     "text": [
      "Model Name : LR-imbalance\n",
      "Train Accuracy :0.99920\n",
      "Test Accuracy :0.99920\n",
      "Train AUC : 0.81007\n",
      "Test AUC : 0.80945\n",
      "Train Precision : 0.88066\n",
      "Test Precision : 0.88350\n",
      "Train Recall : 0.62029\n",
      "Test Recall : 0.61905\n",
      "Train F1 : 0.72789\n",
      "Test F1 : 0.72800\n",
      "Confusion Matrix : \n",
      " [[85284    12]\n",
      " [   56    91]]\n",
      "\n",
      "\n",
      "Model Name : LR-Undersampling\n",
      "Train Accuracy :0.95203\n",
      "Test Accuracy :0.94257\n",
      "Train AUC : 0.95196\n",
      "Test AUC : 0.94282\n",
      "Train Precision : 0.97546\n",
      "Test Precision : 0.97826\n",
      "Train Recall : 0.92711\n",
      "Test Recall : 0.90604\n",
      "Train F1 : 0.95067\n",
      "Test F1 : 0.94077\n",
      "Confusion Matrix : \n",
      " [[144   3]\n",
      " [ 14 135]]\n",
      "\n",
      "\n",
      "Model Name : LR-Oversampling\n",
      "Train Accuracy :0.94917\n",
      "Test Accuracy :0.94835\n",
      "Train AUC : 0.94915\n",
      "Test AUC : 0.94839\n",
      "Train Precision : 0.97589\n",
      "Test Precision : 0.97486\n",
      "Train Recall : 0.92102\n",
      "Test Recall : 0.92059\n",
      "Train F1 : 0.94766\n",
      "Test F1 : 0.94695\n",
      "Confusion Matrix : \n",
      " [[83144  2028]\n",
      " [ 6783 78634]]\n",
      "\n",
      "\n",
      "Model Name : LR-SMOTE\n",
      "Train Accuracy :0.94611\n",
      "Test Accuracy :0.94624\n",
      "Train AUC : 0.94609\n",
      "Test AUC : 0.94628\n",
      "Train Precision : 0.97408\n",
      "Test Precision : 0.97324\n",
      "Train Recall : 0.91654\n",
      "Test Recall : 0.91787\n",
      "Train F1 : 0.94443\n",
      "Test F1 : 0.94474\n",
      "Confusion Matrix : \n",
      " [[83016  2156]\n",
      " [ 7015 78402]]\n",
      "\n",
      "\n"
     ]
    }
   ],
   "source": [
    "LRmodels = []\n",
    "\n",
    "#model built with Hyperparameter tuning\n",
    "LRi = LogisticRegression(solver='liblinear',C = 1.1, penalty = 'l2')\n",
    "LRu = LogisticRegression(solver='liblinear',C = 0.05, penalty = 'l2')\n",
    "LRo = LogisticRegression(solver='liblinear',C = 1.1, penalty = 'l2')\n",
    "LRs = LogisticRegression(solver='liblinear',C = 2, penalty = 'l2')\n",
    "\n",
    "LRmodels.append(('LR-imbalance', LRi,X,y))\n",
    "LRmodels.append(('LR-Undersampling', LRu,X_rus, y_rus))\n",
    "LRmodels.append(('LR-Oversampling', LRo,X_ros,y_ros))\n",
    "LRmodels.append(('LR-SMOTE', LRs,X_smote, y_smote))\n",
    "\n",
    "# Call function to create model and measure its performance\n",
    "build_measure_model(LRmodels)"
   ]
  },
  {
   "cell_type": "markdown",
   "metadata": {},
   "source": [
    "### Decision Tree performance Metrics"
   ]
  },
  {
   "cell_type": "code",
   "execution_count": 241,
   "metadata": {},
   "outputs": [
    {
     "name": "stdout",
     "output_type": "stream",
     "text": [
      "Model Name : DT-imbalance\n",
      "Train Accuracy :0.99943\n",
      "Test Accuracy :0.99938\n",
      "Train AUC : 0.89989\n",
      "Test AUC : 0.88085\n",
      "Train Precision : 0.85981\n",
      "Test Precision : 0.86154\n",
      "Train Recall : 0.80000\n",
      "Test Recall : 0.76190\n",
      "Train F1 : 0.82883\n",
      "Test F1 : 0.80866\n",
      "Confusion Matrix : \n",
      " [[85278    18]\n",
      " [   35   112]]\n",
      "\n",
      "\n",
      "Model Name : DT-Undersampling\n",
      "Train Accuracy :0.94767\n",
      "Test Accuracy :0.92568\n",
      "Train AUC : 0.94754\n",
      "Test AUC : 0.92617\n",
      "Train Precision : 0.99357\n",
      "Test Precision : 1.00000\n",
      "Train Recall : 0.90087\n",
      "Test Recall : 0.85235\n",
      "Train F1 : 0.94495\n",
      "Test F1 : 0.92029\n",
      "Confusion Matrix : \n",
      " [[147   0]\n",
      " [ 22 127]]\n",
      "\n",
      "\n",
      "Model Name : DT-Oversampling\n",
      "Train Accuracy :0.92989\n",
      "Test Accuracy :0.92982\n",
      "Train AUC : 0.92985\n",
      "Test AUC : 0.92991\n",
      "Train Precision : 0.99499\n",
      "Test Precision : 0.99504\n",
      "Train Recall : 0.86404\n",
      "Test Recall : 0.86415\n",
      "Train F1 : 0.92490\n",
      "Test F1 : 0.92499\n",
      "Confusion Matrix : \n",
      " [[84804   368]\n",
      " [11604 73813]]\n",
      "\n",
      "\n",
      "Model Name : DT-SMOTE\n",
      "Train Accuracy :0.92842\n",
      "Test Accuracy :0.92885\n",
      "Train AUC : 0.92841\n",
      "Test AUC : 0.92888\n",
      "Train Precision : 0.94515\n",
      "Test Precision : 0.94557\n",
      "Train Recall : 0.90954\n",
      "Test Recall : 0.91031\n",
      "Train F1 : 0.92700\n",
      "Test F1 : 0.92760\n",
      "Confusion Matrix : \n",
      " [[80696  4476]\n",
      " [ 7661 77756]]\n",
      "\n",
      "\n"
     ]
    }
   ],
   "source": [
    "DTmodels = []\n",
    "\n",
    "#model built with Hyperparameter tuning\n",
    "DTi = DecisionTreeClassifier(criterion = \"entropy\", random_state = 100, max_depth=3, \n",
    "                                  min_samples_leaf=6, min_samples_split=5)\n",
    "DTu = DecisionTreeClassifier(criterion = \"entropy\", max_depth=3, \n",
    "                                  min_samples_leaf=5, min_samples_split=6)\n",
    "DTo = DecisionTreeClassifier(criterion = \"entropy\", max_depth=3, \n",
    "                                  min_samples_leaf=5, min_samples_split=5)\n",
    "DTs = DecisionTreeClassifier(criterion = \"entropy\", max_depth=3, \n",
    "                                  min_samples_leaf=5, min_samples_split=5)\n",
    "\n",
    "DTmodels.append(('DT-imbalance', DTi,X,y))\n",
    "DTmodels.append(('DT-Undersampling', DTu,X_rus, y_rus))\n",
    "DTmodels.append(('DT-Oversampling', DTo,X_ros, y_ros))\n",
    "DTmodels.append(('DT-SMOTE', DTs,X_smote, y_smote))\n",
    "\n",
    "# Call function to create model and measure its performance\n",
    "build_measure_model(DTmodels)"
   ]
  },
  {
   "cell_type": "markdown",
   "metadata": {},
   "source": [
    "### Random Forest performance Metrics"
   ]
  },
  {
   "cell_type": "code",
   "execution_count": 242,
   "metadata": {},
   "outputs": [
    {
     "name": "stdout",
     "output_type": "stream",
     "text": [
      "Model Name : RF-imbalance\n",
      "Train Accuracy :0.99996\n",
      "Test Accuracy :0.99951\n",
      "Train AUC : 0.98986\n",
      "Test AUC : 0.87412\n",
      "Train Precision : 1.00000\n",
      "Test Precision : 0.95652\n",
      "Train Recall : 0.97971\n",
      "Test Recall : 0.74830\n",
      "Train F1 : 0.98975\n",
      "Test F1 : 0.83969\n",
      "Confusion Matrix : \n",
      " [[85291     5]\n",
      " [   37   110]]\n",
      "\n",
      "\n",
      "Model Name : RF-Undersampling\n",
      "Train Accuracy :1.00000\n",
      "Test Accuracy :0.93243\n",
      "Train AUC : 1.00000\n",
      "Test AUC : 0.93284\n",
      "Train Precision : 1.00000\n",
      "Test Precision : 0.99237\n",
      "Train Recall : 1.00000\n",
      "Test Recall : 0.87248\n",
      "Train F1 : 1.00000\n",
      "Test F1 : 0.92857\n",
      "Confusion Matrix : \n",
      " [[146   1]\n",
      " [ 19 130]]\n",
      "\n",
      "\n",
      "Model Name : RF-Oversampling\n",
      "Train Accuracy :1.00000\n",
      "Test Accuracy :0.99995\n",
      "Train AUC : 1.00000\n",
      "Test AUC : 0.99995\n",
      "Train Precision : 1.00000\n",
      "Test Precision : 0.99991\n",
      "Train Recall : 1.00000\n",
      "Test Recall : 1.00000\n",
      "Train F1 : 1.00000\n",
      "Test F1 : 0.99995\n",
      "Confusion Matrix : \n",
      " [[85164     8]\n",
      " [    0 85417]]\n",
      "\n",
      "\n",
      "Model Name : RF-SMOTE\n",
      "Train Accuracy :0.99997\n",
      "Test Accuracy :0.99983\n",
      "Train AUC : 0.99997\n",
      "Test AUC : 0.99983\n",
      "Train Precision : 0.99995\n",
      "Test Precision : 0.99966\n",
      "Train Recall : 1.00000\n",
      "Test Recall : 1.00000\n",
      "Train F1 : 0.99997\n",
      "Test F1 : 0.99983\n",
      "Confusion Matrix : \n",
      " [[85143    29]\n",
      " [    0 85417]]\n",
      "\n",
      "\n"
     ]
    }
   ],
   "source": [
    "RFmodels = []\n",
    "\n",
    "#model built after Hyperparameter tuning\n",
    "RFi = RandomForestClassifier(max_features='log2', n_estimators= 25, max_depth=20, criterion='entropy')\n",
    "RFu = RandomForestClassifier(max_features='auto', n_estimators= 25, max_depth=20, criterion='entropy')\n",
    "RFo = RandomForestClassifier(max_features='auto', n_estimators= 10, max_depth=20, criterion='entropy')\n",
    "RFs = RandomForestClassifier(max_features='auto', n_estimators= 25, max_depth=20, criterion='entropy')\n",
    "\n",
    "RFmodels.append(('RF-imbalance', RFi,X,y))\n",
    "RFmodels.append(('RF-Undersampling', RFu,X_rus, y_rus))\n",
    "RFmodels.append(('RF-Oversampling', RFo,X_ros, y_ros))\n",
    "RFmodels.append(('RF-SMOTE', RFs,X_smote, y_smote))\n",
    "\n",
    "# Call function to create model and measure its performance\n",
    "build_measure_model(RFmodels)"
   ]
  },
  {
   "cell_type": "markdown",
   "metadata": {},
   "source": [
    "### XGBoost performance Metrics"
   ]
  },
  {
   "cell_type": "code",
   "execution_count": 243,
   "metadata": {},
   "outputs": [
    {
     "name": "stdout",
     "output_type": "stream",
     "text": [
      "Model Name : XGB-imbalance\n",
      "Train Accuracy :0.99986\n",
      "Test Accuracy :0.99951\n",
      "Train AUC : 0.95942\n",
      "Test AUC : 0.88091\n",
      "Train Precision : 1.00000\n",
      "Test Precision : 0.94118\n",
      "Train Recall : 0.91884\n",
      "Test Recall : 0.76190\n",
      "Train F1 : 0.95770\n",
      "Test F1 : 0.84211\n",
      "Confusion Matrix : \n",
      " [[85289     7]\n",
      " [   35   112]]\n",
      "\n",
      "\n",
      "Model Name : XGB-Undersampling\n",
      "Train Accuracy :0.98256\n",
      "Test Accuracy :0.93581\n",
      "Train AUC : 0.98251\n",
      "Test AUC : 0.93606\n",
      "Train Precision : 1.00000\n",
      "Test Precision : 0.97101\n",
      "Train Recall : 0.96501\n",
      "Test Recall : 0.89933\n",
      "Train F1 : 0.98220\n",
      "Test F1 : 0.93380\n",
      "Confusion Matrix : \n",
      " [[143   4]\n",
      " [ 15 134]]\n",
      "\n",
      "\n",
      "Model Name : XGB-Oversampling\n",
      "Train Accuracy :0.99976\n",
      "Test Accuracy :0.99976\n",
      "Train AUC : 0.99976\n",
      "Test AUC : 0.99976\n",
      "Train Precision : 0.99952\n",
      "Test Precision : 0.99952\n",
      "Train Recall : 1.00000\n",
      "Test Recall : 1.00000\n",
      "Train F1 : 0.99976\n",
      "Test F1 : 0.99976\n",
      "Confusion Matrix : \n",
      " [[85131    41]\n",
      " [    0 85417]]\n",
      "\n",
      "\n",
      "Model Name : XGB-SMOTE\n",
      "Train Accuracy :0.99715\n",
      "Test Accuracy :0.99660\n",
      "Train AUC : 0.99715\n",
      "Test AUC : 0.99660\n",
      "Train Precision : 0.99753\n",
      "Test Precision : 0.99685\n",
      "Train Recall : 0.99677\n",
      "Test Recall : 0.99636\n",
      "Train F1 : 0.99715\n",
      "Test F1 : 0.99660\n",
      "Confusion Matrix : \n",
      " [[84903   269]\n",
      " [  311 85106]]\n",
      "\n",
      "\n"
     ]
    }
   ],
   "source": [
    "XGBmodels = []\n",
    "\n",
    "#model built after Hyperparameter tuning\n",
    "XGBi = XGBClassifier(colsample_bytree = 0.3, gamma =0, learning_rate = 0.2, \n",
    "                     max_depth = 7, min_child_weight =1, n_estimators = 50)\n",
    "XGBu = XGBClassifier(colsample_bytree = 0.5, gamma =0.2, learning_rate = 0.2, \n",
    "                     max_depth = 3, min_child_weight =1, n_estimators = 25)\n",
    "XGBo = XGBClassifier(colsample_bytree = 0.3, gamma =0, learning_rate = 0.3,\n",
    "                          max_depth = 9, min_child_weight =1, n_estimators = 10)\n",
    "XGBs = XGBClassifier(colsample_bytree = 0.7, gamma =0.3, learning_rate = 0.3, \n",
    "                     max_depth = 9, min_child_weight =1, n_estimators = 10)\n",
    "\n",
    "XGBmodels.append(('XGB-imbalance', XGBi,X,y))\n",
    "XGBmodels.append(('XGB-Undersampling', XGBu,X_rus, y_rus))\n",
    "XGBmodels.append(('XGB-Oversampling', XGBo,X_ros, y_ros))\n",
    "XGBmodels.append(('XGB-SMOTE', XGBs,X_smote,y_smote))\n",
    "\n",
    "# Call function to create model and measure its performance\n",
    "build_measure_model(XGBmodels)"
   ]
  },
  {
   "cell_type": "markdown",
   "metadata": {},
   "source": [
    "### Building a Dataframe to check the performance measure for each model built"
   ]
  },
  {
   "cell_type": "code",
   "execution_count": 244,
   "metadata": {},
   "outputs": [
    {
     "name": "stdout",
     "output_type": "stream",
     "text": [
      "Performance measures of various classifiers: \n",
      "\n"
     ]
    },
    {
     "data": {
      "text/html": [
       "<div>\n",
       "<style scoped>\n",
       "    .dataframe tbody tr th:only-of-type {\n",
       "        vertical-align: middle;\n",
       "    }\n",
       "\n",
       "    .dataframe tbody tr th {\n",
       "        vertical-align: top;\n",
       "    }\n",
       "\n",
       "    .dataframe thead th {\n",
       "        text-align: right;\n",
       "    }\n",
       "</style>\n",
       "<table border=\"1\" class=\"dataframe\">\n",
       "  <thead>\n",
       "    <tr style=\"text-align: right;\">\n",
       "      <th></th>\n",
       "      <th>Model</th>\n",
       "      <th>Accuracy_Train</th>\n",
       "      <th>Accuracy_Test</th>\n",
       "      <th>AUC_Train</th>\n",
       "      <th>AUC_Test</th>\n",
       "      <th>Precision_Train</th>\n",
       "      <th>Precision_Test</th>\n",
       "      <th>Recall_Train</th>\n",
       "      <th>Recall_Test</th>\n",
       "      <th>F1_Train</th>\n",
       "      <th>F1_Test</th>\n",
       "    </tr>\n",
       "  </thead>\n",
       "  <tbody>\n",
       "    <tr>\n",
       "      <th>10</th>\n",
       "      <td>RF-Oversampling</td>\n",
       "      <td>1.000000</td>\n",
       "      <td>0.999953</td>\n",
       "      <td>1.000000</td>\n",
       "      <td>0.999953</td>\n",
       "      <td>1.000000</td>\n",
       "      <td>0.999906</td>\n",
       "      <td>1.000000</td>\n",
       "      <td>1.000000</td>\n",
       "      <td>1.000000</td>\n",
       "      <td>0.999953</td>\n",
       "    </tr>\n",
       "    <tr>\n",
       "      <th>11</th>\n",
       "      <td>RF-SMOTE</td>\n",
       "      <td>0.999975</td>\n",
       "      <td>0.999830</td>\n",
       "      <td>0.999975</td>\n",
       "      <td>0.999830</td>\n",
       "      <td>0.999950</td>\n",
       "      <td>0.999661</td>\n",
       "      <td>1.000000</td>\n",
       "      <td>1.000000</td>\n",
       "      <td>0.999975</td>\n",
       "      <td>0.999830</td>\n",
       "    </tr>\n",
       "    <tr>\n",
       "      <th>14</th>\n",
       "      <td>XGB-Oversampling</td>\n",
       "      <td>0.999759</td>\n",
       "      <td>0.999760</td>\n",
       "      <td>0.999759</td>\n",
       "      <td>0.999759</td>\n",
       "      <td>0.999518</td>\n",
       "      <td>0.999520</td>\n",
       "      <td>1.000000</td>\n",
       "      <td>1.000000</td>\n",
       "      <td>0.999759</td>\n",
       "      <td>0.999760</td>\n",
       "    </tr>\n",
       "    <tr>\n",
       "      <th>15</th>\n",
       "      <td>XGB-SMOTE</td>\n",
       "      <td>0.997154</td>\n",
       "      <td>0.996600</td>\n",
       "      <td>0.997153</td>\n",
       "      <td>0.996600</td>\n",
       "      <td>0.997530</td>\n",
       "      <td>0.996849</td>\n",
       "      <td>0.996772</td>\n",
       "      <td>0.996359</td>\n",
       "      <td>0.997151</td>\n",
       "      <td>0.996604</td>\n",
       "    </tr>\n",
       "    <tr>\n",
       "      <th>2</th>\n",
       "      <td>LR-Oversampling</td>\n",
       "      <td>0.949166</td>\n",
       "      <td>0.948350</td>\n",
       "      <td>0.949149</td>\n",
       "      <td>0.948389</td>\n",
       "      <td>0.975889</td>\n",
       "      <td>0.974858</td>\n",
       "      <td>0.921025</td>\n",
       "      <td>0.920590</td>\n",
       "      <td>0.947664</td>\n",
       "      <td>0.946947</td>\n",
       "    </tr>\n",
       "    <tr>\n",
       "      <th>3</th>\n",
       "      <td>LR-SMOTE</td>\n",
       "      <td>0.946106</td>\n",
       "      <td>0.946239</td>\n",
       "      <td>0.946088</td>\n",
       "      <td>0.946280</td>\n",
       "      <td>0.974079</td>\n",
       "      <td>0.973237</td>\n",
       "      <td>0.916535</td>\n",
       "      <td>0.917873</td>\n",
       "      <td>0.944431</td>\n",
       "      <td>0.944745</td>\n",
       "    </tr>\n",
       "    <tr>\n",
       "      <th>1</th>\n",
       "      <td>LR-Undersampling</td>\n",
       "      <td>0.952035</td>\n",
       "      <td>0.942568</td>\n",
       "      <td>0.951963</td>\n",
       "      <td>0.942816</td>\n",
       "      <td>0.975460</td>\n",
       "      <td>0.978261</td>\n",
       "      <td>0.927114</td>\n",
       "      <td>0.906040</td>\n",
       "      <td>0.950673</td>\n",
       "      <td>0.940767</td>\n",
       "    </tr>\n",
       "    <tr>\n",
       "      <th>13</th>\n",
       "      <td>XGB-Undersampling</td>\n",
       "      <td>0.982558</td>\n",
       "      <td>0.935811</td>\n",
       "      <td>0.982507</td>\n",
       "      <td>0.936059</td>\n",
       "      <td>1.000000</td>\n",
       "      <td>0.971014</td>\n",
       "      <td>0.965015</td>\n",
       "      <td>0.899329</td>\n",
       "      <td>0.982196</td>\n",
       "      <td>0.933798</td>\n",
       "    </tr>\n",
       "    <tr>\n",
       "      <th>9</th>\n",
       "      <td>RF-Undersampling</td>\n",
       "      <td>1.000000</td>\n",
       "      <td>0.932432</td>\n",
       "      <td>1.000000</td>\n",
       "      <td>0.932840</td>\n",
       "      <td>1.000000</td>\n",
       "      <td>0.992366</td>\n",
       "      <td>1.000000</td>\n",
       "      <td>0.872483</td>\n",
       "      <td>1.000000</td>\n",
       "      <td>0.928571</td>\n",
       "    </tr>\n",
       "    <tr>\n",
       "      <th>6</th>\n",
       "      <td>DT-Oversampling</td>\n",
       "      <td>0.929889</td>\n",
       "      <td>0.929820</td>\n",
       "      <td>0.929849</td>\n",
       "      <td>0.929914</td>\n",
       "      <td>0.994992</td>\n",
       "      <td>0.995039</td>\n",
       "      <td>0.864041</td>\n",
       "      <td>0.864149</td>\n",
       "      <td>0.924904</td>\n",
       "      <td>0.924987</td>\n",
       "    </tr>\n",
       "    <tr>\n",
       "      <th>7</th>\n",
       "      <td>DT-SMOTE</td>\n",
       "      <td>0.928422</td>\n",
       "      <td>0.928852</td>\n",
       "      <td>0.928410</td>\n",
       "      <td>0.928879</td>\n",
       "      <td>0.945148</td>\n",
       "      <td>0.945569</td>\n",
       "      <td>0.909542</td>\n",
       "      <td>0.910311</td>\n",
       "      <td>0.927003</td>\n",
       "      <td>0.927605</td>\n",
       "    </tr>\n",
       "    <tr>\n",
       "      <th>5</th>\n",
       "      <td>DT-Undersampling</td>\n",
       "      <td>0.947674</td>\n",
       "      <td>0.925676</td>\n",
       "      <td>0.947539</td>\n",
       "      <td>0.926174</td>\n",
       "      <td>0.993569</td>\n",
       "      <td>1.000000</td>\n",
       "      <td>0.900875</td>\n",
       "      <td>0.852349</td>\n",
       "      <td>0.944954</td>\n",
       "      <td>0.920290</td>\n",
       "    </tr>\n",
       "    <tr>\n",
       "      <th>12</th>\n",
       "      <td>XGB-imbalance</td>\n",
       "      <td>0.999860</td>\n",
       "      <td>0.999508</td>\n",
       "      <td>0.959420</td>\n",
       "      <td>0.880911</td>\n",
       "      <td>1.000000</td>\n",
       "      <td>0.941176</td>\n",
       "      <td>0.918841</td>\n",
       "      <td>0.761905</td>\n",
       "      <td>0.957704</td>\n",
       "      <td>0.842105</td>\n",
       "    </tr>\n",
       "    <tr>\n",
       "      <th>4</th>\n",
       "      <td>DT-imbalance</td>\n",
       "      <td>0.999428</td>\n",
       "      <td>0.999380</td>\n",
       "      <td>0.899887</td>\n",
       "      <td>0.880847</td>\n",
       "      <td>0.859813</td>\n",
       "      <td>0.861538</td>\n",
       "      <td>0.800000</td>\n",
       "      <td>0.761905</td>\n",
       "      <td>0.828829</td>\n",
       "      <td>0.808664</td>\n",
       "    </tr>\n",
       "    <tr>\n",
       "      <th>8</th>\n",
       "      <td>RF-imbalance</td>\n",
       "      <td>0.999965</td>\n",
       "      <td>0.999508</td>\n",
       "      <td>0.989855</td>\n",
       "      <td>0.874120</td>\n",
       "      <td>1.000000</td>\n",
       "      <td>0.956522</td>\n",
       "      <td>0.979710</td>\n",
       "      <td>0.748299</td>\n",
       "      <td>0.989751</td>\n",
       "      <td>0.839695</td>\n",
       "    </tr>\n",
       "    <tr>\n",
       "      <th>0</th>\n",
       "      <td>LR-imbalance</td>\n",
       "      <td>0.999197</td>\n",
       "      <td>0.999204</td>\n",
       "      <td>0.810072</td>\n",
       "      <td>0.809453</td>\n",
       "      <td>0.880658</td>\n",
       "      <td>0.883495</td>\n",
       "      <td>0.620290</td>\n",
       "      <td>0.619048</td>\n",
       "      <td>0.727891</td>\n",
       "      <td>0.728000</td>\n",
       "    </tr>\n",
       "  </tbody>\n",
       "</table>\n",
       "</div>"
      ],
      "text/plain": [
       "                Model  Accuracy_Train  Accuracy_Test  AUC_Train  AUC_Test  \\\n",
       "10    RF-Oversampling        1.000000       0.999953   1.000000  0.999953   \n",
       "11           RF-SMOTE        0.999975       0.999830   0.999975  0.999830   \n",
       "14   XGB-Oversampling        0.999759       0.999760   0.999759  0.999759   \n",
       "15          XGB-SMOTE        0.997154       0.996600   0.997153  0.996600   \n",
       "2     LR-Oversampling        0.949166       0.948350   0.949149  0.948389   \n",
       "3            LR-SMOTE        0.946106       0.946239   0.946088  0.946280   \n",
       "1    LR-Undersampling        0.952035       0.942568   0.951963  0.942816   \n",
       "13  XGB-Undersampling        0.982558       0.935811   0.982507  0.936059   \n",
       "9    RF-Undersampling        1.000000       0.932432   1.000000  0.932840   \n",
       "6     DT-Oversampling        0.929889       0.929820   0.929849  0.929914   \n",
       "7            DT-SMOTE        0.928422       0.928852   0.928410  0.928879   \n",
       "5    DT-Undersampling        0.947674       0.925676   0.947539  0.926174   \n",
       "12      XGB-imbalance        0.999860       0.999508   0.959420  0.880911   \n",
       "4        DT-imbalance        0.999428       0.999380   0.899887  0.880847   \n",
       "8        RF-imbalance        0.999965       0.999508   0.989855  0.874120   \n",
       "0        LR-imbalance        0.999197       0.999204   0.810072  0.809453   \n",
       "\n",
       "    Precision_Train  Precision_Test  Recall_Train  Recall_Test  F1_Train  \\\n",
       "10         1.000000        0.999906      1.000000     1.000000  1.000000   \n",
       "11         0.999950        0.999661      1.000000     1.000000  0.999975   \n",
       "14         0.999518        0.999520      1.000000     1.000000  0.999759   \n",
       "15         0.997530        0.996849      0.996772     0.996359  0.997151   \n",
       "2          0.975889        0.974858      0.921025     0.920590  0.947664   \n",
       "3          0.974079        0.973237      0.916535     0.917873  0.944431   \n",
       "1          0.975460        0.978261      0.927114     0.906040  0.950673   \n",
       "13         1.000000        0.971014      0.965015     0.899329  0.982196   \n",
       "9          1.000000        0.992366      1.000000     0.872483  1.000000   \n",
       "6          0.994992        0.995039      0.864041     0.864149  0.924904   \n",
       "7          0.945148        0.945569      0.909542     0.910311  0.927003   \n",
       "5          0.993569        1.000000      0.900875     0.852349  0.944954   \n",
       "12         1.000000        0.941176      0.918841     0.761905  0.957704   \n",
       "4          0.859813        0.861538      0.800000     0.761905  0.828829   \n",
       "8          1.000000        0.956522      0.979710     0.748299  0.989751   \n",
       "0          0.880658        0.883495      0.620290     0.619048  0.727891   \n",
       "\n",
       "     F1_Test  \n",
       "10  0.999953  \n",
       "11  0.999830  \n",
       "14  0.999760  \n",
       "15  0.996604  \n",
       "2   0.946947  \n",
       "3   0.944745  \n",
       "1   0.940767  \n",
       "13  0.933798  \n",
       "9   0.928571  \n",
       "6   0.924987  \n",
       "7   0.927605  \n",
       "5   0.920290  \n",
       "12  0.842105  \n",
       "4   0.808664  \n",
       "8   0.839695  \n",
       "0   0.728000  "
      ]
     },
     "execution_count": 244,
     "metadata": {},
     "output_type": "execute_result"
    }
   ],
   "source": [
    "data = {'Model':names_lst,\n",
    "       'Accuracy_Train':accuracy_train_lst,\n",
    "       'Accuracy_Test':accuracy_test_lst,\n",
    "       'AUC_Train':aucs_train_lst,\n",
    "       'AUC_Test':aucs_test_lst,\n",
    "       'Precision_Train':precision_train_lst,\n",
    "       'Precision_Test':precision_test_lst,\n",
    "       'Recall_Train':recall_train_lst,\n",
    "       'Recall_Test':recall_test_lst,\n",
    "       'F1_Train':f1_train_lst,\n",
    "       'F1_Test':f1_test_lst}\n",
    "\n",
    "print(\"Performance measures of various classifiers: \\n\")\n",
    "performance_df = pd.DataFrame(data) \n",
    "performance_df.sort_values(['AUC_Test','Recall_Test','F1_Test'],ascending=False)"
   ]
  },
  {
   "cell_type": "markdown",
   "metadata": {},
   "source": [
    "### Inference"
   ]
  },
  {
   "cell_type": "markdown",
   "metadata": {},
   "source": [
    "Above is the result of the models trained. The scores for `Random Forest with Oversampling technique and the Random Forest with SMOTE technique models` are apt for our dataset! Each model has a high true positive rate and a low false-positive rate, which is exactly what we’re looking for.\n",
    "\n",
    "The AUC scores for Random Forest with Oversampling technique is pretty high, which is what we need to check in our current dataset.The curve in AUC capture more True Positives but also incur more False Positives. This means we capture more fraudulent transactions, but also flag even more normal transactions as fraudulent. <b>So we will be using Random Forest with Oversampling technique as our final model, as this gives Recall score of 100% on both train and test datasets.</b>"
   ]
  },
  {
   "cell_type": "markdown",
   "metadata": {},
   "source": [
    "## Best features using Random Forest oversampling technique"
   ]
  },
  {
   "cell_type": "code",
   "execution_count": 248,
   "metadata": {},
   "outputs": [
    {
     "data": {
      "text/plain": [
       "V12    0.190964\n",
       "V14    0.119398\n",
       "V4     0.108255\n",
       "V17    0.089494\n",
       "V10    0.080794\n",
       "V16    0.063358\n",
       "V3     0.059768\n",
       "V7     0.041536\n",
       "V11    0.026969\n",
       "V18    0.026460\n",
       "dtype: float64"
      ]
     },
     "execution_count": 248,
     "metadata": {},
     "output_type": "execute_result"
    }
   ],
   "source": [
    "# Model used to fit the data in Random Forest using oversampling technique\n",
    "# rfc.fit(X_train_ros, y_train_ros)\n",
    "\n",
    "# display the relative importance of each attribute\n",
    "imp_feature_scores = pd.Series(rfc.feature_importances_, index=X_train_ros.columns).sort_values(ascending=False)\n",
    "\n",
    "imp_feature_scores.head(10)"
   ]
  },
  {
   "cell_type": "code",
   "execution_count": 251,
   "metadata": {},
   "outputs": [
    {
     "data": {
      "text/plain": [
       "<matplotlib.axes._subplots.AxesSubplot at 0x24c85c08688>"
      ]
     },
     "execution_count": 251,
     "metadata": {},
     "output_type": "execute_result"
    },
    {
     "data": {
      "image/png": "[encoded data removed]",
      "text/plain": [
       "<Figure size 432x288 with 1 Axes>"
      ]
     },
     "metadata": {},
     "output_type": "display_data"
    }
   ],
   "source": [
    "imp_feature_scores.sort_values(axis=0, ascending=True).plot(kind='barh',color='b')"
   ]
  },
  {
   "cell_type": "markdown",
   "metadata": {},
   "source": [
    "<b> Above are the 10 important features in the order of most important feature to the least. This model using oversampling technique will help in accurately identify fraudulent credit card transactions.</b>\n",
    "\n",
    "### Conclusion:\n",
    "\n",
    "1. We modeled the data set of credit card transactions to achieve 100% accuracy for fraud detection. However, it was observed that at achieving 100% accuracy for fraud detection the number of incorrectly classified fraud transactions were higher than is desired. Such models will intially capture all the frauds, but will rigorously classify non-frauds as fradulent as well. It can be modelled further to reduce such undesired classifications, but will not miss out on any fraud transaction.\n",
    "\n",
    "2. We further analysed that, this number can be significantly reduced by relaxing the data model at the cost of lowering the fraud detection accuracy by a small margin. Such models might leave out a few fraud transactions, but will reduce the effort of segregating the incorrect non-fraud classifications as well. \n",
    "\n",
    "3. By having higher RECALL value it is saving the Credit Card Company from bigger frauds and also helps in identifying correct fraudulent activities."
   ]
  },
  {
   "cell_type": "code",
   "execution_count": null,
   "metadata": {},
   "outputs": [],
   "source": []
  }
 ],
 "metadata": {
  "kernelspec": {
   "display_name": "Python 3",
   "language": "python",
   "name": "python3"
  },
  "language_info": {
   "codemirror_mode": {
    "name": "ipython",
    "version": 3
   },
   "file_extension": ".py",
   "mimetype": "text/x-python",
   "name": "python",
   "nbconvert_exporter": "python",
   "pygments_lexer": "ipython3",
   "version": "3.7.4"
  }
 },
 "nbformat": 4,
 "nbformat_minor": 4
}
